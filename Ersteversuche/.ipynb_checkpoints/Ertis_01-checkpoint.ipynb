{
 "cells": [
  {
   "cell_type": "code",
   "execution_count": 2,
   "metadata": {},
   "outputs": [],
   "source": [
    "from pyknon.genmidi import Midi\n",
    "from pyknon.music import NoteSeq\n",
    "import numpy as np"
   ]
  },
  {
   "cell_type": "code",
   "execution_count": 3,
   "metadata": {},
   "outputs": [],
   "source": [
    "def angel_trans(grad):\n",
    "    rad = (grad *np.pi) / 180\n",
    "    return rad\n",
    "\n",
    "#grad = 0\n",
    "#print( str(angel_trans(grad))) "
   ]
  },
  {
   "cell_type": "code",
   "execution_count": 4,
   "metadata": {},
   "outputs": [],
   "source": [
    "frame_dur = [1,3,5,6,8,10,12]\n",
    "\n",
    "def roud_to_frame(frame, num):\n",
    "    array = np.asarray(frame)\n",
    "     = (np.abs(frame - num)).argmin()\n",
    "    return frame[idx]"
   ]
  },
  {
   "cell_type": "code",
   "execution_count": 5,
   "metadata": {},
   "outputs": [],
   "source": [
    "def mod12(n):\n",
    "    return n % 12\n",
    "\n",
    "def note_name(number):\n",
    "    notes = \"C C# D D# E F F# G G# A A# B\".split()\n",
    "    return notes[mod12(number)]"
   ]
  },
  {
   "cell_type": "code",
   "execution_count": 10,
   "metadata": {},
   "outputs": [],
   "source": [
    "#--main--\n",
    "\n",
    "seq = \"\"\n",
    "for i in range(-90,270,20):\n",
    "    sin = np.sin(angel_trans(i))\n",
    "    num = int(round((sin+1)*6))\n",
    "    note = note_name(num)\n",
    "    seq = seq + note + \" \""
   ]
  },
  {
   "cell_type": "code",
   "execution_count": 12,
   "metadata": {},
   "outputs": [
    {
     "name": "stdout",
     "output_type": "stream",
     "text": [
      "C C C# D# F G A B C C C B A G F D# C# C \n"
     ]
    }
   ],
   "source": [
    "print(seq)\n",
    "notes1 = NoteSeq(seq)\n",
    "midi = Midi(1, tempo=120)\n",
    "midi.seq_notes(notes1, track=0)\n",
    "midi.write(\"demo.mid\")"
   ]
  },
  {
   "cell_type": "code",
   "execution_count": null,
   "metadata": {},
   "outputs": [],
   "source": []
  }
 ],
 "metadata": {
  "kernelspec": {
   "display_name": "Python 3",
   "language": "python",
   "name": "python3"
  },
  "language_info": {
   "codemirror_mode": {
    "name": "ipython",
    "version": 3
   },
   "file_extension": ".py",
   "mimetype": "text/x-python",
   "name": "python",
   "nbconvert_exporter": "python",
   "pygments_lexer": "ipython3",
   "version": "3.6.8"
  }
 },
 "nbformat": 4,
 "nbformat_minor": 2
}
