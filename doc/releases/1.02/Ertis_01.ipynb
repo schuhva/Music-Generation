{
 "cells": [
  {
   "cell_type": "markdown",
   "metadata": {},
   "source": [
    "# 1.02\n",
    "\n",
    "Trying out diffrent libraries which can generate sound in python"
   ]
  },
  {
   "cell_type": "markdown",
   "metadata": {},
   "source": [
    "## pyknon\n",
    "1. output only as midi\n",
    "2. has many features\n"
   ]
  },
  {
   "cell_type": "code",
   "execution_count": 2,
   "metadata": {},
   "outputs": [],
   "source": [
    "from pyknon.genmidi import Midi\n",
    "from pyknon.music import NoteSeq\n",
    "import numpy as np"
   ]
  },
  {
   "cell_type": "code",
   "execution_count": 3,
   "metadata": {},
   "outputs": [],
   "source": [
    "def angel_trans(grad):\n",
    "    rad = (grad *np.pi) / 180\n",
    "    return rad\n"
   ]
  },
  {
   "cell_type": "markdown",
   "metadata": {},
   "source": [
    "a simpele major frame in which the melody can play"
   ]
  },
  {
   "cell_type": "code",
   "execution_count": 8,
   "metadata": {},
   "outputs": [],
   "source": [
    "frame_dur = [0,2,4,5,7,9,11,12]\n",
    "frame_moll = [0,2,3,5,7,8,10,12]\n",
    "\n",
    "def roud_to_frame(frame, num):\n",
    "    array = np.asarray(frame)\n",
    "    listnr = (np.abs(frame - num)).argmin()\n",
    "    return frame[listnr]"
   ]
  },
  {
   "cell_type": "code",
   "execution_count": 9,
   "metadata": {},
   "outputs": [],
   "source": [
    "def mod12(n):\n",
    "    return n % 12\n",
    "\n",
    "def note_name(number):\n",
    "    notes = \"C C# D D# E F F# G G# A A# B C\".split()\n",
    "    return notes[mod12(number)]"
   ]
  },
  {
   "cell_type": "code",
   "execution_count": 12,
   "metadata": {},
   "outputs": [],
   "source": [
    "#--main--\n",
    "\n",
    "seq = \"\"\n",
    "for i in range(-90,270,20):\n",
    "    sin = np.sin(angel_trans(i))\n",
    "    normal = (sin+1)*6\n",
    "    num = roud_to_frame(frame_moll, normal)\n",
    "    note = note_name(num)\n",
    "    seq = seq + note + \" \""
   ]
  },
  {
   "cell_type": "code",
   "execution_count": 13,
   "metadata": {},
   "outputs": [
    {
     "name": "stdout",
     "output_type": "stream",
     "text": [
      "C C D D# F G G# A# C C C A# G# G F D# D C \n"
     ]
    }
   ],
   "source": [
    "print(seq)\n",
    "notes1 = NoteSeq(seq)\n",
    "midi = Midi(1, tempo=120)\n",
    "midi.seq_notes(notes1, track=0)\n",
    "midi.write(\"demo.mid\")"
   ]
  },
  {
   "cell_type": "markdown",
   "metadata": {},
   "source": [
    "## pyfluidsynth\n",
    "more or less an python api for fluidsynth\n",
    "direct sound output\n",
    "suports several channels with diffrent instruments (Gneral-Midi)\n",
    "todo: ouput as an audio file."
   ]
  },
  {
   "cell_type": "code",
   "execution_count": 14,
   "metadata": {},
   "outputs": [
    {
     "name": "stdout",
     "output_type": "stream",
     "text": [
      "(0, 0, 0, b'')\n"
     ]
    }
   ],
   "source": [
    "import time\n",
    "import fluidsynth\n",
    "\n",
    "fs = fluidsynth.Synth()\n",
    "\n",
    "#fs.start()\n",
    "fs.start(driver=\"alsa\")\n",
    "\n",
    "sfid = fs.sfload(\"/usr/share/sounds/sf3/MuseScore_General.sf3\")\n",
    "fs.program_select(0, sfid, 35, 0)\n",
    "print(fs.channel_info(0))\n",
    "\n",
    "fs.noteon(0, 60, 30)\n",
    "fs.noteon(0, 67, 30)\n",
    "fs.noteon(0, 76, 30)\n",
    "\n",
    "time.sleep(1.0)\n",
    "\n",
    "fs.noteon(0, 60, 30)\n",
    "fs.noteon(0, 67, 30)\n",
    "fs.noteon(0, 76, 30)\n",
    "\n",
    "time.sleep(1.0)\n",
    "\n",
    "fs.noteoff(0, 60)\n",
    "fs.noteoff(0, 67)\n",
    "fs.noteoff(0, 76)\n",
    "\n",
    "time.sleep(1.0)\n",
    "\n",
    "fs.delete()"
   ]
  },
  {
   "cell_type": "markdown",
   "metadata": {},
   "source": [
    "## midi2audio\n",
    "midi to audio converter with FluidSynth"
   ]
  },
  {
   "cell_type": "code",
   "execution_count": 15,
   "metadata": {},
   "outputs": [],
   "source": [
    "from midi2audio import FluidSynth\n",
    "fs = FluidSynth('/usr/share/sounds/sf3/MuseScore_General.sf3')\n",
    "#fs.play_midi('demo.mid')\n",
    "fs.midi_to_audio('demo.mid', 'output.flac')"
   ]
  },
  {
   "cell_type": "raw",
   "metadata": {},
   "source": [
    ".. raw:: html\n",
    "\n",
    "    <audio controls=\"controls\">\n",
    "      <source src=\"https://raw.githubusercontent.com/schuhva/Music-Generation/master/doc/releases/1.02/output.flac\" type=\"audio/flac\">\n",
    "      Your browser does not support the <code>audio</code> element. \n",
    "    </audio>\n",
    "    \n",
    "https://raw.githubusercontent.com/schuhva/Music-Generation/master/doc/releases/1.02/output.flac\n",
    "\n"
   ]
  },
  {
   "cell_type": "code",
   "execution_count": null,
   "metadata": {},
   "outputs": [],
   "source": []
  },
  {
   "cell_type": "code",
   "execution_count": null,
   "metadata": {},
   "outputs": [],
   "source": []
  }
 ],
 "metadata": {
  "kernelspec": {
   "display_name": "Python 3",
   "language": "python",
   "name": "python3"
  },
  "language_info": {
   "codemirror_mode": {
    "name": "ipython",
    "version": 3
   },
   "file_extension": ".py",
   "mimetype": "text/x-python",
   "name": "python",
   "nbconvert_exporter": "python",
   "pygments_lexer": "ipython3",
   "version": "3.6.8"
  }
 },
 "nbformat": 4,
 "nbformat_minor": 2
}
