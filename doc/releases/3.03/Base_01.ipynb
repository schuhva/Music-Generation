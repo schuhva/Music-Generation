{
 "cells": [
  {
   "cell_type": "markdown",
   "metadata": {},
   "source": [
    "# 3.03 Chord pattern and Timpani\n",
    "\n",
    "* using Chord pattern lik in the versions 2.08 and 2.09\n",
    "* adding a easy Drumm funktion controlling the volume.\n"
   ]
  },
  {
   "cell_type": "code",
   "execution_count": 1,
   "metadata": {},
   "outputs": [],
   "source": [
    "from pyknon.genmidi import Midi\n",
    "from pyknon.music import Rest, Note, NoteSeq\n",
    "from music_generation import*\n",
    "import numpy as np\n",
    "import pandas as pd\n",
    "import matplotlib.pyplot as plt\n",
    "import matplotlib.ticker as plticker\n",
    "from datetime import date"
   ]
  },
  {
   "cell_type": "markdown",
   "metadata": {},
   "source": [
    "## Transform Meteo data"
   ]
  },
  {
   "cell_type": "code",
   "execution_count": 2,
   "metadata": {},
   "outputs": [
    {
     "name": "stdout",
     "output_type": "stream",
     "text": [
      "  Stao          time  T_Boden_20cm  V_Windböe  T_Chill  Flash_30km  Glob_rad  \\\n",
      "0  KLO  201908270000          20.4        1.2     14.2           0         2   \n",
      "1  KLO  201908270010          20.4        0.9     14.4           0         2   \n",
      "2  KLO  201908270020          20.4        1.1     14.4           0         1   \n",
      "3  KLO  201908270030          20.4        0.8     13.8           0         2   \n",
      "4  KLO  201908270040          20.4        0.5     14.2           0         2   \n",
      "\n",
      "     QFE  T_2m  Flash_3km  Rain_Sum  Rain_intens  H_rel  visibi  V_wind  \\\n",
      "0  968.2  14.2          0       0.0          0.0   99.6  6626.0     0.7   \n",
      "1  968.2  14.4          0       0.0          0.0   98.5  1277.0     0.5   \n",
      "2  968.2  14.4          0       0.0          0.0   98.6  4900.0     0.5   \n",
      "3  968.3  13.8          0       0.0          0.0   99.0  7417.0     0.6   \n",
      "4  968.2  14.2          0       0.0          0.0   99.7   981.0     0.4   \n",
      "\n",
      "   stabw_V_wind  direction_wind  \n",
      "0             9             110  \n",
      "1            40             198  \n",
      "2            28             333  \n",
      "3             4             326  \n",
      "4            30             256  \n",
      "-----------------\n",
      "NT, MP 2160 17\n"
     ]
    }
   ],
   "source": [
    "def scale(a):    return (a-a.min())/(a.max()-a.min())\n",
    "\n",
    "def read_meteo_data(fName):\n",
    "    colNames = ['Stao','time', 'T_Boden_20cm', 'V_Windböe', 'T_Chill', 'Flash_30km', 'Glob_rad', 'QFE','T_2m','Flash_3km','Rain_Sum','Rain_intens','H_rel','visibi','V_wind','stabw_V_wind','direction_wind']  \n",
    "    df = pd.read_csv(fName,sep=';', skiprows=3, names=colNames, na_values='-')\n",
    "    print(df.head())\n",
    "    return df\n",
    "\n",
    "fPath = '/mnt/daten/04_Schule/42_Kanti/Matrua/Music_generation/Organisation/MeteoSchweiz/Daten/'\n",
    "fName = 'order_74947_data.txt'\n",
    "dM = read_meteo_data(fPath+fName)\n",
    "\n",
    "#---- Parameter bestimmen -----------\n",
    "NT, MP = dM.shape\n",
    "print('-----------------')\n",
    "print('NT, MP', NT, MP)\n",
    "\n"
   ]
  },
  {
   "cell_type": "markdown",
   "metadata": {},
   "source": [
    "__met_transform__\n",
    "* the __rolling mean__ is to remove noise on the data. \n",
    "* the __factors__ are used to scale the melody, such that it plays in a certain range\n",
    "* __start__ defins the staring point of the melodies by removing the begin of the data"
   ]
  },
  {
   "cell_type": "code",
   "execution_count": null,
   "metadata": {},
   "outputs": [],
   "source": []
  },
  {
   "cell_type": "markdown",
   "metadata": {},
   "source": [
    "__Chords and scales__"
   ]
  },
  {
   "cell_type": "code",
   "execution_count": 3,
   "metadata": {},
   "outputs": [],
   "source": [
    "major = np.array([ 0, 2, 4, 5, 7, 9, 11])\n",
    "minor = np.array([ 0, 2, 3, 5, 7, 8, 10])  \n",
    "C7 = np.array([ 0, 4, 7, 10]) \n",
    "CM7 = np.array([ 0, 4, 7, 11])\n",
    "Cm7 = np.array([ 0, 3, 7, 10])\n",
    "Cm  = np.array([ 0, 3, 7])\n",
    "Cdim   = np.array([ 0, 3, 6])\n",
    "C   = np.array([ 0, 4, 7])\n",
    "power= np.array([ 0, 7])\n",
    "B= np.array([ 0])"
   ]
  },
  {
   "cell_type": "markdown",
   "metadata": {},
   "source": [
    "## Tune_W \n",
    "\n",
    "* This tune uses the temperature and humidity\n",
    "* With Bassoon and Clarinet\n",
    "* Chord pattern Cm Ab Fm Ddim G7 Cm Fm G7"
   ]
  },
  {
   "cell_type": "code",
   "execution_count": 79,
   "metadata": {},
   "outputs": [],
   "source": [
    "def tune_W():\n",
    "    tune_name = 'tune_W'  \n",
    "    np.random.seed(39)  #56\n",
    "    bar, bpb = 15, 4  # bar: Takt , bpb: beat per bar\n",
    "    melody_len = bar * bpb\n",
    "    mpb = 120   #minutes per beat.\n",
    "    start =10     # start in hours \n",
    "\n",
    "    trans = met_transform(dM,[1,1,1,1,0.5,1,0.38,1,1,1,0.1,1,4.5,1,1,],[6,6,6,6,6,6,6,6,6,6,6,6,6,6,2],start)\n",
    "    \n",
    "    #scales = [[1,CM7],[1,Cm7+9],[1,Cm7+2],[1,C7+7]] #rythem Change\n",
    "    #scales = [[4,C7],[2,C7+5],[2,C7],[1,C7+7],[1,C7+5],[2,C7]] # Blues  \n",
    "    scales = [[1,Cm],[1,C+8],[1,Cm+5],[1,Cdim+2],[1,C7+7],[1,Cm],[1,Cm+5],[1,C7+7]]\n",
    "    #scales = [[8,major]]\n",
    "    end_scale = [[1,Cm],[1,power]]\n",
    "    pattern = pattern_gen(scales, end_scale, melody_len)\n",
    "\n",
    "    # humidity\n",
    "    range_1 = liniar_range(44,51,70,76)\n",
    "    rythem1, notenr_1 = ran_duration([1/16,1/8, 1/4,1/2], [0,2,3,1], melody_len)\n",
    "    melody1 = meteo_melody(trans[10],pattern, 60, range_1, notenr_1, rythem1,mpb)\n",
    "    volumes1 = ran_volume([0,120], [1,8], notenr_1 )\n",
    "    notes1 = NoteSeq( [Note(no,octave=0, dur=du, volume=vo) for no,du,vo in zip(melody1,rythem1,volumes1)] )\n",
    "    \n",
    "    # temperature\n",
    "    range_2 = liniar_range(44,51,70,76)\n",
    "    rythem2, notenr_2 = ran_duration([1/16,1/8, 1/4,1/2], [0,2,3,2], melody_len)\n",
    "    melody2 = meteo_melody(trans[6],pattern, 66, range_2, notenr_2, rythem2,mpb)\n",
    "    volumes2 = ran_volume([0,120], [1,8], notenr_2 )\n",
    "    notes2 = NoteSeq( [Note(no,octave=0, dur=du, volume=vo) for no,du,vo in zip(melody2,rythem2,volumes2)] )\n",
    "\n",
    "    instruments = [70,71]\n",
    "    notes = [notes1,notes2]\n",
    "    return notes, instruments,tune_name"
   ]
  },
  {
   "cell_type": "raw",
   "metadata": {},
   "source": [
    ".. raw:: html\n",
    "\n",
    "    <br><audio controls=\"controls\" src=\"https://raw.githubusercontent.com/schuhva/Music-Generation/master/doc/releases/3.03/tune_W.flac\" type=\"audio/flac\"></audio>\n",
    "     tune_W\n",
    "     \n",
    "     <br><img src=\"https://raw.githubusercontent.com/schuhva/Music-Generation/master/doc/releases/3.02/tune_W-1.png\">\n",
    "     tune_W  <br><br><br>"
   ]
  },
  {
   "cell_type": "markdown",
   "metadata": {},
   "source": [
    "## Tune_X"
   ]
  },
  {
   "cell_type": "code",
   "execution_count": 95,
   "metadata": {},
   "outputs": [],
   "source": [
    "def tune_X():\n",
    "    tune_name = 'tune_X'  \n",
    "    #np.random.seed(56)\n",
    "    bar, bpb = 13, 4  # bar: Takt , bpb: beat per bar\n",
    "    melody_len = bar * bpb\n",
    "    mpb = 60   #minutes per beat.\n",
    "    start =276     # start in hours \n",
    "\n",
    "    trans = met_transform(dM,[1,1,1,1,1,4,0.8,1,500,1,0.2,1,4.5,4,1,],[6,6,6,6,6,6,6,6,6,6,6,6,6,6,2],start)\n",
    "    #print(dM[dM.columns[8]])\n",
    "    #plt.plot(trans[6,:300])\n",
    "    #np.set_printoptions(threshold=np.inf)\n",
    "    #print(trans[12,::20])\n",
    "    \n",
    "    \n",
    "    #scales = [[1,CM7],[1,Cm7+9],[1,Cm7+2],[1,C7+7]] #rythem Change\n",
    "    #scales = [[4,C7],[2,C7+5],[2,C7],[1,C7+7],[1,C7+5],[2,C7]] # Blues  \n",
    "    scales = [[8,major]]\n",
    "    end_scale = [[3,power]]\n",
    "    pattern = pattern_gen(scales, end_scale, melody_len)\n",
    "\n",
    "    # Pressure\n",
    "    range_1 = liniar_range(44,51,70,76)\n",
    "    rythem1, notenr_1 = ran_duration([1/32,1/8, 1/4,1/2], [0,2,3,1], melody_len)\n",
    "    melody1 = meteo_melody(trans[5],pattern, 60, range_1, notenr_1, rythem1,mpb)\n",
    "    volumes1 = ran_volume([0,100], [1,8], notenr_1 )\n",
    "    notes1 = NoteSeq( [Note(no,octave=0, dur=du, volume=vo) for no,du,vo in zip(melody1,rythem1,volumes1)] )\n",
    "    \n",
    "    # temp\n",
    "    range_2 = liniar_range(44,51,70,76)\n",
    "    rythem2, notenr_2 = ran_duration([1/16,1/8, 1/4,1/2], [0,2,3,2], melody_len)\n",
    "    melody2 = meteo_melody(trans[6],pattern, 65, range_2, notenr_2, rythem2,mpb)\n",
    "    volumes2 = ran_volume([0,100], [1,8], notenr_2 )\n",
    "    notes2 = NoteSeq( [Note(no,octave=0, dur=du, volume=vo) for no,du,vo in zip(melody2,rythem2,volumes2)] )\n",
    "    \n",
    "    #timpani rain\n",
    "    melody3, rythem3, volumes3 = met_percus(trans[8], pattern, [72,73], 1/16, [50,120], melody_len, mpb)\n",
    "    notes3 = NoteSeq( [Note(no,octave=0, dur=du, volume=vo) for no,du,vo in zip(melody3,rythem3,volumes3)] )\n",
    "    \n",
    "\n",
    "    \n",
    "    #plot_range([range_1],['range_1'],tune_name)\n",
    "    instruments = [70,61,47]\n",
    "    notes = [notes1,notes2,notes3]\n",
    "    return notes, instruments,tune_name"
   ]
  },
  {
   "cell_type": "code",
   "execution_count": 96,
   "metadata": {},
   "outputs": [],
   "source": [
    "def met_percus(meteo, pattern, note,frequ,volume, melody_len, mpb):\n",
    "\n",
    "    note_nr =  int(melody_len/(frequ*4))\n",
    "    print(melody_len,mpb,note_nr)\n",
    "    rythem = np.repeat(frequ,note_nr)\n",
    "    melody = np.repeat(note,note_nr/len(note))\n",
    "    volume = np.zeros(note_nr, dtype=int)\n",
    "    \n",
    "    for npn in range(note_nr):  #npn: note per note (index)      \n",
    "\n",
    "        met_resolution = 10\n",
    "        beat_nr = npn*frequ*4                                   #find beat nr\n",
    "        i_met = np.round((beat_nr*mpb)/met_resolution).astype(int)  # calulate index of the data array\n",
    "        vol = meteo[i_met]             # take the diffrence of the data\n",
    "        vol = np.round(vol).astype(int)                       # round to an int\n",
    "        volume[npn]= vol\n",
    "    volume = np.where(volume > 127, 127, volume)\n",
    "\n",
    "\n",
    "    return  melody, rythem, volume\n",
    "\n",
    "    "
   ]
  },
  {
   "cell_type": "raw",
   "metadata": {},
   "source": [
    ".. raw:: html\n",
    "\n",
    "    <br><audio controls=\"controls\" src=\"https://raw.githubusercontent.com/schuhva/Music-Generation/master/doc/releases/3.02/tune_U.flac\" type=\"audio/flac\"></audio>\n",
    "     tune_U\n",
    "     \n",
    "     <br><img src=\"https://raw.githubusercontent.com/schuhva/Music-Generation/master/doc/releases/3.02/tune_U-1.png\">\n",
    "     tune_T  <br><br><br>"
   ]
  },
  {
   "cell_type": "markdown",
   "metadata": {},
   "source": [
    "__Instruments:__\n",
    "Available are at lest the 128 General-Midi (GM) Instruments. Depending on the sound-fonts there is a bigger choise. A list of the GM instruments can be found here. https://jazz-soft.net/demo/GeneralMidi.html\n"
   ]
  },
  {
   "cell_type": "markdown",
   "metadata": {},
   "source": [
    "## Generate Midi and Audio file"
   ]
  },
  {
   "cell_type": "code",
   "execution_count": 97,
   "metadata": {},
   "outputs": [],
   "source": [
    "def gen_midi():\n",
    "#     squezze into a MIDI framework\n",
    "    notes, instruments, tune_name = tune_X() #  <--- select a tune  <<--     <<<<<<<<<--- select a tune -----\n",
    "    nTracks = len(notes)\n",
    "    \n",
    "    m = Midi(number_tracks=nTracks, tempo=120, instrument=instruments)\n",
    "    for iTrack in range(nTracks):\n",
    "        m.seq_notes(notes[iTrack], track=iTrack)\n",
    "\n",
    "    #--- write the MIDI file -----\n",
    "    midi_file_name = tune_name +'.mid'   # set the name of the file\n",
    "    m.write(midi_file_name)\n",
    "    return midi_file_name"
   ]
  },
  {
   "cell_type": "code",
   "execution_count": 99,
   "metadata": {},
   "outputs": [
    {
     "name": "stdout",
     "output_type": "stream",
     "text": [
      "52 60 208\n"
     ]
    },
    {
     "data": {
      "image/png": "[encoded data removed]",
      "text/plain": [
       "<Figure size 432x288 with 1 Axes>"
      ]
     },
     "metadata": {
      "needs_background": "light"
     },
     "output_type": "display_data"
    }
   ],
   "source": [
    "######---  Main  ---######\n",
    "midi_file_name = gen_midi()\n",
    "\n",
    "midi_play(midi_file_name)\n",
    "midi_audio(midi_file_name)\n",
    "midi_png(midi_file_name)\n"
   ]
  },
  {
   "cell_type": "markdown",
   "metadata": {},
   "source": [
    "\n",
    "\n",
    "\n"
   ]
  },
  {
   "cell_type": "markdown",
   "metadata": {},
   "source": [
    "### External __Music_Generation__ library\n",
    "This library changes from version to version. New or changed code is first explaind above. This is a copy of music_generation.py "
   ]
  },
  {
   "cell_type": "raw",
   "metadata": {},
   "source": [
    ".. literalinclude:: music_generation.py\n",
    "   :language: python"
   ]
  },
  {
   "cell_type": "code",
   "execution_count": null,
   "metadata": {},
   "outputs": [],
   "source": []
  },
  {
   "cell_type": "code",
   "execution_count": null,
   "metadata": {},
   "outputs": [],
   "source": []
  }
 ],
 "metadata": {
  "kernelspec": {
   "display_name": "Python 3",
   "language": "python",
   "name": "python3"
  },
  "language_info": {
   "codemirror_mode": {
    "name": "ipython",
    "version": 3
   },
   "file_extension": ".py",
   "mimetype": "text/x-python",
   "name": "python",
   "nbconvert_exporter": "python",
   "pygments_lexer": "ipython3",
   "version": "3.6.8"
  }
 },
 "nbformat": 4,
 "nbformat_minor": 2
}
