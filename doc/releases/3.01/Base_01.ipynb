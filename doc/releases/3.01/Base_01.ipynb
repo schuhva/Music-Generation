{
 "cells": [
  {
   "cell_type": "markdown",
   "metadata": {},
   "source": [
    "# 3.01.2 First meteo data\n",
    "\n",
    "* Functions which ar no longer part of this development step are exported to the music_generation.py file. The file is found at the en of the page."
   ]
  },
  {
   "cell_type": "code",
   "execution_count": 76,
   "metadata": {},
   "outputs": [],
   "source": [
    "from pyknon.genmidi import Midi\n",
    "from pyknon.music import Rest, Note, NoteSeq\n",
    "import music_generation\n",
    "import numpy as np\n",
    "import pandas as pd\n",
    "import matplotlib.pyplot as plt\n",
    "import matplotlib.ticker as plticker\n",
    "from datetime import date"
   ]
  },
  {
   "cell_type": "markdown",
   "metadata": {},
   "source": [
    "## Transform Meteo data"
   ]
  },
  {
   "cell_type": "code",
   "execution_count": 77,
   "metadata": {},
   "outputs": [
    {
     "name": "stdout",
     "output_type": "stream",
     "text": [
      "  Stao          time  Flash  p_QNH  T_2m  Precip  H_rel  V_wind\n",
      "0  KLO  201908280000      0  968.5  19.6     0.0   90.1     0.6\n",
      "1  KLO  201908280010      0  968.5  19.3     0.0   93.0     0.6\n",
      "2  KLO  201908280020      0  968.6  19.4     0.0   90.6     0.7\n",
      "3  KLO  201908280030      0  968.7  19.6     0.0   90.3     0.7\n",
      "4  KLO  201908280040      0  968.7  18.7     0.0   95.6     0.5\n",
      "-----------------\n",
      "NT, MP 2016 8\n"
     ]
    }
   ],
   "source": [
    "def scale(a):    return (a-a.min())/(a.max()-a.min())\n",
    "h24 = 6*24\n",
    "h72 = 3*h24\n",
    "\n",
    "def read_meteo_data(fName):\n",
    "    colNames = ['Stao','time', 'Flash', 'p_QNH', 'T_2m', 'Precip', 'H_rel', 'V_wind']  \n",
    "    df = pd.read_csv(fName,sep=';', skiprows=3, names=colNames, na_values='-')\n",
    "    print(df.head())\n",
    "    return df\n",
    "\n",
    "fPath = '/mnt/daten/04_Schule/42_Kanti/Matrua/Music_generation/Organisation/MeteoSchweiz/Daten/'\n",
    "fName = 'order_74678_data.txt'\n",
    "dM = read_meteo_data(fPath+fName)\n",
    "\n",
    "#---- Parameter bestimmen -----------\n",
    "NT, MP = dM.shape\n",
    "print('-----------------')\n",
    "print('NT, MP', NT, MP)\n",
    "\n"
   ]
  },
  {
   "cell_type": "code",
   "execution_count": 78,
   "metadata": {},
   "outputs": [
    {
     "name": "stdout",
     "output_type": "stream",
     "text": [
      "[-1 -2  0  2 -2 -3 -2 -1 -2 -1 -1  1  2  2  3  2 -1 -1  1 -1  0  0  1  1\n",
      " -2 -1  0  0 -1 -1 -2 -1  0  1  2  4  1  1  1  1  0  0  0  0 -1 -2 -3 -1\n",
      " -2 -1 -1 -1  0  0  1  3  4  2  1  1  1  0  0  0  0 -1 -2 -3 -2 -2 -1 -1\n",
      " -2  2  2  0  1  1  1  1  2  0  0  0 -1  0 -1 -1  2 -2  0 -2 -1 -1  1  1\n",
      "  1  6  2  0  0  0  0  0  0 -1  0 -2 -3  0  1  0  0 -1 -1  2  2  1  2  1\n",
      "  1  0  0  0  0  0  0  0  0 -2 -4 -5 -3  0  0  0  0  4  4  2  1]\n",
      "141\n"
     ]
    },
    {
     "data": {
      "image/png": "[encoded data removed]",
      "text/plain": [
       "<Figure size 432x288 with 1 Axes>"
      ]
     },
     "metadata": {
      "needs_background": "light"
     },
     "output_type": "display_data"
    }
   ],
   "source": [
    "k=6\n",
    "w = 7\n",
    "Y = np.array(dM[dM.columns[k]])\n",
    "Y24 = np.array(dM[dM.columns[k]].rolling(window=h24,center=True).mean())\n",
    "Y72 = np.array(dM[dM.columns[k]].rolling(window=h72,center=True).mean())\n",
    "Yw  = np.array(dM[dM.columns[k]].rolling(window=w,center=True).mean()) \n",
    "Yw= Yw[0:1000:w]\n",
    "trans = np.diff(Yw)[1:]\n",
    "trans = np.round(trans/4)\n",
    "#trans = np.nancumsum(trans)\n",
    "trans = trans.astype(int)\n",
    "print(trans)\n",
    "\n",
    "plt.plot(trans)\n",
    "#plt.hist(trans,bins=50)\n",
    "\n",
    "print(len(trans))\n"
   ]
  },
  {
   "cell_type": "markdown",
   "metadata": {},
   "source": [
    "## Functions for Music generation"
   ]
  },
  {
   "cell_type": "code",
   "execution_count": 79,
   "metadata": {},
   "outputs": [],
   "source": [
    "major = np.array([ 0, 2, 4, 5, 7, 9, 11])\n",
    "minor = np.array([ 0, 2, 3, 5, 7, 8, 10])  \n",
    "C7 = np.array([ 0, 4, 7, 10]) \n",
    "CM7 = np.array([ 0, 4, 7, 11])\n",
    "Cm7 = np.array([ 0, 3, 7, 10])\n",
    "Cm  = np.array([ 0, 3, 7])\n",
    "C   = np.array([ 0, 4, 7])\n",
    "bass= np.array([ 0])"
   ]
  },
  {
   "cell_type": "markdown",
   "metadata": {},
   "source": [
    "## Tune T "
   ]
  },
  {
   "cell_type": "code",
   "execution_count": 80,
   "metadata": {},
   "outputs": [],
   "source": [
    "def meteo_melody(met_intvl, pattern, start_note, a_range, notenr, rythem):\n",
    "    melody = np.zeros(notenr, dtype=int)\n",
    "    cum_rythem = np.cumsum(rythem) *4\n",
    "    cum_rythem = np.concatenate(([0],cum_rythem))[:-1] # add 0 at beginig remove last element\n",
    "    scale_change = pattern[:,0]\n",
    "    scale_nr =0\n",
    "    scale = pattern[scale_nr,1]\n",
    "    melody[0] = scale[i_last_note(start_note,scale)]\n",
    "    cummelody = i_last_note(start_note,scale)+np.nancumsum(met_intvl)\n",
    "    print(cummelody)\n",
    "    \n",
    "    for npn in range(1, notenr):  #npn: note per note (index)      \n",
    "        scale_nr = np.ravel(np.argwhere(scale_change <= cum_rythem[npn-1])) [-1]     \n",
    "        scale = pattern[scale_nr,1]\n",
    "        inote_next = cummelody[npn-1]\n",
    "        #print(inote_next,scale)\n",
    "        \n",
    "        '''\n",
    "        accept = False    \n",
    "        while not accept:       # aslong acept == False\n",
    "            inote = i_last_note(melody[npn-1],scale)\n",
    "            inote_next = inote + intvl_next(intvl, prob_intvl)         # add current not with Proposition\n",
    "            accept_val = a_range[[melody[(npn-1)],scale[inote_next]]]  # get acceptance values\n",
    "            accept = acceptance(accept_val[0],accept_val[1])\n",
    "        '''\n",
    "\n",
    "        melody[npn] = scale[inote_next]\n",
    "    print(melody)\n",
    "    return melody"
   ]
  },
  {
   "cell_type": "code",
   "execution_count": 81,
   "metadata": {},
   "outputs": [],
   "source": [
    "def tune_T():\n",
    "    tune_name = 'tune_T'  \n",
    "    #np.random.seed(23)\n",
    "    bar, bpb = 12, 4  # bar: Takt , bpb: beat per bar\n",
    "    melody_len = bar * bpb\n",
    "\n",
    "\n",
    "    #scales = [[1,CM7],[1,Cm7+9],[1,Cm7+2],[1,C7+7]] #rythem Change\n",
    "    #scales = [[4,C7],[2,C7+5],[2,C7],[1,C7+7],[1,C7+5],[2,C7]] # Blues  \n",
    "    scales = [[8,major]]\n",
    "    pattern = pattern_gen(scales, melody_len)\n",
    "    \n",
    "    range_1 = liniar_range(44,51,70,76)\n",
    "    rythem1, notenr_1 = ran_duration([1/8, 1/4,1/2], [1,4,1], melody_len)\n",
    "    melody1 = meteo_melody(trans,pattern, 72, range_1, notenr_1, rythem1)\n",
    "    volumes1 = ran_volume([0,120], [1,5], notenr_1 )\n",
    "    notes1 = NoteSeq( [Note(no,octave=0, dur=du, volume=vo) for no,du,vo in zip(melody1,rythem1,volumes1)] )\n",
    "       \n",
    "    \n",
    "    #plot_range([range_1],['range_1'],tune_name)\n",
    "    instruments = [0]\n",
    "    notes = [notes1]\n",
    "    return notes, instruments,tune_name"
   ]
  },
  {
   "cell_type": "raw",
   "metadata": {},
   "source": [
    ".. raw:: html\n",
    "\n",
    "    <br><audio controls=\"controls\" src=\"https://raw.githubusercontent.com/schuhva/Music-Generation/master/doc/releases/2.07/tune_S.flac\" type=\"audio/flac\"></audio>\n",
    "     tune_S  \n",
    "     \n",
    "     <br><img src=\"https://raw.githubusercontent.com/schuhva/Music-Generation/master/doc/releases/2.07/tune_S-1.png\">\n",
    "     tune_S  <br><br><br>"
   ]
  },
  {
   "cell_type": "markdown",
   "metadata": {},
   "source": [
    "__Instruments:__\n",
    "Available are at lest the 128 General-Midi (GM) Instruments. Depending on the sound-fonts there is a bigger choise. A list of the GM instruments can be found here. https://jazz-soft.net/demo/GeneralMidi.html\n"
   ]
  },
  {
   "cell_type": "markdown",
   "metadata": {},
   "source": [
    "## Generate Midi and Audio file"
   ]
  },
  {
   "cell_type": "code",
   "execution_count": 82,
   "metadata": {},
   "outputs": [],
   "source": [
    "def gen_midi():\n",
    "#     squezze into a MIDI framework\n",
    "    notes, instruments, tune_name = tune_T() #  <--- select a tune  <<--     <<<<<<<<<--- select a tune -----\n",
    "    nTracks = len(notes)\n",
    "    \n",
    "    m = Midi(number_tracks=nTracks, tempo=120, instrument=instruments)\n",
    "    for iTrack in range(nTracks):\n",
    "        m.seq_notes(notes[iTrack], track=iTrack)\n",
    "\n",
    "    #--- write the MIDI file -----\n",
    "    midi_file_name = tune_name +'.mid'   # set the name of the file\n",
    "    m.write(midi_file_name)\n",
    "    return midi_file_name"
   ]
  },
  {
   "cell_type": "code",
   "execution_count": 83,
   "metadata": {},
   "outputs": [
    {
     "name": "stdout",
     "output_type": "stream",
     "text": [
      "[41 39 39 41 39 36 34 33 31 30 29 30 32 34 37 39 38 37 38 37 37 37 38 39\n",
      " 37 36 36 36 35 34 32 31 31 32 34 38 39 40 41 42 42 42 42 42 41 39 36 35\n",
      " 33 32 31 30 30 30 31 34 38 40 41 42 43 43 43 43 43 42 40 37 35 33 32 31\n",
      " 29 31 33 33 34 35 36 37 39 39 39 39 38 38 37 36 38 36 36 34 33 32 33 34\n",
      " 35 41 43 43 43 43 43 43 43 42 42 40 37 37 38 38 38 37 36 38 40 41 43 44\n",
      " 45 45 45 45 45 45 45 45 45 43 39 34 31 31 31 31 31 35 39 41 42]\n",
      "[72 71 67 67 71 67 62 59 57 53 52 50 52 55 59 64 67 65 64 65 64 64 64 65\n",
      " 67 64 62 62 62 60 59 55 53 53 55 59 65 67 69 71 72 72]\n"
     ]
    }
   ],
   "source": [
    "######---  Main  ---######\n",
    "midi_file_name = gen_midi()\n",
    "\n",
    "midi_play(midi_file_name)\n",
    "midi_audio(midi_file_name)\n",
    "midi_png(midi_file_name)"
   ]
  },
  {
   "cell_type": "markdown",
   "metadata": {},
   "source": [
    "## External Music-Generation library\n",
    "This library changes from version to version. New or changed code is first explaind above. "
   ]
  },
  {
   "cell_type": "raw",
   "metadata": {},
   "source": [
    ".. literalinclude:: music_generation.py\n",
    "   :language: python"
   ]
  }
 ],
 "metadata": {
  "kernelspec": {
   "display_name": "Python 3",
   "language": "python",
   "name": "python3"
  },
  "language_info": {
   "codemirror_mode": {
    "name": "ipython",
    "version": 3
   },
   "file_extension": ".py",
   "mimetype": "text/x-python",
   "name": "python",
   "nbconvert_exporter": "python",
   "pygments_lexer": "ipython3",
   "version": "3.6.8"
  }
 },
 "nbformat": 4,
 "nbformat_minor": 2
}
