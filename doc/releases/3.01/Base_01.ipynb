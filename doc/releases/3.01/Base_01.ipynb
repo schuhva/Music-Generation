{
 "cells": [
  {
   "cell_type": "markdown",
   "metadata": {},
   "source": [
    "# 3.02 First Meteorological Data\n",
    "\n",
    "* Starting with just implementing one voice. The meteorological data is first transformed before the differences are taken and so created the intervals.\n",
    "* Functions which are no longer part of this development step are __exported to the music_generation.py file.__ The file is found at the __end__ of the page."
   ]
  },
  {
   "cell_type": "code",
   "execution_count": 85,
   "metadata": {},
   "outputs": [],
   "source": [
    "from pyknon.genmidi import Midi\n",
    "from pyknon.music import Rest, Note, NoteSeq\n",
    "import music_generation\n",
    "import numpy as np\n",
    "import pandas as pd\n",
    "import matplotlib.pyplot as plt\n",
    "import matplotlib.ticker as plticker\n",
    "from datetime import date"
   ]
  },
  {
   "cell_type": "markdown",
   "metadata": {},
   "source": [
    "## Transform Meteorological Data"
   ]
  },
  {
   "cell_type": "code",
   "execution_count": 86,
   "metadata": {},
   "outputs": [
    {
     "name": "stdout",
     "output_type": "stream",
     "text": [
      "  Stao          time  Flash  p_QNH  T_2m  Precip  H_rel  V_wind\n",
      "0  KLO  201908280000      0  968.5  19.6     0.0   90.1     0.6\n",
      "1  KLO  201908280010      0  968.5  19.3     0.0   93.0     0.6\n",
      "2  KLO  201908280020      0  968.6  19.4     0.0   90.6     0.7\n",
      "3  KLO  201908280030      0  968.7  19.6     0.0   90.3     0.7\n",
      "4  KLO  201908280040      0  968.7  18.7     0.0   95.6     0.5\n",
      "-----------------\n",
      "NT, MP 2016 8\n"
     ]
    }
   ],
   "source": [
    "def scale(a):    return (a-a.min())/(a.max()-a.min())\n",
    "h24 = 6*24\n",
    "h72 = 3*h24\n",
    "\n",
    "def read_meteo_data(fName):\n",
    "    colNames = ['Stao','time', 'Flash', 'p_QNH', 'T_2m', 'Precip', 'H_rel', 'V_wind']  \n",
    "    df = pd.read_csv(fName,sep=';', skiprows=3, names=colNames, na_values='-')\n",
    "    print(df.head())\n",
    "    return df\n",
    "\n",
    "fPath = '/mnt/daten/04_Schule/42_Kanti/Matrua/Music_generation/Organisation/MeteoSchweiz/Daten/'\n",
    "fName = 'order_74678_data.txt'\n",
    "dM = read_meteo_data(fPath+fName)\n",
    "\n",
    "#---- Parameter bestimmen -----------\n",
    "NT, MP = dM.shape\n",
    "print('-----------------')\n",
    "print('NT, MP', NT, MP)\n",
    "\n"
   ]
  },
  {
   "cell_type": "markdown",
   "metadata": {},
   "source": [
    "meteorological data has __noise.__ Also are the value difference in the 10 min measurement interval not that big.\n",
    "\n",
    "__w defines the sampling rate__. But k also defines the size of the moving average. With this method every value is used once.\n",
    "\n",
    "As we want intervals, the difference is taken. But the intervals are first multiplied with a factor to have a suitable range of intervals."
   ]
  },
  {
   "cell_type": "code",
   "execution_count": 146,
   "metadata": {},
   "outputs": [
    {
     "name": "stdout",
     "output_type": "stream",
     "text": [
      "[ 1  1  0  0 -1  2  3  2  1  1  1  1  0 -1 -1 -1 -3 -2 -1  1 -1 -1  0 -1\n",
      " -1 -1  0 -1  1  2  1  0  2  0  0  2  1  0  0  0 -2 -4 -2  0 -2 -1 -1  0\n",
      " -1 -1  0 -1  3  2  3  2  2  2  1  2  0  0  0 -1 -3 -4 -3 -1 -1 -1  0 -1\n",
      " -1 -1  0  0  2  3  3  3  2  2  1  1  2 -1 -2 -1 -1 -3 -2 -1 -1 -2 -1  0\n",
      "  0  0  2  0  1  1  0 -1  2  1  2  1  1  0 -2 -2 -1 -2 -2  0  0  0  0  0\n",
      "  0  0  0  0  0  0  1  0  0 -1  1  0  0  0  0 -1  0 -1 -2 -1 -2  0 -1 -2\n",
      " -1  0  0  1  1  1  2  3  3  3  2  1  0  0  0 -1 -3 -5 -2 -1 -2]\n"
     ]
    },
    {
     "data": {
      "text/plain": [
       "[<matplotlib.lines.Line2D at 0x7efc246d1048>]"
      ]
     },
     "execution_count": 146,
     "metadata": {},
     "output_type": "execute_result"
    },
    {
     "data": {
      "image/png": "[encoded data removed]",
      "text/plain": [
       "<Figure size 432x288 with 1 Axes>"
      ]
     },
     "metadata": {
      "needs_background": "light"
     },
     "output_type": "display_data"
    }
   ],
   "source": [
    "k=4  #Column number\n",
    "w = 6 # how many values are used for the mean\n",
    "Yw  = np.array(dM[dM.columns[k]].rolling(window=w,center=True).mean()) \n",
    "Yw= Yw[0:1000:w]\n",
    "trans = np.diff(Yw)[1:]\n",
    "trans = trans*1.3\n",
    "trans = np.round(trans)\n",
    "#trans = np.nancumsum(trans)\n",
    "trans = trans.astype(int)\n",
    "print(trans)\n",
    "#print(len(trans))\n",
    "\n",
    "plt.plot(trans)\n",
    "#t(trans,bins=50)"
   ]
  },
  {
   "cell_type": "markdown",
   "metadata": {},
   "source": [
    "__Chords and scales__"
   ]
  },
  {
   "cell_type": "code",
   "execution_count": 147,
   "metadata": {},
   "outputs": [],
   "source": [
    "major = np.array([ 0, 2, 4, 5, 7, 9, 11])\n",
    "minor = np.array([ 0, 2, 3, 5, 7, 8, 10])  \n",
    "C7 = np.array([ 0, 4, 7, 10]) \n",
    "CM7 = np.array([ 0, 4, 7, 11])\n",
    "Cm7 = np.array([ 0, 3, 7, 10])\n",
    "Cm  = np.array([ 0, 3, 7])\n",
    "C   = np.array([ 0, 4, 7])\n",
    "bass= np.array([ 0])"
   ]
  },
  {
   "cell_type": "markdown",
   "metadata": {},
   "source": [
    "## Tune T \n",
    "\n",
    "The intervals of the meteorological data are scaled and played"
   ]
  },
  {
   "cell_type": "code",
   "execution_count": 168,
   "metadata": {},
   "outputs": [],
   "source": [
    "def meteo_melody(met_intvl, pattern, start_note, a_range, notenr, rythem):\n",
    "    melody = np.zeros(notenr, dtype=int)\n",
    "    cum_rythem = np.cumsum(rythem) *4\n",
    "    cum_rythem = np.concatenate(([0],cum_rythem))[:-1] # add 0 at beginig remove last element\n",
    "    scale_change = pattern[:,0]\n",
    "    scale_nr =0\n",
    "    scale = pattern[scale_nr,1]\n",
    "    melody[0] = scale[i_last_note(start_note,scale)]\n",
    "    cummelody = i_last_note(start_note,scale)+np.nancumsum(met_intvl)\n",
    "    #print(cummelody)\n",
    "    \n",
    "    for npn in range(1, notenr):  #npn: note per note (index)      \n",
    "        scale_nr = np.ravel(np.argwhere(scale_change <= cum_rythem[npn-1])) [-1]     \n",
    "        scale = pattern[scale_nr,1]\n",
    "        inote_next = cummelody[npn-1]\n",
    "        #print(inote_next,scale)\n",
    "        melody[npn] = scale[inote_next]\n",
    "    #print(melody)\n",
    "    return melody"
   ]
  },
  {
   "cell_type": "code",
   "execution_count": 175,
   "metadata": {},
   "outputs": [],
   "source": [
    "def tune_T():\n",
    "    tune_name = 'tune_T'  \n",
    "    #np.random.seed(23)\n",
    "    bar, bpb = 12, 4  # bar: Takt , bpb: beat per bar\n",
    "    melody_len = bar * bpb\n",
    "\n",
    "\n",
    "    #scales = [[1,CM7],[1,Cm7+9],[1,Cm7+2],[1,C7+7]] #rythem Change\n",
    "    #scales = [[4,C7],[2,C7+5],[2,C7],[1,C7+7],[1,C7+5],[2,C7]] # Blues  \n",
    "    scales = [[8,major]]\n",
    "    pattern = pattern_gen(scales, melody_len)\n",
    "    \n",
    "    range_1 = liniar_range(44,51,70,76)\n",
    "    rythem1, notenr_1 = ran_duration([1/8, 1/4,1/2], [1,3,1], melody_len)\n",
    "    melody1 = meteo_melody(trans,pattern, 60, range_1, notenr_1, rythem1)\n",
    "    volumes1 = ran_volume([0,120], [1,8], notenr_1 )\n",
    "    notes1 = NoteSeq( [Note(no,octave=0, dur=du, volume=vo) for no,du,vo in zip(melody1,rythem1,volumes1)] )\n",
    "       \n",
    "    \n",
    "    #plot_range([range_1],['range_1'],tune_name)\n",
    "    instruments = [51]\n",
    "    notes = [notes1]\n",
    "    return notes, instruments,tune_name"
   ]
  },
  {
   "cell_type": "raw",
   "metadata": {},
   "source": [
    ".. raw:: html\n",
    "\n",
    "    <br><audio controls=\"controls\" src=\"https://raw.githubusercontent.com/schuhva/Music-Generation/master/doc/releases/3.01/tune_T.flac\" type=\"audio/flac\"></audio>\n",
    "     tune_T  \n",
    "     \n",
    "     <br><img src=\"https://raw.githubusercontent.com/schuhva/Music-Generation/master/doc/releases/3.01/tune_T-1.png\">\n",
    "     tune_T  <br><br><br>"
   ]
  },
  {
   "cell_type": "markdown",
   "metadata": {},
   "source": [
    "__Instruments:__\n",
    "Available are at lest the 128 General-Midi (GM) Instruments. Depending on the sound-fonts there is a bigger choice. A list of the GM instruments can be found here. https://jazz-soft.net/demo/GeneralMidi.html\n"
   ]
  },
  {
   "cell_type": "markdown",
   "metadata": {},
   "source": [
    "## Generate Midi and Audio file"
   ]
  },
  {
   "cell_type": "code",
   "execution_count": 176,
   "metadata": {},
   "outputs": [],
   "source": [
    "def gen_midi():\n",
    "#     squezze into a MIDI framework\n",
    "    notes, instruments, tune_name = tune_T() #  <--- select a tune  <<--     <<<<<<<<<--- select a tune -----\n",
    "    nTracks = len(notes)\n",
    "    \n",
    "    m = Midi(number_tracks=nTracks, tempo=120, instrument=instruments)\n",
    "    for iTrack in range(nTracks):\n",
    "        m.seq_notes(notes[iTrack], track=iTrack)\n",
    "\n",
    "    #--- write the MIDI file -----\n",
    "    midi_file_name = tune_name +'.mid'   # set the name of the file\n",
    "    m.write(midi_file_name)\n",
    "    return midi_file_name"
   ]
  },
  {
   "cell_type": "code",
   "execution_count": 177,
   "metadata": {},
   "outputs": [],
   "source": [
    "######---  Main  ---######\n",
    "midi_file_name = gen_midi()\n",
    "\n",
    "midi_play(midi_file_name)\n",
    "midi_audio(midi_file_name)\n",
    "midi_png(midi_file_name)"
   ]
  },
  {
   "cell_type": "markdown",
   "metadata": {},
   "source": [
    "\n",
    "\n",
    "\n"
   ]
  },
  {
   "cell_type": "markdown",
   "metadata": {},
   "source": [
    "## External __Music_Generation__ library\n",
    "This library changes from version to version. New or changed code is first explained above. This is a copy of music_generation.py "
   ]
  },
  {
   "cell_type": "raw",
   "metadata": {},
   "source": [
    ".. literalinclude:: music_generation.py\n",
    "   :language: python"
   ]
  }
 ],
 "metadata": {
  "kernelspec": {
   "display_name": "Python 3",
   "language": "python",
   "name": "python3"
  },
  "language_info": {
   "codemirror_mode": {
    "name": "ipython",
    "version": 3
   },
   "file_extension": ".py",
   "mimetype": "text/x-python",
   "name": "python",
   "nbconvert_exporter": "python",
   "pygments_lexer": "ipython3",
   "version": "3.6.8"
  }
 },
 "nbformat": 4,
 "nbformat_minor": 2
}
