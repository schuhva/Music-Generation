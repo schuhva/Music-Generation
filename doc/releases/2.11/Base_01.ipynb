{
 "cells": [
  {
   "cell_type": "markdown",
   "metadata": {},
   "source": [
    "# 2.11 Jazz Standart\n"
   ]
  },
  {
   "cell_type": "code",
   "execution_count": 1,
   "metadata": {},
   "outputs": [],
   "source": [
    "from pyknon.genmidi import Midi\n",
    "from pyknon.music import Rest, Note, NoteSeq\n",
    "from music_generation import *\n",
    "import numpy as np\n",
    "import matplotlib.pyplot as plt"
   ]
  },
  {
   "cell_type": "markdown",
   "metadata": {},
   "source": [
    "### Chord definitions"
   ]
  },
  {
   "cell_type": "code",
   "execution_count": 2,
   "metadata": {},
   "outputs": [],
   "source": [
    "C     = np.array([ 0, 4, 7])\n",
    "Cm    = np.array([ 0, 3, 7])\n",
    "Cdim  = np.array([ 0, 3, 6])\n",
    "\n",
    "CM7   = np.array([ 0, 4, 7, 11])\n",
    "C7    = np.array([ 0, 4, 7, 10])\n",
    "Cm7   = np.array([ 0, 3, 7, 10])\n",
    "Cdim7 = np.array([ 0, 3, 6, 10])\n",
    "Cdim6 = np.array([ 0, 3, 6, 9 ])\n",
    "C6    = np.array([ 0, 4, 7, 9 ]) # inversion of Am7\n",
    "Cm6   = np.array([ 0, 3, 7, 9 ])\n",
    "\n",
    "Csus4 = np.array([ 0, 5, 7])\n",
    "Csus2 = np.array([ 0, 2, 7])\n",
    "Csus47= np.array([ 0, 5, 7, 10])\n",
    "\n",
    "P = np.array([ 0,7])  # Power chord (Perfect unison, Perfect fifth)\n",
    "B = np.array([ 0])    # Bass (Perfect unison)\n",
    "\n",
    "major = np.array([ 0, 2, 4, 5, 7, 9, 11])\n",
    "minor = np.array([ 0, 2, 3, 5, 7, 8, 10])  \n",
    "blues = np.array([ 0, 3, 5, 6, 7, 10])"
   ]
  },
  {
   "cell_type": "markdown",
   "metadata": {},
   "source": [
    "## tune_2.10\n",
    "\n",
    "* Better understandable Chord notation\n",
    "* Equal to tune_2.09_D \n",
    "\n",
    "\n",
    "* Chords:  Cm Cm7/Bb Eb Ab7 G7 | C C/E F F#dim Ab7 G7 Cm \n",
    "* Three guitars playing chords\n",
    "* an accustic bass\n",
    "* Organ for the base with seprat bass pattern. Mostly the root note.\n",
    "* Vibraphone as solo voice"
   ]
  },
  {
   "cell_type": "code",
   "execution_count": 3,
   "metadata": {},
   "outputs": [],
   "source": [
    "def tune_211_A():\n",
    "    tune_name = 'tune_211_A'  \n",
    "    np.random.seed(76    )    #  79 33\n",
    "    bar, bpb = 36, 4  # bar: Takt , bpb: beat per bar\n",
    "    melody_len = bar * bpb\n",
    "    end_dur = 1.5\n",
    "    \n",
    "    scales = [[1,'C',C],[1,'D',Cm7],[1,'G',C7],[1,'C',C],[1,'A',Cm],[1,'D',C7],[1,'G',C],[1,'C',CM7],[1,'C',C6],[1,'D',C7],\n",
    "              [1,'G',C],[1,'G',Cdim6],[1,'D',Cm],[1,'F',Cdim6],[1,'C',C],[1,'F',CM7],[1,'F',C6],[1,'G',C7],\n",
    "              [1,'C',C],[1,'C',C7],[1,'F',CM7],[1,'F#',Cdim6],[1,'G#',Cdim6],[1,'G',C7],\n",
    "              [1,'C',C],[1,'G',Csus47],[1,'G',C7],[1,'F#',Cdim6],[1,'C',C],[1,'G',Csus47],[1,'G',C7],[1,'C',C7],[1,'F',C],[1,'G',C],[1,'C',C]]\n",
    "    \n",
    "    #end_scale = [[0.5,'C',Cm],[0.5,'C',P]]\n",
    "    end_scale = [[1,'C',P]]\n",
    "    pattern = pattern_gen(scales, end_scale, melody_len)\n",
    "    #bass1 = pattern_gen(bass1, end_scale, melody_len)\n",
    "    \n",
    "    \n",
    "    # Solo voice\n",
    "    range_1 = liniar_range(56,70,86,94)\n",
    "    rythem1, notenr_1 = ran_duration([1/16,1/8, 1/4,1/2], [0.5,3,3,0.5], melody_len,end_dur)\n",
    "    melody1 = acceptance_melody([-2,-1, 0, 1, 2],[1, 3, 1, 3, 1],pattern, 76, range_1, notenr_1, rythem1)\n",
    "    volumes1 = ran_volume([0,110], [1,4], notenr_1 )\n",
    "    notes1 = NoteSeq( [Note(no,octave=0, dur=du, volume=vo) for no,du,vo in zip(melody1,rythem1,volumes1)] )\n",
    "    \n",
    "    # Bass1  Accustic\n",
    "    range_2 = liniar_range(38,41,52,67)\n",
    "    rythem2, notenr_2 = ran_duration([1/8, 1/4,1/2], [4,4,1], melody_len,end_dur)\n",
    "    melody2 = acceptance_melody([-2,-1, 0, 1, 2],[0, 3, 1, 3, 0],pattern, 50, range_2, notenr_2,rythem2)\n",
    "    volumes2 = ran_volume([0,80], [0,8], notenr_2 )\n",
    "    notes2 = NoteSeq( [Note(no,octave=0, dur=du, volume=vo) for no,du,vo in zip(melody2,rythem2,volumes2)] )\n",
    "    \n",
    "    # Bass2  Organ\n",
    "    range_6 = liniar_range(30,38,50,62)\n",
    "    rythem6, notenr_6 = ran_duration([1/8, 1/4,1/2], [0,1,1], melody_len,end_dur)\n",
    "    melody6 = acceptance_melody([-2,-1, 0, 1, 2],[1, 1, 1, 1, 1],pattern, 48, range_6, notenr_6,rythem6)\n",
    "    volumes6 = ran_volume([0,127], [0,8], notenr_6 )\n",
    "    notes6 = NoteSeq( [Note(no,octave=0, dur=du, volume=vo) for no,du,vo in zip(melody6,rythem6,volumes6)] )\n",
    "    \n",
    "    # Chord Voices\n",
    "    range_3 = liniar_range(46,56,73,78)\n",
    "    rythem3, notenr_3 = ran_duration([1/8, 1/4,1/2], [1,3,1], melody_len,end_dur)\n",
    "    melody3 = acceptance_melody([-2,-1, 0, 1, 2],[0, 3, 1, 3, 0],pattern, 71, range_3, notenr_3,rythem3)\n",
    "    volumes3 = ran_volume([0,80], [0,8], notenr_3 )\n",
    "    notes3 = NoteSeq( [Note(no,octave=0, dur=du, volume=vo) for no,du,vo in zip(melody3,rythem3,volumes3)] )\n",
    "    \n",
    "    range_4 = liniar_range(46,56,73,78)\n",
    "    rythem4, notenr_4 = ran_duration([1/8, 1/4,1/2], [1,3,1], melody_len,end_dur)\n",
    "    melody4 = acceptance_melody([-2,-1, 0, 1, 2],[0, 3, 1, 3, 0],pattern, 66, range_4, notenr_4,rythem4)\n",
    "    volumes4 = ran_volume([0,90], [0,8], notenr_4 )\n",
    "    notes4 = NoteSeq( [Note(no,octave=0, dur=du, volume=vo) for no,du,vo in zip(melody4,rythem4,volumes4)] )\n",
    "    \n",
    "    range_5 = liniar_range(46,56,73,78)\n",
    "    rythem5, notenr_5 = ran_duration([1/8, 1/4,1/2], [1,3,1], melody_len,end_dur)\n",
    "    melody5 = acceptance_melody([-2,-1, 0, 1, 2],[0, 3, 1, 3, 0],pattern, 60, range_5, notenr_5,rythem5)\n",
    "    volumes5 = ran_volume([0,90], [0,8], notenr_5 )\n",
    "    notes5= NoteSeq( [Note(no,octave=0, dur=du, volume=vo) for no,du,vo in zip(melody5,rythem5,volumes5)] )\n",
    "    \n",
    "    \n",
    "    plot_range([range_1,range_2,range_3],['range_1','range_2','range_3'],tune_name)\n",
    "    instruments = [72,41,49,49,49,16]\n",
    "    notes = [notes1,notes2,notes3,notes4,notes5,notes6]\n",
    "    return notes, instruments,tune_name\n"
   ]
  },
  {
   "cell_type": "raw",
   "metadata": {},
   "source": [
    ".. raw:: html\n",
    "\n",
    "    <br><audio controls=\"controls\" src=\"https://raw.githubusercontent.com/schuhva/Music-Generation/master/doc/releases/2.10/tune_209_D.flac\" type=\"audio/flac\"></audio>\n",
    "     tune__209_D\n",
    "     \n",
    "     <br><img src=\"https://raw.githubusercontent.com/schuhva/Music-Generation/master/doc/releases/2.10/tune_209_D-1.png\">\n",
    "     tune_209_D <br><br><br>"
   ]
  },
  {
   "cell_type": "markdown",
   "metadata": {},
   "source": [
    "__Instruments:__\n",
    "Available are at lest the 128 General-Midi (GM) Instruments. Depending on the sound-fonts there is a bigger choise. A list of the GM instruments can be found here. https://jazz-soft.net/demo/GeneralMidi.html\n"
   ]
  },
  {
   "cell_type": "code",
   "execution_count": 4,
   "metadata": {},
   "outputs": [],
   "source": [
    "\n",
    "def gen_midi():\n",
    "#     squezze into a MIDI framework\n",
    "    notes, instruments, tune_name = tune_211_A() #  <--- select a tune  <<--     <<<<<<<<<--- select a tune -----\n",
    "    nTracks = len(notes)\n",
    "    \n",
    "    m = Midi(number_tracks=nTracks, tempo=120, instrument=instruments)\n",
    "    for iTrack in range(nTracks):\n",
    "        m.seq_notes(notes[iTrack], track=iTrack)\n",
    "\n",
    "    #--- write the MIDI file -----\n",
    "    midi_file_name = tune_name +'.mid'   # set the name of the file\n",
    "    m.write(midi_file_name)\n",
    "    return midi_file_name"
   ]
  },
  {
   "cell_type": "code",
   "execution_count": 5,
   "metadata": {},
   "outputs": [
    {
     "name": "stdout",
     "output_type": "stream",
     "text": [
      "[0.125  0.25   0.125  0.125  0.125  0.5    0.25   0.25   0.125  0.25\n",
      " 0.25   0.125  0.25   0.125  0.25   0.25   0.125  0.25   0.125  0.5\n",
      " 0.25   0.25   0.25   0.125  0.25   0.25   0.25   0.25   0.25   0.125\n",
      " 0.125  0.25   0.125  0.125  0.25   0.25   0.5    0.5    0.25   0.25\n",
      " 0.125  0.25   0.0625 0.25   0.25   0.25   0.25   0.125  0.125  0.125\n",
      " 0.25   0.25   0.125  0.125  0.125  0.125  0.25   0.25   0.5    0.125\n",
      " 0.25   0.25   0.25   0.0625 0.25   0.25   0.125  0.5    0.125  0.25\n",
      " 0.0625 0.125  0.0625 0.125  0.125  0.125  0.125  0.125  0.25   0.25\n",
      " 0.125  0.125  0.125  0.125  0.125  0.25   0.0625 0.125  0.25   0.125\n",
      " 0.125  0.125  0.125  0.25   0.25   0.25   0.125  0.125  0.125  0.125\n",
      " 0.25   0.125  0.125  0.125  0.5    0.25   0.25   0.0625 0.0625 0.125\n",
      " 0.25   0.25   0.125  0.125  0.25   0.0625 0.125  0.5    0.125  0.0625\n",
      " 0.125  0.5    0.25   0.25   0.125  0.125  0.125  0.25   0.25   0.25\n",
      " 0.125  0.125  0.125  0.25   0.25   0.25   0.0625 0.125  0.125  0.125\n",
      " 0.25   0.125  0.125  0.125  0.5    0.125  0.5    0.25   0.125  0.125\n",
      " 0.125  0.125  0.25   0.25   0.125  0.25   0.25   0.25   0.25   0.25\n",
      " 0.125  0.25   0.25   0.25   0.125  0.0625 0.25   0.125  0.0625 0.125\n",
      " 0.25   0.125  0.0625 0.125  0.25   0.0625 0.25   0.125  0.125  0.125\n",
      " 0.125  0.125  0.25   0.25   0.125  1.5   ]\n",
      "[0.125 0.25  0.125 0.125 0.5   0.25  0.125 0.25  0.125 0.125 0.25  0.125\n",
      " 0.125 0.125 0.5   0.125 0.125 0.125 0.125 0.125 0.125 0.125 0.125 0.25\n",
      " 0.125 0.25  0.25  0.125 0.25  0.125 0.25  0.25  0.25  0.125 0.25  0.125\n",
      " 0.25  0.25  0.25  0.5   0.25  0.25  0.5   0.125 0.125 0.125 0.125 0.125\n",
      " 0.125 0.25  0.25  0.5   0.125 0.25  0.125 0.125 0.125 0.25  0.125 0.25\n",
      " 0.125 0.125 0.125 0.125 0.125 0.125 0.25  0.125 0.125 0.5   0.125 0.25\n",
      " 0.5   0.25  0.125 0.125 0.5   0.25  0.25  0.125 0.25  0.25  0.125 0.125\n",
      " 0.25  0.25  0.25  0.25  0.25  0.125 0.5   0.25  0.25  0.125 0.25  0.125\n",
      " 0.25  0.125 0.125 0.25  0.5   0.125 0.125 0.125 0.25  0.25  0.25  0.125\n",
      " 0.125 0.125 0.125 0.125 0.125 0.125 0.125 0.125 0.25  0.125 0.25  0.125\n",
      " 0.125 0.25  0.25  0.25  0.125 0.5   0.125 0.5   0.25  0.25  0.5   0.125\n",
      " 0.125 0.25  0.25  0.125 0.5   0.25  0.125 0.25  0.25  0.125 0.125 0.25\n",
      " 0.125 0.25  0.25  0.125 0.125 0.5   0.25  0.25  0.25  0.5   0.125 0.125\n",
      " 0.125 0.125 0.125 0.25  0.125 0.125 0.25  0.25  0.25  0.125 0.125 0.125\n",
      " 0.125 0.125 0.125 0.125 0.25  1.5  ]\n",
      "[0.5  0.25 0.5  0.25 0.25 0.25 0.25 0.25 0.25 0.25 0.25 0.25 0.5  0.5\n",
      " 0.5  0.25 0.25 0.5  0.25 0.5  0.5  0.5  0.25 0.25 0.25 0.5  0.25 0.25\n",
      " 0.5  0.5  0.5  0.25 0.5  0.5  0.25 0.5  0.25 0.25 0.25 0.25 0.25 0.5\n",
      " 0.25 0.5  0.5  0.5  0.5  0.25 0.5  0.25 0.25 0.25 0.5  0.25 0.25 0.5\n",
      " 0.5  0.25 0.5  0.25 0.25 0.5  0.5  0.5  0.25 0.25 0.5  0.5  0.5  0.5\n",
      " 0.5  0.25 0.5  0.25 0.25 0.5  0.25 0.25 0.5  0.25 0.5  0.5  0.25 0.25\n",
      " 0.25 0.5  0.25 0.25 0.5  0.5  0.25 0.5  0.25 0.25 0.25 0.25 0.25 0.5\n",
      " 0.25 1.5 ]\n",
      "[0.5   0.125 0.125 0.25  0.25  0.25  0.25  0.5   0.25  0.125 0.25  0.5\n",
      " 0.125 0.25  0.25  0.125 0.25  0.5   0.25  0.125 0.25  0.25  0.25  0.125\n",
      " 0.25  0.5   0.125 0.25  0.25  0.25  0.125 0.25  0.25  0.125 0.25  0.25\n",
      " 0.25  0.5   0.25  0.25  0.125 0.25  0.125 0.5   0.5   0.25  0.5   0.25\n",
      " 0.125 0.25  0.25  0.25  0.125 0.25  0.25  0.5   0.25  0.125 0.125 0.125\n",
      " 0.125 0.25  0.5   0.25  0.25  0.5   0.25  0.25  0.25  0.25  0.25  0.125\n",
      " 0.25  0.25  0.125 0.25  0.5   0.25  0.25  0.125 0.25  0.25  0.25  0.25\n",
      " 0.5   0.25  0.125 0.25  0.25  0.25  0.25  0.5   0.5   0.25  0.125 0.5\n",
      " 0.5   0.25  0.25  0.5   0.25  0.5   0.125 0.25  0.25  0.25  0.125 0.25\n",
      " 0.25  0.25  0.25  0.125 0.5   0.25  0.125 0.25  0.5   0.25  0.125 0.125\n",
      " 0.5   0.25  0.25  0.5   0.125 0.25  0.25  0.25  0.25  0.25  0.25  0.25\n",
      " 0.25  1.5  ]\n",
      "[0.25  0.25  0.25  0.5   0.5   0.25  0.25  0.125 0.25  0.25  0.125 0.25\n",
      " 0.25  0.5   0.5   0.25  0.125 0.125 0.125 0.125 0.5   0.25  0.25  0.5\n",
      " 0.25  0.25  0.25  0.125 0.25  0.25  0.25  0.25  0.25  0.25  0.125 0.5\n",
      " 0.125 0.25  0.5   0.125 0.5   0.25  0.25  0.25  0.25  0.25  0.25  0.25\n",
      " 0.25  0.5   0.125 0.5   0.5   0.25  0.125 0.25  0.25  0.25  0.25  0.25\n",
      " 0.25  0.25  0.5   0.25  0.25  0.125 0.25  0.125 0.25  0.25  0.125 0.125\n",
      " 0.25  0.5   0.25  0.25  0.125 0.125 0.25  0.25  0.25  0.5   0.25  0.25\n",
      " 0.25  0.5   0.125 0.25  0.25  0.5   0.125 0.125 0.25  0.5   0.25  0.25\n",
      " 0.5   0.125 0.5   0.25  0.125 0.25  0.5   0.25  0.25  0.25  0.5   0.125\n",
      " 0.25  0.5   0.25  0.25  0.125 0.25  0.25  0.5   0.125 0.25  0.25  0.25\n",
      " 0.5   0.125 0.125 0.25  0.25  0.25  0.25  0.25  0.5   0.25  0.25  1.5  ]\n",
      "[0.25  0.5   0.25  0.5   0.25  0.25  0.25  0.5   0.125 0.25  0.25  0.5\n",
      " 0.25  0.125 0.25  0.25  0.25  0.125 0.25  0.5   0.5   0.25  0.25  0.25\n",
      " 0.25  0.125 0.5   0.25  0.25  0.25  0.25  0.5   0.25  0.25  0.25  0.25\n",
      " 0.25  0.25  0.5   0.125 0.25  0.25  0.25  0.25  0.25  0.5   0.125 0.125\n",
      " 0.125 0.25  0.125 0.25  0.25  0.5   0.125 0.25  0.5   0.25  0.25  0.5\n",
      " 0.125 0.125 0.25  0.25  0.5   0.25  0.125 0.25  0.25  0.25  0.125 0.25\n",
      " 0.25  0.25  0.125 0.125 0.5   0.25  0.25  0.5   0.25  0.5   0.5   0.25\n",
      " 0.25  0.25  0.5   0.5   0.25  0.25  0.25  0.25  0.25  0.25  0.125 0.25\n",
      " 0.25  0.25  0.5   0.125 0.25  0.125 0.25  0.5   0.25  0.25  0.25  0.25\n",
      " 0.125 0.5   0.25  0.25  0.25  0.125 0.125 0.25  0.25  0.25  0.25  0.125\n",
      " 0.25  0.25  0.25  0.125 0.125 0.25  0.5   0.25  0.25  0.25  0.125 0.25\n",
      " 1.5  ]\n"
     ]
    },
    {
     "data": {
      "image/png": "[encoded data removed]",
      "text/plain": [
       "<Figure size 432x288 with 1 Axes>"
      ]
     },
     "metadata": {
      "needs_background": "light"
     },
     "output_type": "display_data"
    },
    {
     "ename": "KeyboardInterrupt",
     "evalue": "",
     "output_type": "error",
     "traceback": [
      "\u001b[0;31m---------------------------------------------------------------------------\u001b[0m",
      "\u001b[0;31mKeyboardInterrupt\u001b[0m                         Traceback (most recent call last)",
      "\u001b[0;32m<ipython-input-5-4cbb6ccf65e6>\u001b[0m in \u001b[0;36m<module>\u001b[0;34m\u001b[0m\n\u001b[1;32m      2\u001b[0m \u001b[0mmidi_file_name\u001b[0m \u001b[0;34m=\u001b[0m \u001b[0mgen_midi\u001b[0m\u001b[0;34m(\u001b[0m\u001b[0;34m)\u001b[0m\u001b[0;34m\u001b[0m\u001b[0;34m\u001b[0m\u001b[0m\n\u001b[1;32m      3\u001b[0m \u001b[0;34m\u001b[0m\u001b[0m\n\u001b[0;32m----> 4\u001b[0;31m \u001b[0mmidi_play\u001b[0m\u001b[0;34m(\u001b[0m\u001b[0mmidi_file_name\u001b[0m\u001b[0;34m)\u001b[0m\u001b[0;34m\u001b[0m\u001b[0;34m\u001b[0m\u001b[0m\n\u001b[0m\u001b[1;32m      5\u001b[0m \u001b[0mmidi_audio\u001b[0m\u001b[0;34m(\u001b[0m\u001b[0mmidi_file_name\u001b[0m\u001b[0;34m)\u001b[0m\u001b[0;34m\u001b[0m\u001b[0;34m\u001b[0m\u001b[0m\n\u001b[1;32m      6\u001b[0m \u001b[0mmidi_png\u001b[0m\u001b[0;34m(\u001b[0m\u001b[0mmidi_file_name\u001b[0m\u001b[0;34m)\u001b[0m\u001b[0;34m\u001b[0m\u001b[0;34m\u001b[0m\u001b[0m\n",
      "\u001b[0;32m/mnt/daten/04_Schule/42_Kanti/Matrua/Music_generation/Git/Music-Generation/doc/releases/2.11/music_generation.py\u001b[0m in \u001b[0;36mmidi_play\u001b[0;34m(midi_in, soundfont)\u001b[0m\n\u001b[1;32m    179\u001b[0m \u001b[0;34m\u001b[0m\u001b[0m\n\u001b[1;32m    180\u001b[0m \u001b[0;32mdef\u001b[0m \u001b[0mmidi_play\u001b[0m\u001b[0;34m(\u001b[0m\u001b[0mmidi_in\u001b[0m\u001b[0;34m,\u001b[0m \u001b[0msoundfont\u001b[0m\u001b[0;34m=\u001b[0m \u001b[0mdefault_soundfont\u001b[0m\u001b[0;34m)\u001b[0m\u001b[0;34m:\u001b[0m\u001b[0;34m\u001b[0m\u001b[0;34m\u001b[0m\u001b[0m\n\u001b[0;32m--> 181\u001b[0;31m     \u001b[0msubprocess\u001b[0m\u001b[0;34m.\u001b[0m\u001b[0mcall\u001b[0m\u001b[0;34m(\u001b[0m\u001b[0;34m[\u001b[0m\u001b[0;34m'cvlc'\u001b[0m\u001b[0;34m,\u001b[0m \u001b[0mmidi_in\u001b[0m \u001b[0;34m,\u001b[0m \u001b[0;34m'vlc://quit'\u001b[0m\u001b[0;34m,\u001b[0m \u001b[0;34m'--soundfont'\u001b[0m\u001b[0;34m,\u001b[0m \u001b[0;34m'/home/viturin/-vitis/Documents/MuseScore2/Soundfonts/Compifont_13082016.sf2'\u001b[0m\u001b[0;34m]\u001b[0m\u001b[0;34m)\u001b[0m   \u001b[0;31m# cvlc = vlc without gui\u001b[0m\u001b[0;34m\u001b[0m\u001b[0;34m\u001b[0m\u001b[0m\n\u001b[0m\u001b[1;32m    182\u001b[0m \u001b[0;34m\u001b[0m\u001b[0m\n\u001b[1;32m    183\u001b[0m \u001b[0;32mdef\u001b[0m \u001b[0mmidi_audio\u001b[0m\u001b[0;34m(\u001b[0m\u001b[0mmidi_in\u001b[0m\u001b[0;34m,\u001b[0m \u001b[0mname_out\u001b[0m \u001b[0;34m=\u001b[0m \u001b[0;34m'none'\u001b[0m\u001b[0;34m,\u001b[0m \u001b[0msoundfont\u001b[0m\u001b[0;34m=\u001b[0m \u001b[0mdefault_soundfont\u001b[0m\u001b[0;34m)\u001b[0m\u001b[0;34m:\u001b[0m\u001b[0;34m\u001b[0m\u001b[0;34m\u001b[0m\u001b[0m\n",
      "\u001b[0;32m~/anaconda3/lib/python3.6/subprocess.py\u001b[0m in \u001b[0;36mcall\u001b[0;34m(timeout, *popenargs, **kwargs)\u001b[0m\n\u001b[1;32m    287\u001b[0m     \u001b[0;32mwith\u001b[0m \u001b[0mPopen\u001b[0m\u001b[0;34m(\u001b[0m\u001b[0;34m*\u001b[0m\u001b[0mpopenargs\u001b[0m\u001b[0;34m,\u001b[0m \u001b[0;34m**\u001b[0m\u001b[0mkwargs\u001b[0m\u001b[0;34m)\u001b[0m \u001b[0;32mas\u001b[0m \u001b[0mp\u001b[0m\u001b[0;34m:\u001b[0m\u001b[0;34m\u001b[0m\u001b[0;34m\u001b[0m\u001b[0m\n\u001b[1;32m    288\u001b[0m         \u001b[0;32mtry\u001b[0m\u001b[0;34m:\u001b[0m\u001b[0;34m\u001b[0m\u001b[0;34m\u001b[0m\u001b[0m\n\u001b[0;32m--> 289\u001b[0;31m             \u001b[0;32mreturn\u001b[0m \u001b[0mp\u001b[0m\u001b[0;34m.\u001b[0m\u001b[0mwait\u001b[0m\u001b[0;34m(\u001b[0m\u001b[0mtimeout\u001b[0m\u001b[0;34m=\u001b[0m\u001b[0mtimeout\u001b[0m\u001b[0;34m)\u001b[0m\u001b[0;34m\u001b[0m\u001b[0;34m\u001b[0m\u001b[0m\n\u001b[0m\u001b[1;32m    290\u001b[0m         \u001b[0;32mexcept\u001b[0m\u001b[0;34m:\u001b[0m\u001b[0;34m\u001b[0m\u001b[0;34m\u001b[0m\u001b[0m\n\u001b[1;32m    291\u001b[0m             \u001b[0mp\u001b[0m\u001b[0;34m.\u001b[0m\u001b[0mkill\u001b[0m\u001b[0;34m(\u001b[0m\u001b[0;34m)\u001b[0m\u001b[0;34m\u001b[0m\u001b[0;34m\u001b[0m\u001b[0m\n",
      "\u001b[0;32m~/anaconda3/lib/python3.6/subprocess.py\u001b[0m in \u001b[0;36mwait\u001b[0;34m(self, timeout, endtime)\u001b[0m\n\u001b[1;32m   1475\u001b[0m                         \u001b[0;32mif\u001b[0m \u001b[0mself\u001b[0m\u001b[0;34m.\u001b[0m\u001b[0mreturncode\u001b[0m \u001b[0;32mis\u001b[0m \u001b[0;32mnot\u001b[0m \u001b[0;32mNone\u001b[0m\u001b[0;34m:\u001b[0m\u001b[0;34m\u001b[0m\u001b[0;34m\u001b[0m\u001b[0m\n\u001b[1;32m   1476\u001b[0m                             \u001b[0;32mbreak\u001b[0m  \u001b[0;31m# Another thread waited.\u001b[0m\u001b[0;34m\u001b[0m\u001b[0;34m\u001b[0m\u001b[0m\n\u001b[0;32m-> 1477\u001b[0;31m                         \u001b[0;34m(\u001b[0m\u001b[0mpid\u001b[0m\u001b[0;34m,\u001b[0m \u001b[0msts\u001b[0m\u001b[0;34m)\u001b[0m \u001b[0;34m=\u001b[0m \u001b[0mself\u001b[0m\u001b[0;34m.\u001b[0m\u001b[0m_try_wait\u001b[0m\u001b[0;34m(\u001b[0m\u001b[0;36m0\u001b[0m\u001b[0;34m)\u001b[0m\u001b[0;34m\u001b[0m\u001b[0;34m\u001b[0m\u001b[0m\n\u001b[0m\u001b[1;32m   1478\u001b[0m                         \u001b[0;31m# Check the pid and loop as waitpid has been known to\u001b[0m\u001b[0;34m\u001b[0m\u001b[0;34m\u001b[0m\u001b[0;34m\u001b[0m\u001b[0m\n\u001b[1;32m   1479\u001b[0m                         \u001b[0;31m# return 0 even without WNOHANG in odd situations.\u001b[0m\u001b[0;34m\u001b[0m\u001b[0;34m\u001b[0m\u001b[0;34m\u001b[0m\u001b[0m\n",
      "\u001b[0;32m~/anaconda3/lib/python3.6/subprocess.py\u001b[0m in \u001b[0;36m_try_wait\u001b[0;34m(self, wait_flags)\u001b[0m\n\u001b[1;32m   1422\u001b[0m             \u001b[0;34m\"\"\"All callers to this function MUST hold self._waitpid_lock.\"\"\"\u001b[0m\u001b[0;34m\u001b[0m\u001b[0;34m\u001b[0m\u001b[0m\n\u001b[1;32m   1423\u001b[0m             \u001b[0;32mtry\u001b[0m\u001b[0;34m:\u001b[0m\u001b[0;34m\u001b[0m\u001b[0;34m\u001b[0m\u001b[0m\n\u001b[0;32m-> 1424\u001b[0;31m                 \u001b[0;34m(\u001b[0m\u001b[0mpid\u001b[0m\u001b[0;34m,\u001b[0m \u001b[0msts\u001b[0m\u001b[0;34m)\u001b[0m \u001b[0;34m=\u001b[0m \u001b[0mos\u001b[0m\u001b[0;34m.\u001b[0m\u001b[0mwaitpid\u001b[0m\u001b[0;34m(\u001b[0m\u001b[0mself\u001b[0m\u001b[0;34m.\u001b[0m\u001b[0mpid\u001b[0m\u001b[0;34m,\u001b[0m \u001b[0mwait_flags\u001b[0m\u001b[0;34m)\u001b[0m\u001b[0;34m\u001b[0m\u001b[0;34m\u001b[0m\u001b[0m\n\u001b[0m\u001b[1;32m   1425\u001b[0m             \u001b[0;32mexcept\u001b[0m \u001b[0mChildProcessError\u001b[0m\u001b[0;34m:\u001b[0m\u001b[0;34m\u001b[0m\u001b[0;34m\u001b[0m\u001b[0m\n\u001b[1;32m   1426\u001b[0m                 \u001b[0;31m# This happens if SIGCLD is set to be ignored or waiting\u001b[0m\u001b[0;34m\u001b[0m\u001b[0;34m\u001b[0m\u001b[0;34m\u001b[0m\u001b[0m\n",
      "\u001b[0;31mKeyboardInterrupt\u001b[0m: "
     ]
    }
   ],
   "source": [
    "######---  Main  ---######\n",
    "midi_file_name = gen_midi()\n",
    "\n",
    "midi_play(midi_file_name)\n",
    "midi_audio(midi_file_name)\n",
    "midi_png(midi_file_name)"
   ]
  },
  {
   "cell_type": "markdown",
   "metadata": {},
   "source": [
    "## External __Music_Generation__ library\n",
    "This library changes from version to version. New or changed code is first explaind above. This is a copy of music_generation.py "
   ]
  },
  {
   "cell_type": "raw",
   "metadata": {},
   "source": [
    ".. literalinclude:: music_generation.py\n",
    "   :language: python"
   ]
  },
  {
   "cell_type": "code",
   "execution_count": null,
   "metadata": {},
   "outputs": [],
   "source": []
  },
  {
   "cell_type": "code",
   "execution_count": null,
   "metadata": {},
   "outputs": [],
   "source": []
  },
  {
   "cell_type": "code",
   "execution_count": null,
   "metadata": {},
   "outputs": [],
   "source": []
  }
 ],
 "metadata": {
  "kernelspec": {
   "display_name": "Python 3",
   "language": "python",
   "name": "python3"
  },
  "language_info": {
   "codemirror_mode": {
    "name": "ipython",
    "version": 3
   },
   "file_extension": ".py",
   "mimetype": "text/x-python",
   "name": "python",
   "nbconvert_exporter": "python",
   "pygments_lexer": "ipython3",
   "version": "3.6.8"
  }
 },
 "nbformat": 4,
 "nbformat_minor": 2
}
