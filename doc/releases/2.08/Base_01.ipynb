{
 "cells": [
  {
   "cell_type": "markdown",
   "metadata": {},
   "source": [
    "# 2.08 Ending\n",
    "A spesific chord pattern can be added at the end of the \"song\""
   ]
  },
  {
   "cell_type": "code",
   "execution_count": 335,
   "metadata": {},
   "outputs": [],
   "source": [
    "from pyknon.genmidi import Midi\n",
    "from pyknon.music import Rest, Note, NoteSeq\n",
    "import numpy as np\n",
    "import matplotlib.pyplot as plt"
   ]
  },
  {
   "cell_type": "markdown",
   "metadata": {},
   "source": [
    "__Instruments:__\n",
    "Available are at lest the 128 General-Midi (GM) Instruments. Depending on the sound-fonts there is a bigger choise. A list of the GM instruments can be found here. https://jazz-soft.net/demo/GeneralMidi.html\n"
   ]
  },
  {
   "cell_type": "code",
   "execution_count": 336,
   "metadata": {},
   "outputs": [],
   "source": [
    "major = np.array([ 0, 2, 4, 5, 7, 9, 11])\n",
    "minor = np.array([ 0, 2, 3, 5, 7, 8, 10])  \n",
    "blues = np.array([ 0, 3, 5, 6, 7, 10])\n",
    "C7 = np.array([ 0, 4, 7, 10]) \n",
    "CM7 = np.array([ 0, 4, 7, 11])\n",
    "Cm7 = np.array([ 0, 3, 7, 10])\n",
    "Cm  = np.array([ 0, 3, 7])\n",
    "C   = np.array([ 0, 4, 7])\n",
    "power = np.array([ 0,7])\n",
    "bass= np.array([ 0])"
   ]
  },
  {
   "cell_type": "code",
   "execution_count": 337,
   "metadata": {},
   "outputs": [],
   "source": [
    "\n",
    "def scale_create(tones):\n",
    "    tones = np.asarray(tones)   # tones which form chord or scale in the first octave (0-11)\n",
    "    if any(tones > 11):             # tones over one octave?\n",
    "        tones = np.mod(tones,12)    # set the thones in one octave\n",
    "        tones = np.sort(tones)      # sort the tones new\n",
    "        tones = np.unique(tones)    # remove duplicate tones\n",
    "    octave = np.repeat( np.linspace(0,108, num=10), len(tones))\n",
    "    scale = np.add( octave, np.tile(tones, 10)) # add element wise octave and note\n",
    "    return scale.astype(int)\n",
    "    \n",
    "def fade(start,end,steps): # currently not in use\n",
    "    fade = np.around( np.linspace(start,end,num=steps))\n",
    "    fade = fade.astype(int)\n",
    "    return fade\n",
    "\n",
    "def ran_volume(volume, prob_volume, melody_len):\n",
    "    volume = np.asarray(volume, dtype=int)         # this are the allowed volumes of thenotes\n",
    "    prob_volume = np.asarray(prob_volume)          # this are the probabilities how often each volume will occure\n",
    "    prob_volume = prob_volume/np.sum(prob_volume) \n",
    "    volumes = np.r_[np.random.choice(volume, size=melody_len, p=prob_volume)]\n",
    "    return volumes\n",
    "\n",
    "#   currently not in use\n",
    "def intvl_melody(intvl, prob_intvl, melody_len):  #Interval Melody   \n",
    "    intvl = np.asarray(intvl)            # Possible interval\n",
    "    prob_intvl = np.asarray(prob_intvl)         # Probability of each interval\n",
    "    prob_intvl = prob_intvl/np.sum(prob_intvl)\n",
    "    intervals = np.r_[np.random.choice(intvl, size=melody_len, p=prob_intvl)] \n",
    "    imelody = np.cumsum(intervals)\n",
    "    return imelody\n",
    "\n",
    "\n",
    "#   liniar_range: Generates an range in which the instrument can play. \n",
    "def liniar_range(r_start, r_top, r_edge, r_end): # acceptance range of the instrument \n",
    "    h = 100 # hight of acceptance function\n",
    "    a_range = np.zeros(121, dtype=int)  # only to midi =120 as 127 is not a complete octave\n",
    "    np.put(a_range, range(r_start,r_top),  np.linspace(0,h, num=(r_top -r_start)) )\n",
    "    np.put(a_range, range(r_top, r_edge),  np.linspace(h,h, num=(r_edge-r_top  )) )\n",
    "    np.put(a_range, range(r_edge, r_end),  np.linspace(h,0, num=(r_end -r_edge )) )\n",
    "\n",
    "    return a_range\n",
    "    \n",
    "#   i_last_note: finds de i value of the last not in the actual scale.\n",
    "def i_last_note(note, scale):\n",
    "    i_note = (np.abs(scale - note)).argmin()\n",
    "    return i_note\n",
    "\n",
    "#   intvl_next is a modification of intvl_melody. But it does only creats one interval and not an array/melody in one time.\n",
    "def intvl_next(intvl, prob_intvl):  #singel interval\n",
    "    intvl = np.asarray(intvl)            # Possible interval\n",
    "    prob_intvl = np.asarray(prob_intvl)         # Probability of each interval\n",
    "    prob_intvl = prob_intvl/np.sum(prob_intvl)\n",
    "    interval = np.random.choice(intvl, size=1, p=prob_intvl)\n",
    "    return interval[0]\n",
    "\n",
    "#   acceptance: accepts and refuses proposed nots with Metropolis-Hasting Algorythem.\n",
    "#     x is the value in the aceptance range of the current note, while x_new is it from the proposoal note\n",
    "def acceptance(x, x_new):\n",
    "    if x_new < 1:\n",
    "        if x < 1:\n",
    "            print('start_note not in range')\n",
    "            return \n",
    "    quot = x_new/x\n",
    "    if quot >= 1: return True\n",
    "    if np.random.uniform(0,1)< quot: return True\n",
    "    else: return False\n",
    "    \n",
    "#   ran_duration crats a random rythem with length melody_len (numbers of beats)\n",
    "def ran_duration(duration, prob_duration, melody_len):    \n",
    "    duration= np.asarray(duration)                  # this are the allowed durations of the notes\n",
    "    prob_duration = np.asarray(prob_duration)       # this are the probabilities how often each will occure\n",
    "    prob_duration = prob_duration/np.sum(prob_duration)\n",
    "    cumsum, melody_len, rythem = 0, melody_len/4 , np.asarray([])  #melody_len/4 as note values are quarter\n",
    "    while cumsum < melody_len:\n",
    "        note_len = np.random.choice(duration, p=prob_duration)\n",
    "        cumsum = cumsum + note_len\n",
    "        rythem = np.append(rythem,note_len)\n",
    "    return rythem , len(rythem)\n",
    "\n",
    "#   plot_range: plot all ranges together\n",
    "def plot_range(ranges,labels,title):\n",
    "    fig, ax = plt.subplots()\n",
    "    plt.xlabel('Midi Note')\n",
    "    plt.ylabel('Acceptance')\n",
    "    plt.title(title)\n",
    "\n",
    "    for a_range, lab in zip(ranges,labels):\n",
    "        ax.plot(range(121), a_range,label= lab )\n",
    "    ax.vlines(x=np.linspace(0,108, num=10), ymin=0, ymax=10, color='grey', label='Octaves',linewidth=1) # plot octaves\n",
    "    plt.legend()\n",
    "    plt.show()\n",
    "    \n",
    "def acceptance_melody(intvl, prob_intvl, pattern, start_note, a_range, notenr, rythem):\n",
    "    melody = np.zeros(notenr, dtype=int)\n",
    "    cum_rythem = np.cumsum(rythem) *4\n",
    "    cum_rythem = np.concatenate(([0],cum_rythem))[:-1] # add 0 at beginig remove last element\n",
    "    scale_change = pattern[:,0]\n",
    "    scale_nr =0\n",
    "    scale = pattern[scale_nr,1]\n",
    "    melody[0] = scale[i_last_note(start_note,scale)]\n",
    "    \n",
    "    for npn in range(1, notenr):  #npn: note per note (index)      \n",
    "        scale_nr = np.ravel(np.argwhere(scale_change <= cum_rythem[npn-1])) [-1]     \n",
    "        scale = pattern[scale_nr,1]\n",
    "\n",
    "        accept = False    \n",
    "        while not accept:       # aslong acept == False\n",
    "            inote = i_last_note(melody[npn-1],scale)\n",
    "            inote_next = inote + intvl_next(intvl, prob_intvl)         # add current not with Proposition\n",
    "            accept_val = a_range[[melody[(npn-1)],scale[inote_next]]]  # get acceptance values\n",
    "            accept = acceptance(accept_val[0],accept_val[1])\n",
    "        melody[npn] = scale[inote_next]\n",
    "    return melody\n"
   ]
  },
  {
   "cell_type": "markdown",
   "metadata": {},
   "source": [
    "__pattern_gen__ The end pattern replaces the normal pattern at the end."
   ]
  },
  {
   "cell_type": "code",
   "execution_count": 338,
   "metadata": {},
   "outputs": [],
   "source": [
    "def pattern_gen(scales,end_scale, melody_len):\n",
    "    bpb = 4  # beats per bar\n",
    "    \n",
    "#--scales\n",
    "    scales   = np.asarray(scales)\n",
    "    factor = int(np.trunc(melody_len/(np.sum(scales[:,0]) * bpb)) + 1) # factor rounded up: how many times is the pattern used\n",
    "    change_times = np.cumsum(np.tile(scales[:,0],factor)) * bpb        # create change time list with factor\n",
    "    change_times = np.concatenate((np.asarray([0]),change_times))[:-1] # add 0 at beginig remove last element\n",
    "    \n",
    "    for i in range(len(scales)):          # send scales to scale_create\n",
    "        scales[i,1] = scale_create(scales[i,1])\n",
    "    pattern = np.tile(scales,(factor,1))   # tile the scales as long the melody is\n",
    "    pattern[:,0] = change_times            #insert change_times into scales\n",
    "    \n",
    "#--end_scales\n",
    "    end_scale= np.asarray(end_scale)\n",
    "    end_times = melody_len - np.cumsum(( end_scale[:,0]*bpb )[::-1])[::-1]   # reversed cumsum subtracted of melody_len\n",
    "    end_scale[:,0] = end_times              #insert end_times into en_scale\n",
    "    for i in range(len(end_scale)):         # send end_scale to scale_create\n",
    "        end_scale[i,1] = scale_create(end_scale[i,1])\n",
    "\n",
    "#--merge\n",
    "    pattern = np.delete(pattern, np.argwhere(pattern[:,0] >= end_scale[0,0]) ,0) # remove unneeded scales\n",
    "    pattern = np.concatenate((pattern,end_scale),axis=0)\n",
    "    pattern = np.delete(pattern, np.argwhere(pattern[:,0] >= melody_len) ,0)     # remove if end is 0 bars\n",
    "    return pattern"
   ]
  },
  {
   "cell_type": "markdown",
   "metadata": {},
   "source": [
    "__tune_V:__ \n",
    "* A Ending Chord change is defined. It replaces the normal pattern at the end.\n",
    "* the first voice has a diffrent pattern. It palys on the Blues scale.\n",
    "* Three Piano voices play in a range of an octave and generete together the chords of the extended Blues scheme\n"
   ]
  },
  {
   "cell_type": "code",
   "execution_count": 444,
   "metadata": {},
   "outputs": [],
   "source": [
    "def tune_V():\n",
    "    tune_name = 'tune_V'  \n",
    "    np.random.seed(120)\n",
    "    bar, bpb = 12, 4  # bar: Takt , bpb: beat per bar\n",
    "    melody_len = bar * bpb\n",
    "\n",
    "    #scales = [[1,CM7],[1,Cm7+9],[1,Cm7+2],[1,C7+7]] #rythem Change\n",
    "    #scales = [[4,C7],[2,C7+5],[2,C7],[1,C7+7],[1,C7+5],[2,C7]] # Blues \n",
    "    scales = [[1,C7],[1,C7+5],[2,C7],[2,C7+5],[2,C7],[1,C7+7],[1,C7+5],[1,C7],[1,C7+7]] # Blues erweitert\n",
    "    end_scale = [[1,power]]\n",
    "    pattern = pattern_gen(scales, end_scale, melody_len)\n",
    "    pattern2 = pattern_gen([[12,blues]], end_scale, melody_len)\n",
    "    \n",
    "    # Solo voice\n",
    "    range_1 = liniar_range(44,51,72,78)\n",
    "    rythem1, notenr_1 = ran_duration([1/16,1/8, 1/4,1/2], [3,5,3,0.5], melody_len)\n",
    "    melody1 = acceptance_melody([-2,-1, 0, 1, 2],[2, 3, 1, 3, 2],pattern2, 68, range_1, notenr_1, rythem1)\n",
    "    volumes1 = ran_volume([0,127], [1,4], notenr_1 )\n",
    "    notes1 = NoteSeq( [Note(no,octave=0, dur=du, volume=vo) for no,du,vo in zip(melody1,rythem1,volumes1)] )\n",
    "    \n",
    "    # Bass voice\n",
    "    range_2 = liniar_range(38,41,52,67)\n",
    "    rythem2, notenr_2 = ran_duration([1/8, 1/4,1/2], [4,4,1], melody_len)\n",
    "    melody2 = acceptance_melody([-2,-1, 0, 1, 2],[0, 3, 1, 3, 0],pattern, 46, range_2, notenr_2,rythem2)\n",
    "    volumes2 = ran_volume([0,120], [0,8], notenr_2 )\n",
    "    notes2 = NoteSeq( [Note(no,octave=0, dur=du, volume=vo) for no,du,vo in zip(melody2,rythem2,volumes2)] )\n",
    "    \n",
    "    # Chord Voices\n",
    "    range_3 = liniar_range(40,48,60,67)\n",
    "    rythem3, notenr_3 = ran_duration([1/8, 1/4,1/2], [1,2,1], melody_len)\n",
    "    melody3 = acceptance_melody([-2,-1, 0, 1, 2],[0, 3, 1, 3, 0],pattern, 48, range_3, notenr_3,rythem3)\n",
    "    volumes3 = ran_volume([0,80], [0,8], notenr_3 )\n",
    "    notes3 = NoteSeq( [Note(no,octave=0, dur=du, volume=vo) for no,du,vo in zip(melody3,rythem3,volumes3)] )\n",
    "    \n",
    "    range_4 = liniar_range(40,48,60,67)\n",
    "    rythem4, notenr_4 = ran_duration([1/8, 1/4,1/2], [1,2,1], melody_len)\n",
    "    melody4 = acceptance_melody([-2,-1, 0, 1, 2],[0, 3, 1, 3, 0],pattern, 60, range_4, notenr_4,rythem4)\n",
    "    volumes4 = ran_volume([0,80], [0,8], notenr_4 )\n",
    "    notes4 = NoteSeq( [Note(no,octave=0, dur=du, volume=vo) for no,du,vo in zip(melody4,rythem4,volumes4)] )\n",
    "    \n",
    "    range_5 = liniar_range(40,48,60,67)\n",
    "    rythem5, notenr_5 = ran_duration([1/8, 1/4,1/2], [1,2,1], melody_len)\n",
    "    melody5 = acceptance_melody([-2,-1, 0, 1, 2],[0, 3, 1, 3, 0],pattern, 54, range_5, notenr_5,rythem5)\n",
    "    volumes5 = ran_volume([0,80], [0,8], notenr_5 )\n",
    "    notes5= NoteSeq( [Note(no,octave=0, dur=du, volume=vo) for no,du,vo in zip(melody5,rythem5,volumes5)] )\n",
    "    \n",
    "    \n",
    "    plot_range([range_1,range_2,range_3],['range_1','range_2','range_3'],tune_name)\n",
    "    instruments = [71,32,1,1,1]\n",
    "    notes = [notes1,notes2,notes3,notes4,notes5]\n",
    "    return notes, instruments,tune_name\n"
   ]
  },
  {
   "cell_type": "raw",
   "metadata": {},
   "source": [
    ".. raw:: html\n",
    "\n",
    "    <br><audio controls=\"controls\" src=\"https://raw.githubusercontent.com/schuhva/Music-Generation/master/doc/releases/2.08/tune_cool_V.flac\" type=\"audio/flac\"></audio>\n",
    "     tune_V ex. 1\n",
    "\n",
    "    <br><audio controls=\"controls\" src=\"https://raw.githubusercontent.com/schuhva/Music-Generation/master/doc/releases/2.08/tune_V.flac\" type=\"audio/flac\"></audio>\n",
    "     tune_V ex. 2\n",
    "     \n",
    "     <br><img src=\"https://raw.githubusercontent.com/schuhva/Music-Generation/master/doc/releases/2.08/tune_V-1.png\">\n",
    "     tune_V ex. 2 <br><br><br>"
   ]
  },
  {
   "cell_type": "code",
   "execution_count": 445,
   "metadata": {},
   "outputs": [],
   "source": [
    "\n",
    "def gen_midi():\n",
    "#     squezze into a MIDI framework\n",
    "    notes, instruments, tune_name = tune_V() #  <--- select a tune  <<--     <<<<<<<<<--- select a tune -----\n",
    "    nTracks = len(notes)\n",
    "    \n",
    "    m = Midi(number_tracks=nTracks, tempo=120, instrument=instruments)\n",
    "    for iTrack in range(nTracks):\n",
    "        m.seq_notes(notes[iTrack], track=iTrack)\n",
    "\n",
    "    #--- write the MIDI file -----\n",
    "    midi_file_name = tune_name +'.mid'   # set the name of the file\n",
    "    m.write(midi_file_name)\n",
    "    return midi_file_name"
   ]
  },
  {
   "cell_type": "markdown",
   "metadata": {},
   "source": [
    "## Midi: Play and Generate audio-file \n",
    "Externel players offered a better sound quality in comparison with python liaberys. We use __VLC__  and __Musescore__. The __soundfont__ for the VLC player is defined over the command line. For Musescore through the Gui in the preferences.\n"
   ]
  },
  {
   "cell_type": "code",
   "execution_count": 446,
   "metadata": {},
   "outputs": [],
   "source": [
    "import subprocess\n",
    "default_soundfont = '/usr/share/sounds/sf3/MuseScore_General.sf3'\n",
    "\n",
    "def midi_play(midi_in, soundfont= default_soundfont):\n",
    "    subprocess.call(['cvlc', midi_in , 'vlc://quit', '--soundfont', '/home/viturin/-vitis/Documents/MuseScore2/Soundfonts/Compifont_13082016.sf2'])   # cvlc = vlc without gui\n",
    "    \n",
    "def midi_audio(midi_in, name_out = 'none', soundfont= default_soundfont):\n",
    "    if name_out == 'none' :\n",
    "        name_out = midi_in.replace('.mid', '.flac')\n",
    "    else:\n",
    "        name_out = name_out + '.flac'\n",
    "    subprocess.call(['mscore', '-o', name_out, midi_in]) # -o = export as\n",
    "\n",
    "def midi_png(midi_in, name_out = 'none'):\n",
    "    if name_out == 'none' :\n",
    "        name_out = midi_in.replace('.mid', '.png')\n",
    "    else:\n",
    "        name_out = name_out + '.png'\n",
    "    subprocess.call(['mscore', '-o', name_out, '-T', '2', midi_in]) # -o = export as , -T 2 = cut page with 2 pixel"
   ]
  },
  {
   "cell_type": "code",
   "execution_count": 447,
   "metadata": {},
   "outputs": [
    {
     "data": {
      "image/png": "[encoded data removed]",
      "text/plain": [
       "<Figure size 432x288 with 1 Axes>"
      ]
     },
     "metadata": {
      "needs_background": "light"
     },
     "output_type": "display_data"
    }
   ],
   "source": [
    "######---  Main  ---######\n",
    "midi_file_name = gen_midi()\n",
    "\n",
    "midi_play(midi_file_name)\n",
    "midi_audio(midi_file_name)\n",
    "midi_png(midi_file_name)"
   ]
  },
  {
   "cell_type": "code",
   "execution_count": null,
   "metadata": {},
   "outputs": [],
   "source": []
  },
  {
   "cell_type": "code",
   "execution_count": null,
   "metadata": {},
   "outputs": [],
   "source": []
  },
  {
   "cell_type": "code",
   "execution_count": null,
   "metadata": {},
   "outputs": [],
   "source": []
  },
  {
   "cell_type": "code",
   "execution_count": null,
   "metadata": {},
   "outputs": [],
   "source": []
  }
 ],
 "metadata": {
  "kernelspec": {
   "display_name": "Python 3",
   "language": "python",
   "name": "python3"
  },
  "language_info": {
   "codemirror_mode": {
    "name": "ipython",
    "version": 3
   },
   "file_extension": ".py",
   "mimetype": "text/x-python",
   "name": "python",
   "nbconvert_exporter": "python",
   "pygments_lexer": "ipython3",
   "version": "3.6.8"
  }
 },
 "nbformat": 4,
 "nbformat_minor": 2
}
