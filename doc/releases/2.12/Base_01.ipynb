{
 "cells": [
  {
   "cell_type": "markdown",
   "metadata": {},
   "source": [
    "# 2.12 Georgia on my mind\n",
    "\n",
    "\n"
   ]
  },
  {
   "cell_type": "code",
   "execution_count": 1,
   "metadata": {},
   "outputs": [],
   "source": [
    "from pyknon.genmidi import Midi\n",
    "from pyknon.music import Rest, Note, NoteSeq\n",
    "from music_generation import *\n",
    "import numpy as np\n",
    "import matplotlib.pyplot as plt"
   ]
  },
  {
   "cell_type": "markdown",
   "metadata": {},
   "source": [
    "### Chord definitions"
   ]
  },
  {
   "cell_type": "code",
   "execution_count": 2,
   "metadata": {},
   "outputs": [],
   "source": [
    "C     = np.array([ 0, 4, 7])\n",
    "Cm    = np.array([ 0, 3, 7])\n",
    "Cdim  = np.array([ 0, 3, 6])\n",
    "\n",
    "CM7   = np.array([ 0, 4, 7, 11])\n",
    "C7    = np.array([ 0, 4, 7, 10])\n",
    "Cm7   = np.array([ 0, 3, 7, 10])\n",
    "Cdim7 = np.array([ 0, 3, 6, 10])\n",
    "Cdim6 = np.array([ 0, 3, 6, 9 ])\n",
    "C6    = np.array([ 0, 4, 7, 9 ]) # inversion of Am7\n",
    "Cm6   = np.array([ 0, 3, 7, 9 ])\n",
    "\n",
    "Csus4 = np.array([ 0, 5, 7])\n",
    "Csus2 = np.array([ 0, 2, 7])\n",
    "Csus47= np.array([ 0, 5, 7, 10])\n",
    "\n",
    "P = np.array([ 0,7])  # Power chord (Perfect unison, Perfect fifth)\n",
    "B = np.array([ 0])    # Bass (Perfect unison)\n",
    "\n",
    "major = np.array([ 0, 2, 4, 5, 7, 9, 11])\n",
    "minor = np.array([ 0, 2, 3, 5, 7, 8, 10])  \n",
    "blues = np.array([ 0, 3, 5, 6, 7, 10])"
   ]
  },
  {
   "cell_type": "markdown",
   "metadata": {},
   "source": [
    "## tune_212 \n",
    "For this tune I use the chord sequence of a Jazz Standart.\n",
    "__Georgia on my mind__\n",
    "\n",
    "* Two E-Piano play only eight while the third also plays sixteenth.\n",
    "* An Organ has a seperate Bass line with quarters\n",
    "* The Clarinet has the solo voice"
   ]
  },
  {
   "cell_type": "code",
   "execution_count": 85,
   "metadata": {},
   "outputs": [],
   "source": [
    "def tune_212_A():\n",
    "    tune_name = 'tune_212_A'  \n",
    "    np.random.seed(88    )    # 88 78\n",
    "    bar, bpb = 26, 4  # bar: Takt , bpb: beat per bar\n",
    "    melody_len = bar * bpb\n",
    "    end_dur = 1\n",
    "    \n",
    "    scales = [[1,'F',CM7],[0.5,'E',Cdim7],[0.5,'A',C7],[0.5,'D',Cm7],[0.5,'Db',C7],\n",
    "              [0.5,'C',C7],[0.5,'B',Cdim7],[0.5,'Bb',Cm7],[0.5,'A',Cm7],[0.5,'Ab',Cdim6],[0.5,'G',Cm7],\n",
    "              [1/4,'C',C7],[1/4,'Bb',C7],[0.5,'A',Cm7],[0.5,'D',Cm7],[0.5,'G',Cm7],[0.5,'C',C7],[0.5,'F',CM7],\n",
    "              \n",
    "              [0.5,'D',Cm],[0.5,'D',CM7],[0.5,'D',Cm7],[0.5,'D',Cm6],\n",
    "              [0.5,'D',Cm],[0.5,'D',CM7],[0.5,'D',Cm7],[0.5,'D',Cm6],\n",
    "              [0.5,'D',Cm],[0.5,'D',CM7],[0.5,'D',Cm7],[1/4,'D',Cm6],[1/4,'E',C7],\n",
    "              [0.5,'A',Cm7],[0.5,'D',C7],[0.5,'G',Cm7],[0.5,'C',C7],    \n",
    "             \n",
    "              [1,'F',CM7],[0.5,'E',Cdim7],[0.5,'A',C7],[0.5,'D',Cm7],[0.5,'Db',C7],\n",
    "              [0.5,'C',C7],[0.5,'B',Cdim7],[0.5,'Bb',Cm7],[0.5,'A',Cm7],[0.5,'Ab',Cdim6],[0.5,'G',Cm7],\n",
    "              [1/4,'C',C7],[1/4,'Bb',C7],[0.5,'A',Cm7],[0.5,'D',Cm7],[0.5,'G',Cm7],[0.5,'C',C7],[0.5,'F',CM7]  ]\n",
    "    \n",
    "    \n",
    "    bass1  = [[1,'F',B],[0.5,'E',B],[0.5,'A',B],[0.5,'D',B],[0.5,'Db',B],\n",
    "              [0.5,'C',B],[0.5,'B',B],[0.5,'Bb',B],[0.5,'A',B],[0.5,'Ab',B],[0.5,'G',B],\n",
    "              [1/4,'C',B],[1/4,'Bb',B],[0.5,'A',B],[0.5,'D',B],[0.5,'G',B],[0.5,'C',B],[0.5,'F',B],\n",
    "              \n",
    "              [0.5,'D',B],[0.5,'C#',B],[0.5,'C',B],[0.5,'B',B],\n",
    "              [0.5,'D',B],[0.5,'C#',B],[0.5,'C',B],[0.5,'B',B],\n",
    "              [0.5,'D',B],[0.5,'C#',B],[0.5,'C',B],[1/4,'B',B],[1/4,'E',B],\n",
    "              [0.5,'A',B],[0.5,'D',B],[0.5,'G',B],[0.5,'C',B],    \n",
    "             \n",
    "              [1,'F',B],[0.5,'E',B],[0.5,'A',B],[0.5,'D',B],[0.5,'Db',B],\n",
    "              [0.5,'C',B],[0.5,'B',B],[0.5,'Bb',B],[0.5,'A',B],[0.5,'Ab',B],[0.5,'G',B],\n",
    "              [1/4,'C',B],[1/4,'Bb',B],[0.5,'A',B],[0.5,'D',B],[0.5,'G',B],[0.5,'C',B],[0.5,'F',B],  ]\n",
    "    \n",
    "    #end_scale = [[0.5,'C',Cm],[0.5,'C',P]]\n",
    "    end_scale = [[0.5,'F',P]]\n",
    "    \n",
    "    pattern = pattern_gen(scales, end_scale, melody_len)\n",
    "    bass1 = pattern_gen(bass1, [[0.5,'F',B]], melody_len)\n",
    "    \n",
    "\n",
    "    # Solo voice\n",
    "    range_1 = liniar_range(50,67,80,92)\n",
    "    rythem1, notenr_1 = ran_duration([1/16,1/8, 1/4,1/2], [0,5,1,0], melody_len,end_dur)\n",
    "    melody1 = acceptance_melody([-2,-1, 0, 1, 2],[1, 4, 4, 4, 1],pattern, 74, range_1, notenr_1, rythem1)\n",
    "    volumes1 = ran_volume([0,100], [1,7], notenr_1 )\n",
    "    notes1 = NoteSeq( [Note(no,octave=0, dur=du, volume=vo) for no,du,vo in zip(melody1,rythem1,volumes1)] )\n",
    "\n",
    "    # Bass2  Organ\n",
    "    range_6 = liniar_range(30,38,50,62)\n",
    "    rythem6, notenr_6 = ran_duration([1/8, 1/4,1/2], [0,1,0], melody_len,end_dur)\n",
    "    melody6 = acceptance_melody([-2,-1, 0, 1, 2],[0, 1, 100, 1, 0],bass1, 48, range_6, notenr_6,rythem6)\n",
    "    volumes6 = ran_volume([0,90], [0,8], notenr_6 )\n",
    "    notes6 = NoteSeq( [Note(no,octave=0, dur=du, volume=vo) for no,du,vo in zip(melody6,rythem6,volumes6)] )\n",
    "\n",
    "    # Chord Voices\n",
    "    range_3 = liniar_range(40,50,67,72)\n",
    "    rythem3, notenr_3 = ran_duration([1/16,1/8, 1/4,1/2], [0,3,0,0], melody_len,end_dur)\n",
    "    melody3 = acceptance_melody([-2,-1, 0, 1, 2],[0, 3, 2, 3, 0],pattern, 65, range_3, notenr_3,rythem3)\n",
    "    volumes3 = ran_volume([0,70], [0,8], notenr_3 )\n",
    "    notes3 = NoteSeq( [Note(no,octave=0, dur=du, volume=vo) for no,du,vo in zip(melody3,rythem3,volumes3)] )\n",
    "\n",
    "    range_4 = liniar_range(40,50,67,72)\n",
    "    rythem4, notenr_4 = ran_duration([1/16,1/8, 1/4,1/2], [1,1,0,0], melody_len,end_dur)\n",
    "    melody4 = acceptance_melody([-2,-1, 0, 1, 2],[0, 3, 1, 3, 0],pattern, 60, range_4, notenr_4,rythem4)\n",
    "    volumes4 = ran_volume([0,70], [0,8], notenr_4 )\n",
    "    notes4 = NoteSeq( [Note(no,octave=0, dur=du, volume=vo) for no,du,vo in zip(melody4,rythem4,volumes4)] )\n",
    "\n",
    "    range_5 = liniar_range(40,50,67,72)\n",
    "    rythem5, notenr_5 = ran_duration([1/16,1/8, 1/4,1/2], [0,1,0,0], melody_len,end_dur)\n",
    "    melody5 = acceptance_melody([-2,-1, 0, 1, 2],[0, 3, 2, 3, 0],pattern, 56, range_5, notenr_5,rythem5)\n",
    "    volumes5 = ran_volume([0,70], [0,8], notenr_5 )\n",
    "    notes5= NoteSeq( [Note(no,octave=0, dur=du, volume=vo) for no,du,vo in zip(melody5,rythem5,volumes5)] )\n",
    "\n",
    "\n",
    "    plot_range([range_1,range_3,range_6],['Clarinet','E-Pianos','Organ'],tune_name)\n",
    "    instruments = [71,4,5,4,16]\n",
    "    notes = [notes1,notes3,notes4,notes5,notes6]\n",
    "    return notes, instruments,tune_name"
   ]
  },
  {
   "cell_type": "raw",
   "metadata": {},
   "source": [
    ".. raw:: html\n",
    "\n",
    "    <br><audio controls=\"controls\" src=\"https://raw.githubusercontent.com/schuhva/Music-Generation/master/doc/releases/2.12/tune_212_A.flac\" type=\"audio/flac\"></audio>\n",
    "     tune__212_A\n",
    "     \n",
    "     <br><img src=\"https://raw.githubusercontent.com/schuhva/Music-Generation/master/doc/releases/2.12/tune_212_A-1.png\">\n",
    "     tune_212_A <br><br><br>"
   ]
  },
  {
   "cell_type": "markdown",
   "metadata": {},
   "source": [
    "__Instruments:__\n",
    "Available are at lest the 128 General-Midi (GM) Instruments. Depending on the sound-fonts there is a bigger choise. A list of the GM instruments can be found here. https://jazz-soft.net/demo/GeneralMidi.html\n"
   ]
  },
  {
   "cell_type": "code",
   "execution_count": 86,
   "metadata": {},
   "outputs": [],
   "source": [
    "\n",
    "def gen_midi():\n",
    "#     squezze into a MIDI framework\n",
    "    notes, instruments, tune_name = tune_212_A() #  <--- select a tune  <<--     <<<<<<<<<--- select a tune -----\n",
    "    nTracks = len(notes)\n",
    "    \n",
    "    m = Midi(number_tracks=nTracks, tempo=120, instrument=instruments)\n",
    "    for iTrack in range(nTracks):\n",
    "        m.seq_notes(notes[iTrack], track=iTrack)\n",
    "\n",
    "    #--- write the MIDI file -----\n",
    "    midi_file_name = tune_name +'.mid'   # set the name of the file\n",
    "    m.write(midi_file_name)\n",
    "    return midi_file_name"
   ]
  },
  {
   "cell_type": "code",
   "execution_count": null,
   "metadata": {},
   "outputs": [
    {
     "data": {
      "image/png": "[encoded data removed]",
      "text/plain": [
       "<Figure size 432x288 with 1 Axes>"
      ]
     },
     "metadata": {
      "needs_background": "light"
     },
     "output_type": "display_data"
    }
   ],
   "source": [
    "######---  Main  ---######\n",
    "midi_file_name = gen_midi()\n",
    "\n",
    "midi_play(midi_file_name)\n",
    "midi_audio(midi_file_name)\n",
    "midi_png(midi_file_name)"
   ]
  },
  {
   "cell_type": "markdown",
   "metadata": {},
   "source": [
    "## External __Music_Generation__ library\n",
    "This library changes from version to version. New or changed code is first explaind above. This is a copy of music_generation.py "
   ]
  },
  {
   "cell_type": "raw",
   "metadata": {},
   "source": [
    ".. literalinclude:: music_generation.py\n",
    "   :language: python"
   ]
  }
 ],
 "metadata": {
  "kernelspec": {
   "display_name": "Python 3",
   "language": "python",
   "name": "python3"
  },
  "language_info": {
   "codemirror_mode": {
    "name": "ipython",
    "version": 3
   },
   "file_extension": ".py",
   "mimetype": "text/x-python",
   "name": "python",
   "nbconvert_exporter": "python",
   "pygments_lexer": "ipython3",
   "version": "3.6.8"
  }
 },
 "nbformat": 4,
 "nbformat_minor": 2
}
