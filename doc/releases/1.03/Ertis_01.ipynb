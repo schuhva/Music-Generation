{
 "cells": [
  {
   "cell_type": "markdown",
   "metadata": {},
   "source": [
    "# 1.03\n",
    "\n",
    "With pyknon ex.1 , ex.2 and midi2audio I have evything to generate midi and to play and export them as music file. With pyknon NoteSeq funktion i have a usabel interface to build the farmes and so to give structure to the music."
   ]
  },
  {
   "cell_type": "markdown",
   "metadata": {},
   "source": [
    "## pyknon ex.1\n",
    "1. output only as midi\n",
    "2. has many features\n"
   ]
  },
  {
   "cell_type": "code",
   "execution_count": 1,
   "metadata": {},
   "outputs": [],
   "source": [
    "from pyknon.genmidi import Midi\n",
    "from pyknon.music import Rest, Note, NoteSeq\n",
    "import numpy as np"
   ]
  },
  {
   "cell_type": "code",
   "execution_count": 2,
   "metadata": {},
   "outputs": [],
   "source": [
    "def angel_trans(grad):\n",
    "    rad = (grad *np.pi) / 180\n",
    "    return rad\n"
   ]
  },
  {
   "cell_type": "markdown",
   "metadata": {},
   "source": [
    "a simpele major frame in which the melody can play"
   ]
  },
  {
   "cell_type": "code",
   "execution_count": 3,
   "metadata": {},
   "outputs": [],
   "source": [
    "frame_dur = [0,2,4,5,7,9,11,12]\n",
    "frame_moll = [0,2,3,5,7,8,10,12]\n",
    "\n",
    "def roud_to_frame(frame, num):\n",
    "    array = np.asarray(frame)\n",
    "    listnr = (np.abs(frame - num)).argmin()\n",
    "    return frame[listnr]"
   ]
  },
  {
   "cell_type": "code",
   "execution_count": 4,
   "metadata": {},
   "outputs": [],
   "source": [
    "def mod12(n):\n",
    "    return n % 12\n",
    "\n",
    "def note_name(number):\n",
    "    notes = \"C C# D D# E F F# G G# A A# B C\".split()\n",
    "    return notes[mod12(number)]"
   ]
  },
  {
   "cell_type": "code",
   "execution_count": 5,
   "metadata": {},
   "outputs": [],
   "source": [
    "#--main--\n",
    "\n",
    "seq = \"\"\n",
    "for i in range(-90,270,20):\n",
    "    sin = np.sin(angel_trans(i))\n",
    "    normal = (sin+1)*6\n",
    "    num = roud_to_frame(frame_moll, normal)\n",
    "    note = note_name(num)\n",
    "    seq = seq + note + \" \""
   ]
  },
  {
   "cell_type": "code",
   "execution_count": 6,
   "metadata": {},
   "outputs": [
    {
     "name": "stdout",
     "output_type": "stream",
     "text": [
      "C C D D# F G G# A# C C C A# G# G F D# D C \n"
     ]
    }
   ],
   "source": [
    "print(seq)\n",
    "notes1 = NoteSeq(seq)\n",
    "midi = Midi(1, tempo=120)\n",
    "midi.seq_notes(notes1, track=0)\n",
    "midi.write(\"demo.mid\")"
   ]
  },
  {
   "cell_type": "markdown",
   "metadata": {},
   "source": [
    "## pyknon ex.2"
   ]
  },
  {
   "cell_type": "code",
   "execution_count": 7,
   "metadata": {},
   "outputs": [
    {
     "data": {
      "text/plain": [
       "'myMidi.mid'"
      ]
     },
     "execution_count": 7,
     "metadata": {},
     "output_type": "execute_result"
    }
   ],
   "source": [
    "#=== section: music generation =================================\n",
    "def tune_A():\n",
    "    notes1 = NoteSeq(      \"C4 D E F G A B C''\")   # Apostroph ' = \"gestrichen\" = Höhe der Oktave\n",
    "    notes2 = NoteSeq(\"r1 r1 C4'' B' A G F E D C\")   # r = rest = Pause; Zahl = Länge der Pause\n",
    "    return notes1, notes2\n",
    "\n",
    "def tune_B():\n",
    "    notes1 = NoteSeq(\"Db4- F#8 A Bb4\")   # Zahl = Länge des Tones: 1=ganz, 4=Viertel\n",
    "    notes2 = NoteSeq([Note(2, dur=1/4), Note(6, dur=1/8), Note(9, dur=1/8), Note(10, dur=1/4)])\n",
    "    return notes1, notes2\n",
    "\n",
    "\n",
    "def generate_midi_pyknon():\n",
    "    #--- choose the tune \n",
    "    notes1, notes2 = tune_A()         # <<<---- select a tune <<<------\n",
    "\n",
    "    #--- squezze ir into a MIDI framework \n",
    "    m = Midi(2, tempo=120)     #\n",
    "    m.seq_notes(notes1, track=0)\n",
    "    m.seq_notes(notes2, track=1)\n",
    "\n",
    "    #--- write the MIDI file \n",
    "    midi_file_name =  \"myMidi.mid\"       # set the name of the file\n",
    "    m.write(midi_file_name)\n",
    "    return midi_file_name\n",
    "\n",
    "\n",
    "generate_midi_pyknon()"
   ]
  },
  {
   "cell_type": "markdown",
   "metadata": {},
   "source": [
    "---"
   ]
  },
  {
   "cell_type": "markdown",
   "metadata": {},
   "source": [
    "## pyfluidsynth\n",
    "more or less an python api for fluidsynth\n",
    "direct sound output\n",
    "suports several channels with diffrent instruments (Gneral-Midi)\n",
    "todo: ouput as an audio file."
   ]
  },
  {
   "cell_type": "code",
   "execution_count": 8,
   "metadata": {},
   "outputs": [
    {
     "name": "stdout",
     "output_type": "stream",
     "text": [
      "(1, 0, 33, b'Fingered Bass')\n"
     ]
    }
   ],
   "source": [
    "import time\n",
    "import fluidsynth\n",
    "\n",
    "fs = fluidsynth.Synth()\n",
    "\n",
    "#fs.start()\n",
    "fs.start(driver=\"alsa\")\n",
    "\n",
    "sfid = fs.sfload(\"/usr/share/sounds/sf3/MuseScore_General.sf3\")\n",
    "fs.program_select(0, sfid, 0, 33)   #(tracknr , sondfontid, ??, instrumentnr)\n",
    "print(fs.channel_info(0))\n",
    "\n",
    "fs.noteon(0, 60, 30)\n",
    "fs.noteon(0, 67, 30)\n",
    "fs.noteon(0, 76, 30)\n",
    "\n",
    "time.sleep(1.0)\n",
    "\n",
    "fs.noteon(0, 60, 30)\n",
    "fs.noteon(0, 67, 30)\n",
    "fs.noteon(0, 76, 30)\n",
    "\n",
    "time.sleep(1.0)\n",
    "\n",
    "fs.noteoff(0, 60)\n",
    "fs.noteoff(0, 67)\n",
    "fs.noteoff(0, 76)\n",
    "\n",
    "time.sleep(1.0)\n",
    "\n",
    "fs.delete()"
   ]
  },
  {
   "cell_type": "markdown",
   "metadata": {},
   "source": [
    "## Midi: Play and Generate audio-file  (first solution)\n",
    "\n",
    "For generating audio-files I use midi2audio.\n",
    "\n",
    "### midi2audio\n",
    "midi to audio converter with FluidSynth.\n",
    "But only over jack sound driver in Linux.\n",
    "\n",
    "**When using play_midi in Linux with Pulseaudio**  \n",
    "-->  with pulseaudio it is nessecary to change the source code of midi2audio: "
   ]
  },
  {
   "cell_type": "code",
   "execution_count": 9,
   "metadata": {},
   "outputs": [
    {
     "data": {
      "text/plain": [
       "''"
      ]
     },
     "execution_count": 9,
     "metadata": {},
     "output_type": "execute_result"
    }
   ],
   "source": [
    "'''\n",
    "replace:\n",
    "def play_midi(self, midi_file):\n",
    "    subprocess.call(['fluidsynth', '-i', self.sound_font, midi_file, '-r', str(self.sample_rate)])\n",
    "    \n",
    "with:\n",
    "def play_midi(self, midi_file):\n",
    "    subprocess.call(['fluidsynth', '-i', self.sound_font, midi_file, '-r', str(self.sample_rate), '-a', 'pulseaudio'])\n",
    "'''\n",
    "''"
   ]
  },
  {
   "cell_type": "markdown",
   "metadata": {},
   "source": [
    "otherwise FluidSyth can also used manualy. See below."
   ]
  },
  {
   "cell_type": "code",
   "execution_count": 10,
   "metadata": {},
   "outputs": [],
   "source": [
    "from midi2audio import FluidSynth\n",
    "default_soundfont = '/usr/share/sounds/sf3/MuseScore_General.sf3'\n",
    "soundfont = default_soundfont\n",
    "\n",
    "def midi_play(midi_in, soundfont= default_soundfont):\n",
    "    fs = FluidSynth(soundfont)\n",
    "    fs.play_midi(midi_in)  # This runs FluidSyth with Jack. \n",
    "\n",
    "    \n",
    "def midi_audio(midi_in, name_out = 'none', soundfont= default_soundfont):\n",
    "    fs = FluidSynth(soundfont)\n",
    "    if name_out == 'none' :\n",
    "        name_out = midi_in.replace('.mid', '.flac')\n",
    "    else:\n",
    "        name_out = name_out + '.flac'\n",
    "        \n",
    "    fs.midi_to_audio(midi_in, name_out)\n",
    "    \n",
    "    \n",
    "#midi_audio('scale.mid')\n",
    "midi_play('myMidi.mid')"
   ]
  },
  {
   "cell_type": "raw",
   "metadata": {},
   "source": [
    ".. raw:: html\n",
    "\n",
    "    <audio controls=\"controls\">\n",
    "      <source src=\"https://raw.githubusercontent.com/schuhva/Music-Generation/master/doc/releases/1.03/scale.flac\" type=\"audio/flac\">\n",
    "      Your browser does not support the <code>audio</code> element. \n",
    "    </audio>\n",
    "    \n",
    "https://raw.githubusercontent.com/schuhva/Music-Generation/master/doc/releases/1.03/scale.flac\n",
    "\n"
   ]
  },
  {
   "cell_type": "markdown",
   "metadata": {},
   "source": [
    "### FluidSynth manualy\n"
   ]
  },
  {
   "cell_type": "code",
   "execution_count": 10,
   "metadata": {},
   "outputs": [
    {
     "data": {
      "text/plain": [
       "0"
      ]
     },
     "execution_count": 10,
     "metadata": {},
     "output_type": "execute_result"
    }
   ],
   "source": [
    "import subprocess\n",
    "\n",
    "sound_font = '/usr/share/sounds/sf3/MuseScore_General.sf3'\n",
    "midi_file = 'scale.mid'\n",
    "sample_rate = 44100\n",
    "subprocess.call(['fluidsynth', '-i', sound_font, midi_file, '-r', str(sample_rate), '-a', 'pulseaudio'])"
   ]
  },
  {
   "cell_type": "markdown",
   "metadata": {},
   "source": [
    "## Midi: Play and Generate audio-file  (second and further used solution)\n",
    "This soulution offers a better sound quality and does not requier a change of the souce code. It uses __audacious__ and __Musescore__\n",
    "\n",
    "'audacious -p -q -H myMidi.mid'\n",
    "\n",
    "'mscore -o ms.flac myMidi.mid'"
   ]
  },
  {
   "cell_type": "code",
   "execution_count": 7,
   "metadata": {},
   "outputs": [],
   "source": [
    "import subprocess\n",
    "default_soundfont = '/usr/share/sounds/sf3/MuseScore_General.sf3'\n",
    "\n",
    "def midi_play(midi_in, soundfont= default_soundfont):\n",
    "    subprocess.call(['audacious', '-p', '-q', '-H', midi_in ])  # -p = play , -q = quite , -H = hide gui\n",
    "    \n",
    "def midi_audio(midi_in, name_out = 'none', soundfont= default_soundfont):\n",
    "    if name_out == 'none' :\n",
    "        name_out = midi_in.replace('.mid', '.flac')\n",
    "    else:\n",
    "        name_out = name_out + '.flac'\n",
    "    subprocess.call(['mscore', '-o', name_out, midi_in]) # -o = export as\n",
    "\n",
    "midi_audio('scale.mid')\n",
    "midi_play('myMidi.mid')"
   ]
  }
 ],
 "metadata": {
  "kernelspec": {
   "display_name": "Python 3",
   "language": "python",
   "name": "python3"
  },
  "language_info": {
   "codemirror_mode": {
    "name": "ipython",
    "version": 3
   },
   "file_extension": ".py",
   "mimetype": "text/x-python",
   "name": "python",
   "nbconvert_exporter": "python",
   "pygments_lexer": "ipython3",
   "version": "3.6.8"
  }
 },
 "nbformat": 4,
 "nbformat_minor": 2
}
