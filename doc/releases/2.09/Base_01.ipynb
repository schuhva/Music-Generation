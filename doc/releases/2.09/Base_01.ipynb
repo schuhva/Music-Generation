{
 "cells": [
  {
   "cell_type": "markdown",
   "metadata": {},
   "source": [
    "# 2.09 Some Examples\n",
    "\n",
    "\n",
    "Four Exampels with diffrent manually defined chord patterns.\n",
    "\n",
    "Functions which ar no longer part of this development step are __exported to the music_generation.py file.__ The file is found at the __end__ of the page."
   ]
  },
  {
   "cell_type": "code",
   "execution_count": 5,
   "metadata": {},
   "outputs": [],
   "source": [
    "from pyknon.genmidi import Midi\n",
    "from pyknon.music import Rest, Note, NoteSeq\n",
    "from music_generation import *\n",
    "import numpy as np\n",
    "import matplotlib.pyplot as plt"
   ]
  },
  {
   "cell_type": "code",
   "execution_count": 6,
   "metadata": {},
   "outputs": [],
   "source": [
    "major = np.array([ 0, 2, 4, 5, 7, 9, 11])\n",
    "minor = np.array([ 0, 2, 3, 5, 7, 8, 10])  \n",
    "blues = np.array([ 0, 3, 5, 6, 7, 10])\n",
    "C7 = np.array([ 0, 4, 7, 10]) \n",
    "CM7 = np.array([ 0, 4, 7, 11])\n",
    "Cm7 = np.array([ 0, 3, 7, 10])\n",
    "Cm  = np.array([ 0, 3, 7])\n",
    "Cdim   = np.array([ 0, 3, 6])\n",
    "C   = np.array([ 0, 4, 7])\n",
    "power = np.array([ 0,7])\n",
    "B = np.array([ 0])"
   ]
  },
  {
   "cell_type": "markdown",
   "metadata": {},
   "source": [
    "## tune_2.09_A\n",
    "\n",
    "* Chords: C Am Dm G\n",
    "* Strings playing chords\n",
    "* Organ for the base\n",
    "* Clarinet playing major scale"
   ]
  },
  {
   "cell_type": "code",
   "execution_count": 7,
   "metadata": {},
   "outputs": [],
   "source": [
    "def tune_209_A():\n",
    "    tune_name = 'tune_209_A'  \n",
    "    np.random.seed(154)\n",
    "    bar, bpb = 13, 4  # bar: Takt , bpb: beat per bar\n",
    "    melody_len = bar * bpb\n",
    "\n",
    "    #scales = [[1,CM7],[1,Cm7+9],[1,Cm7+2],[1,C7+7]] #rythem Change\n",
    "    #scales = [[4,C7],[2,C7+5],[2,C7],[1,C7+7],[1,C7+5],[2,C7]] # Blues \n",
    "    #scales = [[1,C7],[1,C7+5],[2,C7],[2,C7+5],[2,C7],[1,C7+7],[1,C7+5],[1,C7],[1,C7+7]] # Blues erweitert\n",
    "    scales = [[1,C],[1,Cm+9],[1,Cm+2],[1,C+7]] #  I VI II V\n",
    "    end_scale = [[1,C7+7],[1,C]]\n",
    "    pattern = pattern_gen(scales, end_scale, melody_len)\n",
    "    \n",
    "    pattern2 = pattern_gen([[12,major]], end_scale, melody_len)\n",
    "\n",
    "    \n",
    "    # Solo voice\n",
    "    range_1 = liniar_range(49,67,80,84)\n",
    "    rythem1, notenr_1 = ran_duration([1/16,1/8, 1/4,1/2], [0,3,3,1], melody_len)\n",
    "    melody1 = acceptance_melody([-3,-2,-1, 0, 1, 2, 3],[1,2, 2, 1, 2, 2,1],pattern2, 70, range_1, notenr_1, rythem1)\n",
    "    volumes1 = ran_volume([0,100], [1,6], notenr_1 )\n",
    "    notes1 = NoteSeq( [Note(no,octave=0, dur=du, volume=vo) for no,du,vo in zip(melody1,rythem1,volumes1)] )\n",
    "    \n",
    "    # Bass voice\n",
    "    range_2 = liniar_range(30,37,48,67)\n",
    "    rythem2, notenr_2 = ran_duration([1/8, 1/4,1/2], [0,2,1], melody_len)\n",
    "    melody2 = acceptance_melody([-2,-1, 0, 1, 2],[0, 3, 1, 3, 0],pattern, 40, range_2, notenr_2,rythem2)\n",
    "    volumes2 = ran_volume([0,110], [0,8], notenr_2 )\n",
    "    notes2 = NoteSeq( [Note(no,octave=0, dur=du, volume=vo) for no,du,vo in zip(melody2,rythem2,volumes2)] )\n",
    "    \n",
    "    # Chord Voices\n",
    "    range_3 = liniar_range(40,48,60,67)\n",
    "    rythem3, notenr_3 = ran_duration([1/8, 1/4,1/2], [1,3,2], melody_len)\n",
    "    melody3 = acceptance_melody([-2,-1, 0, 1, 2],[0, 3, 1, 3, 0],pattern, 48, range_3, notenr_3,rythem3)\n",
    "    volumes3 = ran_volume([0,80], [0,8], notenr_3 )\n",
    "    notes3 = NoteSeq( [Note(no,octave=0, dur=du, volume=vo) for no,du,vo in zip(melody3,rythem3,volumes3)] )\n",
    "    \n",
    "    range_4 = liniar_range(40,48,60,67)\n",
    "    rythem4, notenr_4 = ran_duration([1/8, 1/4,1/2], [1,3,2], melody_len)\n",
    "    melody4 = acceptance_melody([-2,-1, 0, 1, 2],[0, 3, 1, 3, 0],pattern, 60, range_4, notenr_4,rythem4)\n",
    "    volumes4 = ran_volume([0,80], [0,8], notenr_4 )\n",
    "    notes4 = NoteSeq( [Note(no,octave=0, dur=du, volume=vo) for no,du,vo in zip(melody4,rythem4,volumes4)] )\n",
    "    \n",
    "    range_5 = liniar_range(40,48,60,67)\n",
    "    rythem5, notenr_5 = ran_duration([1/8, 1/4,1/2], [1,3,2], melody_len)\n",
    "    melody5 = acceptance_melody([-2,-1, 0, 1, 2],[0, 3, 1, 3, 0],pattern, 54, range_5, notenr_5,rythem5)\n",
    "    volumes5 = ran_volume([0,80], [0,8], notenr_5 )\n",
    "    notes5= NoteSeq( [Note(no,octave=0, dur=du, volume=vo) for no,du,vo in zip(melody5,rythem5,volumes5)] )\n",
    "    \n",
    "    \n",
    "    plot_range([range_1,range_2,range_3],['range_1','range_2','range_3'],tune_name)\n",
    "    instruments = [69,16,48,48,48]\n",
    "    notes = [notes1,notes2,notes3,notes4,notes5]\n",
    "    return notes, instruments,tune_name\n"
   ]
  },
  {
   "cell_type": "raw",
   "metadata": {},
   "source": [
    ".. raw:: html\n",
    "\n",
    "    <br><audio controls=\"controls\" src=\"https://raw.githubusercontent.com/schuhva/Music-Generation/master/doc/releases/2.09/tune_209_A.flac\" type=\"audio/flac\"></audio>\n",
    "     tune__209_A\n",
    "     \n",
    "     <br><img src=\"https://raw.githubusercontent.com/schuhva/Music-Generation/master/doc/releases/2.09/tune_209_A-1.png\">\n",
    "     tune_209_A <br><br><br>"
   ]
  },
  {
   "cell_type": "markdown",
   "metadata": {},
   "source": [
    "## tune_2.09_B\n",
    "\n",
    "* Chords: Cm A Dm G7\n",
    "* String quartet "
   ]
  },
  {
   "cell_type": "code",
   "execution_count": 67,
   "metadata": {},
   "outputs": [],
   "source": [
    "def tune_209_B():\n",
    "    tune_name = 'tune_209_B'  \n",
    "    np.random.seed(87)    # 154, 128 87\n",
    "    bar, bpb = 13, 4  # bar: Takt , bpb: beat per bar\n",
    "    melody_len = bar * bpb\n",
    "# blues  \n",
    "    #scales = [[4,C7],[2,C7+5],[2,C7],[1,C7+7],[1,C7+5],[2,C7]] # Blues \n",
    "    #scales = [[1,C7],[1,C7+5],[2,C7],[2,C7+5],[2,C7],[1,C7+7],[1,C7+5],[1,C7],[1,C7+7]] # Blues erweitert\n",
    "    \n",
    "    #scales = [[1,CM7],[1,Cm7+9],[1,Cm7+2],[1,C7+7]] #  I VI II V  with 7\n",
    "    #scales = [[1,C],[1,Cm+9],[1,Cm+2],[1,C+7]]      #  I VI II V  major\n",
    "    scales = [[1,Cm],[1,C+8],[1,Cdim+2],[1,C7+7]] #  i VI ii V  minor     \n",
    "    #scales = [[1,Cm],[1,C+8],[1,C+3],[1,C+10]] #  i VI III VII  minor\n",
    "    end_scale = [[1,C7+7],[1,Cm]]\n",
    "    \n",
    "    pattern = pattern_gen(scales, end_scale, melody_len)\n",
    " \n",
    "    # Violin\n",
    "    range_1 = liniar_range(55,69,84,91)\n",
    "    rythem1, notenr_1 = ran_duration([1/16,1/8, 1/4,1/2], [0,3,2,1], melody_len)\n",
    "    melody1 = acceptance_melody([-3,-2,-1, 0, 1, 2, 3],[1,2, 2, 1, 2, 2,1],pattern, 70, range_1, notenr_1, rythem1)\n",
    "    volumes1 = ran_volume([0,120], [1,6], notenr_1 )\n",
    "    notes1 = NoteSeq( [Note(no,octave=0, dur=du, volume=vo) for no,du,vo in zip(melody1,rythem1,volumes1)] )\n",
    "    \n",
    "    # Viola\n",
    "    range_2 = liniar_range(48,62,76,85)\n",
    "    rythem2, notenr_2 = ran_duration([1/8, 1/4,1/2], [1,2,1], melody_len)\n",
    "    melody2 = acceptance_melody([-2,-1, 0, 1, 2],[0, 3, 1, 3, 0],pattern, 70, range_2, notenr_2,rythem2)\n",
    "    volumes2 = ran_volume([0,120], [1,7], notenr_2 )\n",
    "    notes2 = NoteSeq( [Note(no,octave=0, dur=du, volume=vo) for no,du,vo in zip(melody2,rythem2,volumes2)] )\n",
    "    \n",
    "    # Cello\n",
    "    range_3 = liniar_range(36,48,63,69)\n",
    "    rythem3, notenr_3 = ran_duration([1/8, 1/4,1/2], [1,3,1], melody_len)\n",
    "    melody3 = acceptance_melody([-2,-1, 0, 1, 2],[0, 3, 1, 3, 0],pattern, 58, range_3, notenr_3,rythem3)\n",
    "    volumes3 = ran_volume([0,120], [1,8], notenr_3 )\n",
    "    notes3 = NoteSeq( [Note(no,octave=0, dur=du, volume=vo) for no,du,vo in zip(melody3,rythem3,volumes3)] )\n",
    "    \n",
    "    # Contrabass\n",
    "    range_4 = liniar_range(28,36,48,55)\n",
    "    rythem4, notenr_4 = ran_duration([1/8, 1/4,1/2], [1,3,2], melody_len)\n",
    "    melody4 = acceptance_melody([-2,-1, 0, 1, 2],[0, 3, 1, 3, 0],pattern, 44, range_4, notenr_4,rythem4)\n",
    "    volumes4 = ran_volume([0,120], [1,8], notenr_4 )\n",
    "    notes4 = NoteSeq( [Note(no,octave=0, dur=du, volume=vo) for no,du,vo in zip(melody4,rythem4,volumes4)] )\n",
    "    \n",
    "    \n",
    "    plot_range([range_1,range_2,range_3,range_4],['range_1','range_2','range_3','range_4'],tune_name)\n",
    "    instruments = [40,41,42,43]\n",
    "    notes = [notes1,notes2,notes3,notes4]\n",
    "    return notes, instruments,tune_name\n"
   ]
  },
  {
   "cell_type": "raw",
   "metadata": {},
   "source": [
    ".. raw:: html\n",
    "\n",
    "    <br><audio controls=\"controls\" src=\"https://raw.githubusercontent.com/schuhva/Music-Generation/master/doc/releases/2.09/tune_209_B.flac\" type=\"audio/flac\"></audio>\n",
    "     tune__209_B\n",
    "     \n",
    "     <br><img src=\"https://raw.githubusercontent.com/schuhva/Music-Generation/master/doc/releases/2.09/tune_209_B-1.png\">\n",
    "     tune_209_B <br><br><br>"
   ]
  },
  {
   "cell_type": "markdown",
   "metadata": {},
   "source": [
    "## tune_2.09_C\n",
    "\n",
    "* Chords: Cm Fm Bb Eb Cm Fm G7\n",
    "* Two Pianos playing chords\n",
    "* Organ for the base\n",
    "* Trumpet playing minor scale"
   ]
  },
  {
   "cell_type": "code",
   "execution_count": 96,
   "metadata": {},
   "outputs": [],
   "source": [
    "def tune_209_C():\n",
    "    tune_name = 'tune_209_C'  \n",
    "    np.random.seed(36)    # \n",
    "    bar, bpb = 16, 4  # bar: Takt , bpb: beat per bar\n",
    "    melody_len = bar * bpb\n",
    "\n",
    "# blues  \n",
    "    #scales = [[4,C7],[2,C7+5],[2,C7],[1,C7+7],[1,C7+5],[2,C7]] # Blues \n",
    "    #scales = [[1,C7],[1,C7+5],[2,C7],[2,C7+5],[2,C7],[1,C7+7],[1,C7+5],[1,C7],[1,C7+7]] # Blues erweitert\n",
    "    \n",
    "    #scales = [[1,CM7],[1,Cm7+9],[1,Cm7+2],[1,C7+7]] #  I VI II V  with 7\n",
    "    #scales = [[1,C],[1,Cm+9],[1,Cm+2],[1,C+7]]      #  I VI II V  major\n",
    "    #scales = [[1,Cm],[1,C+8],[1,Cdim+2],[1,C7+7]] #  i VI ii V  minor     \n",
    "    #scales = [[1,Cm],[1,C+8],[1,C+3],[1,C+10]] #  i VI III VII  minor\n",
    "    \n",
    "    scales = [[1,Cm],[1,Cm+5],[1,C+10],[1,C+3],[1,Cm],[1,Cm+5],[1,C7+7]]  #Cm Fm Bb Eb Cm Fm G7\n",
    "    end_scale = [[1,Cm],[1,power]]\n",
    "\n",
    "    pattern = pattern_gen(scales, end_scale, melody_len)\n",
    "    pattern2 = pattern_gen([[12,minor]], end_scale, melody_len) # for solo voice\n",
    "\n",
    "    # Solo voice\n",
    "    range_1 = liniar_range(49,67,80,84)\n",
    "    rythem1, notenr_1 = ran_duration([1/16,1/8, 1/4,1/2], [1,3,2,0], melody_len)\n",
    "    melody1 = acceptance_melody([-3,-2,-1, 0, 1, 2, 3],[2,2, 2, 1, 2, 2,2],pattern2, 67, range_1, notenr_1, rythem1)\n",
    "    volumes1 = ran_volume([0,80], [1,6], notenr_1 )\n",
    "    notes1 = NoteSeq( [Note(no,octave=0, dur=du, volume=vo) for no,du,vo in zip(melody1,rythem1,volumes1)] )\n",
    "    \n",
    "    # Bass voice\n",
    "    range_2 = liniar_range(32,40,52,63)\n",
    "    rythem2, notenr_2 = ran_duration([1/8, 1/4,1/2], [0,2,0], melody_len)\n",
    "    melody2 = acceptance_melody([-2,-1, 0, 1, 2],[0, 3, 1, 3, 0],pattern, 44, range_2, notenr_2,rythem2)\n",
    "    volumes2 = ran_volume([0,100], [0,8], notenr_2 )\n",
    "    notes2 = NoteSeq( [Note(no,octave=0, dur=du, volume=vo) for no,du,vo in zip(melody2,rythem2,volumes2)] )\n",
    "    \n",
    "    # Chord Voices\n",
    "    range_3 = liniar_range(40,48,67,72)\n",
    "    rythem3, notenr_3 = ran_duration([1/8, 1/4,1/2], [3,3,1], melody_len)\n",
    "    melody3 = acceptance_melody([-2,-1, 0, 1, 2],[0, 3, 1, 3, 0],pattern, 53, range_3, notenr_3,rythem3)\n",
    "    volumes3 = ran_volume([0,100], [1,8], notenr_3 )\n",
    "    notes3 = NoteSeq( [Note(no,octave=0, dur=du, volume=vo) for no,du,vo in zip(melody3,rythem3,volumes3)] )\n",
    "    \n",
    "    range_4 = liniar_range(40,48,67,72)\n",
    "    rythem4, notenr_4 = ran_duration([1/8, 1/4,1/2], [3,3,1], melody_len)\n",
    "    melody4 = acceptance_melody([-2,-1, 0, 1, 2],[0, 3, 1, 3, 0],pattern, 65, range_4, notenr_4,rythem4)\n",
    "    volumes4 = ran_volume([0,100], [1,8], notenr_4 )\n",
    "    notes4 = NoteSeq( [Note(no,octave=0, dur=du, volume=vo) for no,du,vo in zip(melody4,rythem4,volumes4)] )\n",
    "    \n",
    "    \n",
    "    plot_range([range_1,range_2,range_3],['range_1','range_2','range_3'],tune_name)\n",
    "    instruments = [56,20,0,0]\n",
    "    notes = [notes1,notes2,notes3,notes4]\n",
    "    return notes, instruments,tune_name\n"
   ]
  },
  {
   "cell_type": "raw",
   "metadata": {},
   "source": [
    ".. raw:: html\n",
    "\n",
    "    <br><audio controls=\"controls\" src=\"https://raw.githubusercontent.com/schuhva/Music-Generation/master/doc/releases/2.09/tune_209_C.flac\" type=\"audio/flac\"></audio>\n",
    "     tune__209_C\n",
    "     \n",
    "     <br><img src=\"https://raw.githubusercontent.com/schuhva/Music-Generation/master/doc/releases/2.09/tune_209_C-1.png\">\n",
    "     tune_209_C <br><br><br>"
   ]
  },
  {
   "cell_type": "markdown",
   "metadata": {},
   "source": [
    "## tune_2.09_D\n",
    "\n",
    "* Chords:  Cm Cm7/Bb Eb Ab7 G7 | C C/E F F#dim Ab7 G7 Cm \n",
    "* Three guitars playing chords\n",
    "* an accustic bass\n",
    "* Organ for the base with seprat bass pattern. Mostly the root note.\n",
    "* Vibraphone as solo voice"
   ]
  },
  {
   "cell_type": "code",
   "execution_count": 97,
   "metadata": {},
   "outputs": [],
   "source": [
    "def tune_209_D():\n",
    "    tune_name = 'tune_209_D'  \n",
    "    np.random.seed(144    )    #  79 33\n",
    "    bar, bpb = 17, 4  # bar: Takt , bpb: beat per bar\n",
    "    melody_len = bar * bpb\n",
    "\n",
    "# blues  \n",
    "    #scales = [[4,C7],[2,C7+5],[2,C7],[1,C7+7],[1,C7+5],[2,C7]] # Blues \n",
    "    #scales = [[1,C7],[1,C7+5],[2,C7],[2,C7+5],[2,C7],[1,C7+7],[1,C7+5],[1,C7],[1,C7+7]] # Blues erweitert\n",
    "    \n",
    "    #scales = [[1,CM7],[1,Cm7+9],[1,Cm7+2],[1,C7+7]] #  I VI II V  with 7\n",
    "    #scales = [[1,C],[1,Cm+9],[1,Cm+2],[1,C+7]]      #  I VI II V  major\n",
    "    #scales = [[1,Cm],[1,C+8],[1,Cdim+2],[1,C7+7]] #  i VI ii V  minor     \n",
    "    #scales = [[1,Cm],[1,C+8],[1,C+3],[1,C+10]] #  i VI III VII  minor  \n",
    "    #scales = [[1,Cm],[1,Cm+5],[1,C+10],[1,C+3],[1,Cm],[1,Cm+5],[1,C7+7]]  # Cm Fm Bb Eb Cm Fm G7\n",
    "    \n",
    " # | Cm Cm7/Bb Eb Ab7 G7 | C C/E F F#dim Ab7 G7 Cm |\n",
    "    scales =[[1,Cm],[1,Cm7],[1,C+3],[1,C7+8],[1,C7+7],[1,C],[1,C],[1,Cdim+6],[1,C7+8],[1,C7+7],[1,Cm]] \n",
    "    bass1 =  [[1,B],[1,B+10],[1,B+3],[1,B+8],[1,B+7],[1,B],[1,B+4],[1,B+6],[1,B+8],[1,B+7],[1,B]] \n",
    "\n",
    "    end_scale = [[0.5,Cm],[0.5,power]]\n",
    "    #end_scale = [[0,power]]\n",
    "    \n",
    "    pattern = pattern_gen(scales, end_scale, melody_len)\n",
    "    bass1 = pattern_gen(bass1, end_scale, melody_len)\n",
    "    #pattern2 = pattern_gen([[12,minor]], end_scale, melody_len)\n",
    "    \n",
    "    # Solo voice\n",
    "    range_1 = liniar_range(50,60,80,88)\n",
    "    rythem1, notenr_1 = ran_duration([1/16,1/8, 1/4,1/2], [2,5,3,0.5], melody_len)\n",
    "    melody1 = acceptance_melody([-2,-1, 0, 1, 2],[1, 3, 1, 3, 1],pattern, 70, range_1, notenr_1, rythem1)\n",
    "    volumes1 = ran_volume([0,127], [1,4], notenr_1 )\n",
    "    notes1 = NoteSeq( [Note(no,octave=0, dur=du, volume=vo) for no,du,vo in zip(melody1,rythem1,volumes1)] )\n",
    "    \n",
    "    # Bass1  Accustic\n",
    "    range_2 = liniar_range(38,41,52,67)\n",
    "    rythem2, notenr_2 = ran_duration([1/8, 1/4,1/2], [4,4,1], melody_len)\n",
    "    melody2 = acceptance_melody([-2,-1, 0, 1, 2],[0, 3, 1, 3, 0],pattern, 50, range_2, notenr_2,rythem2)\n",
    "    volumes2 = ran_volume([0,60], [0,8], notenr_2 )\n",
    "    notes2 = NoteSeq( [Note(no,octave=0, dur=du, volume=vo) for no,du,vo in zip(melody2,rythem2,volumes2)] )\n",
    "    \n",
    "    # Bass2  Organ\n",
    "    range_6 = liniar_range(30,38,50,62)\n",
    "    rythem6, notenr_6 = ran_duration([1/8, 1/4,1/2], [0,1,1], melody_len)\n",
    "    melody6 = acceptance_melody([-2,-1, 0, 1, 2],[1, 1, 1, 1, 1],bass1, 48, range_6, notenr_6,rythem6)\n",
    "    volumes6 = ran_volume([0,110], [0,8], notenr_6 )\n",
    "    notes6 = NoteSeq( [Note(no,octave=0, dur=du, volume=vo) for no,du,vo in zip(melody6,rythem6,volumes6)] )\n",
    "    \n",
    "    # Chord Voices\n",
    "    range_3 = liniar_range(40,50,67,72)\n",
    "    rythem3, notenr_3 = ran_duration([1/8, 1/4,1/2], [1,2,1], melody_len)\n",
    "    melody3 = acceptance_melody([-2,-1, 0, 1, 2],[0, 3, 1, 3, 0],pattern, 65, range_3, notenr_3,rythem3)\n",
    "    volumes3 = ran_volume([0,80], [0,8], notenr_3 )\n",
    "    notes3 = NoteSeq( [Note(no,octave=0, dur=du, volume=vo) for no,du,vo in zip(melody3,rythem3,volumes3)] )\n",
    "    \n",
    "    range_4 = liniar_range(40,50,67,72)\n",
    "    rythem4, notenr_4 = ran_duration([1/8, 1/4,1/2], [1,2,1], melody_len)\n",
    "    melody4 = acceptance_melody([-2,-1, 0, 1, 2],[0, 3, 1, 3, 0],pattern, 60, range_4, notenr_4,rythem4)\n",
    "    volumes4 = ran_volume([0,90], [0,8], notenr_4 )\n",
    "    notes4 = NoteSeq( [Note(no,octave=0, dur=du, volume=vo) for no,du,vo in zip(melody4,rythem4,volumes4)] )\n",
    "    \n",
    "    range_5 = liniar_range(40,50,67,72)\n",
    "    rythem5, notenr_5 = ran_duration([1/8, 1/4,1/2], [1,2,1], melody_len)\n",
    "    melody5 = acceptance_melody([-2,-1, 0, 1, 2],[0, 3, 1, 3, 0],pattern, 54, range_5, notenr_5,rythem5)\n",
    "    volumes5 = ran_volume([0,90], [0,8], notenr_5 )\n",
    "    notes5= NoteSeq( [Note(no,octave=0, dur=du, volume=vo) for no,du,vo in zip(melody5,rythem5,volumes5)] )\n",
    "    \n",
    "    \n",
    "    plot_range([range_1,range_2,range_3],['range_1','range_2','range_3'],tune_name)\n",
    "    instruments = [11,32,24,24,24,16]\n",
    "    notes = [notes1,notes2,notes3,notes4,notes5,notes6]\n",
    "    return notes, instruments,tune_name\n"
   ]
  },
  {
   "cell_type": "raw",
   "metadata": {},
   "source": [
    ".. raw:: html\n",
    "\n",
    "    <br><audio controls=\"controls\" src=\"https://raw.githubusercontent.com/schuhva/Music-Generation/master/doc/releases/2.09/tune_209_D.flac\" type=\"audio/flac\"></audio>\n",
    "     tune__209_D\n",
    "     \n",
    "     <br><img src=\"https://raw.githubusercontent.com/schuhva/Music-Generation/master/doc/releases/2.09/tune_209_D-1.png\">\n",
    "     tune_209_D <br><br><br>"
   ]
  },
  {
   "cell_type": "markdown",
   "metadata": {},
   "source": [
    "__Instruments:__\n",
    "Available are at lest the 128 General-Midi (GM) Instruments. Depending on the sound-fonts there is a bigger choise. A list of the GM instruments can be found here. https://jazz-soft.net/demo/GeneralMidi.html\n"
   ]
  },
  {
   "cell_type": "code",
   "execution_count": 98,
   "metadata": {},
   "outputs": [],
   "source": [
    "\n",
    "def gen_midi():\n",
    "#     squezze into a MIDI framework\n",
    "    notes, instruments, tune_name = tune_209_C() #  <--- select a tune  <<--     <<<<<<<<<--- select a tune -----\n",
    "    nTracks = len(notes)\n",
    "    \n",
    "    m = Midi(number_tracks=nTracks, tempo=120, instrument=instruments)\n",
    "    for iTrack in range(nTracks):\n",
    "        m.seq_notes(notes[iTrack], track=iTrack)\n",
    "\n",
    "    #--- write the MIDI file -----\n",
    "    midi_file_name = tune_name +'.mid'   # set the name of the file\n",
    "    m.write(midi_file_name)\n",
    "    return midi_file_name"
   ]
  },
  {
   "cell_type": "code",
   "execution_count": 99,
   "metadata": {},
   "outputs": [
    {
     "data": {
      "image/png": "[encoded data removed]",
      "text/plain": [
       "<Figure size 432x288 with 1 Axes>"
      ]
     },
     "metadata": {
      "needs_background": "light"
     },
     "output_type": "display_data"
    }
   ],
   "source": [
    "######---  Main  ---######\n",
    "midi_file_name = gen_midi()\n",
    "\n",
    "#midi_play(midi_file_name)\n",
    "midi_audio(midi_file_name)\n",
    "midi_png(midi_file_name)"
   ]
  },
  {
   "cell_type": "markdown",
   "metadata": {},
   "source": [
    "## External __Music_Generation__ library\n",
    "This library changes from version to version. New or changed code is first explaind above. This is a copy of music_generation.py "
   ]
  },
  {
   "cell_type": "raw",
   "metadata": {},
   "source": [
    ".. literalinclude:: music_generation.py\n",
    "   :language: python"
   ]
  },
  {
   "cell_type": "code",
   "execution_count": null,
   "metadata": {},
   "outputs": [],
   "source": []
  }
 ],
 "metadata": {
  "kernelspec": {
   "display_name": "Python 3",
   "language": "python",
   "name": "python3"
  },
  "language_info": {
   "codemirror_mode": {
    "name": "ipython",
    "version": 3
   },
   "file_extension": ".py",
   "mimetype": "text/x-python",
   "name": "python",
   "nbconvert_exporter": "python",
   "pygments_lexer": "ipython3",
   "version": "3.6.8"
  }
 },
 "nbformat": 4,
 "nbformat_minor": 2
}
