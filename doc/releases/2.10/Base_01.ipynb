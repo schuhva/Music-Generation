{
 "cells": [
  {
   "cell_type": "markdown",
   "metadata": {},
   "source": [
    "# 2.10 Improving chord notation, End note\n"
   ]
  },
  {
   "cell_type": "code",
   "execution_count": 1,
   "metadata": {},
   "outputs": [],
   "source": [
    "from pyknon.genmidi import Midi\n",
    "from pyknon.music import Rest, Note, NoteSeq\n",
    "from music_generation import *\n",
    "import numpy as np\n",
    "import matplotlib.pyplot as plt"
   ]
  },
  {
   "cell_type": "code",
   "execution_count": 2,
   "metadata": {},
   "outputs": [],
   "source": [
    "#   pattern_gen takes the chord pattern (scales): it reapeats the pattern as long the melody is, and generates the beat number where the chords change. \n",
    "# it also adds the end pattern\n",
    "def pattern_gen(scales,end_scale, melody_len):\n",
    "    bpb = 4  # beats per bar\n",
    "    \n",
    "#--Add note to chord\n",
    "    scales = note_to_chord(scales)\n",
    "    end_scale = note_to_chord(end_scale)\n",
    "    \n",
    "#--scales  \n",
    "    factor = int(np.trunc(melody_len/(np.sum(scales[:,0]) * bpb)) + 1) # factor rounded up: how many times is the pattern used\n",
    "    change_times = np.cumsum(np.tile(scales[:,0],factor)) * bpb        # create change time list with factor\n",
    "    change_times = np.concatenate((np.asarray([0]),change_times))[:-1] # add 0 at beginig remove last element\n",
    "    \n",
    "    for i in range(len(scales)):          # send scales to scale_create\n",
    "        scales[i,1] = scale_create(scales[i,1])\n",
    "    pattern = np.tile(scales,(factor,1))   # tile the scales as long the melody is\n",
    "    pattern[:,0] = change_times            #insert change_times into scales\n",
    "    \n",
    "#--end_scales \n",
    "    end_times = melody_len - np.cumsum(( end_scale[:,0]*bpb )[::-1])[::-1]   # reversed cumsum subtracted of melody_len\n",
    "    end_scale[:,0] = end_times              #insert end_times into en_scale\n",
    "    for i in range(len(end_scale)):         # send end_scale to scale_create\n",
    "        end_scale[i,1] = scale_create(end_scale[i,1])\n",
    "\n",
    "#--merge\n",
    "    pattern = np.delete(pattern, np.argwhere(pattern[:,0] >= end_scale[0,0]) ,0) # remove unneeded scales\n",
    "    pattern = np.concatenate((pattern,end_scale),axis=0)\n",
    "    pattern = np.delete(pattern, np.argwhere(pattern[:,0] >= melody_len) ,0)     # remove if end is 0 bars\n",
    "    return pattern"
   ]
  },
  {
   "cell_type": "markdown",
   "metadata": {},
   "source": [
    "## Dictionary"
   ]
  },
  {
   "cell_type": "code",
   "execution_count": 3,
   "metadata": {},
   "outputs": [],
   "source": [
    "C     = np.array([ 0, 4, 7])\n",
    "Cm    = np.array([ 0, 3, 7])\n",
    "Cdim  = np.array([ 0, 3, 6])\n",
    "\n",
    "CM7   = np.array([ 0, 4, 7, 11])\n",
    "C7    = np.array([ 0, 4, 7, 10])\n",
    "Cm7   = np.array([ 0, 3, 7, 10])\n",
    "Cdim7 = np.array([ 0, 3, 6, 10])\n",
    "Cdim6 = np.array([ 0, 3, 6, 9 ])\n",
    "C6    = np.array([ 0, 4, 7, 9 ]) # inversion of Am7\n",
    "Cm6   = np.array([ 0, 3, 7, 9 ]) \n",
    "\n",
    "P = np.array([ 0,7])  # Power chord (Perfect unison, Perfect fifth)\n",
    "B = np.array([ 0])    # Bass (Perfect unison)\n",
    "\n",
    "major = np.array([ 0, 2, 4, 5, 7, 9, 11])\n",
    "minor = np.array([ 0, 2, 3, 5, 7, 8, 10])  \n",
    "blues = np.array([ 0, 3, 5, 6, 7, 10])"
   ]
  },
  {
   "cell_type": "code",
   "execution_count": 4,
   "metadata": {},
   "outputs": [],
   "source": [
    "def note_to_chord(input_s):\n",
    "    \n",
    "    tone_dic = {           'C' : 0 , 'C#' : 1 , \n",
    "                'Db' : 1 , 'D' : 2 , 'D#' : 3 ,\n",
    "                'Eb' : 3 , 'E' : 4 , 'E#' : 5 ,\n",
    "                'Fb' : 4 , 'F' : 5 , 'F#' : 6 ,\n",
    "                'Gb' : 6 , 'G' : 7 , 'G#' : 8 ,\n",
    "                'Ab' : 8 , 'A' : 9 , 'A#' :10 ,\n",
    "                'Bb' : 10, 'B' :11 , 'B#' :12 ,\n",
    "                'Cb' : 11                      }\n",
    "    \n",
    "    input_s =np.asarray(input_s)\n",
    "    le = len(input_s)\n",
    "    out_s = [[0,1]]*le\n",
    "    \n",
    "    for sps in range(le):\n",
    "        note = input_s[sps,1]\n",
    "        nr = tone_dic[note]\n",
    "        out_s[sps]= [input_s[sps,0]  ,   input_s[sps,2] + nr]\n",
    "        \n",
    "    out_s = np.asarray(out_s)\n",
    "    return out_s"
   ]
  },
  {
   "cell_type": "markdown",
   "metadata": {},
   "source": [
    "### End note duration\n",
    "It sounds better when the last note is played longer. With __end_note__ all note duration cand be set on a specific value. End not duration is not part of the melody_len"
   ]
  },
  {
   "cell_type": "code",
   "execution_count": 5,
   "metadata": {},
   "outputs": [],
   "source": [
    "def ran_duration(duration, prob_duration, melody_len, end_dur):    \n",
    "    duration= np.asarray(duration)                  # this are the allowed durations of the notes\n",
    "    prob_duration = np.asarray(prob_duration)       # this are the probabilities how often each will occure\n",
    "    prob_duration = prob_duration/np.sum(prob_duration)\n",
    "    cumsum, melody_len, rythem = 0, melody_len/4 , np.asarray([])  #melody_len/4 as note values are quarter\n",
    "    while cumsum < melody_len:\n",
    "        note_len = np.random.choice(duration, p=prob_duration)\n",
    "        cumsum = cumsum + note_len\n",
    "        rythem = np.append(rythem,note_len)\n",
    "    if end_dur != 0:  \n",
    "        rythem = np.append(rythem,end_dur)\n",
    "    return rythem , len(rythem)\n"
   ]
  },
  {
   "cell_type": "markdown",
   "metadata": {},
   "source": [
    "## tune_2.10\n",
    "\n",
    "* Better understandable Chord notation\n",
    "* longer end note duration\n",
    "* Equal to tune_2.09_D \n",
    "\n",
    "\n",
    "* Chords:  Cm Cm7/Bb Eb Ab7 G7 | C C/E F F#dim Ab7 G7 Cm \n",
    "* Three guitars playing chords\n",
    "* an accustic bass\n",
    "* Organ for the base with seprat bass pattern. Mostly the root note.\n",
    "* Vibraphone as solo voice"
   ]
  },
  {
   "cell_type": "code",
   "execution_count": 6,
   "metadata": {},
   "outputs": [],
   "source": [
    "def tune_210_A():\n",
    "    tune_name = 'tune_210_A'  \n",
    "    np.random.seed(144    )    #  79 33\n",
    "    bar, bpb = 17, 4  # bar: Takt , bpb: beat per bar\n",
    "    melody_len = bar * bpb\n",
    "    end_dur = 1\n",
    "    \n",
    " # | Cm Cm7/Bb Eb Ab7 G7 | C C/E F F#dim Ab7 G7 Cm |\n",
    "    scales =[[1,'C',Cm],[1,'C',Cm7],[1,'Eb',C],[1,'Ab',C7],[1,'G',C7],[1,'C',C],[1,'C',C],[1,'F#',Cdim],[1,'Ab',C7],[1,'G',C7],[1,'C',Cm]] \n",
    "    bass1 =  [[1,'C',B],[1,'Bb',B], [1,'Eb',B],[1,'Ab',B], [1,'G',B], [1,'C',B],[1,'E',B],[1,'F#',B],   [1,'Ab',B], [1,'G',B], [1,'C',B]] \n",
    "    end_scale = [[0.5,'C',Cm],[0.5,'C',P]]\n",
    "    \n",
    "    pattern = pattern_gen(scales, end_scale, melody_len)\n",
    "    bass1 = pattern_gen(bass1, end_scale, melody_len)\n",
    "    \n",
    "    \n",
    "    # Solo voice\n",
    "    range_1 = liniar_range(50,60,80,88)\n",
    "    rythem1, notenr_1 = ran_duration([1/16,1/8, 1/4,1/2], [2,5,3,0.5], melody_len,end_dur)\n",
    "    melody1 = acceptance_melody([-2,-1, 0, 1, 2],[1, 3, 1, 3, 1],pattern, 70, range_1, notenr_1, rythem1)\n",
    "    volumes1 = ran_volume([0,127], [1,4], notenr_1 )\n",
    "    notes1 = NoteSeq( [Note(no,octave=0, dur=du, volume=vo) for no,du,vo in zip(melody1,rythem1,volumes1)] )\n",
    "    \n",
    "    # Bass1  Accustic\n",
    "    range_2 = liniar_range(38,41,52,67)\n",
    "    rythem2, notenr_2 = ran_duration([1/8, 1/4,1/2], [4,4,1], melody_len,end_dur)\n",
    "    melody2 = acceptance_melody([-2,-1, 0, 1, 2],[0, 3, 1, 3, 0],pattern, 50, range_2, notenr_2,rythem2)\n",
    "    volumes2 = ran_volume([0,60], [0,8], notenr_2 )\n",
    "    notes2 = NoteSeq( [Note(no,octave=0, dur=du, volume=vo) for no,du,vo in zip(melody2,rythem2,volumes2)] )\n",
    "    \n",
    "    # Bass2  Organ\n",
    "    range_6 = liniar_range(30,38,50,62)\n",
    "    rythem6, notenr_6 = ran_duration([1/8, 1/4,1/2], [0,1,1], melody_len,end_dur)\n",
    "    melody6 = acceptance_melody([-2,-1, 0, 1, 2],[1, 1, 1, 1, 1],bass1, 48, range_6, notenr_6,rythem6)\n",
    "    volumes6 = ran_volume([0,110], [0,8], notenr_6 )\n",
    "    notes6 = NoteSeq( [Note(no,octave=0, dur=du, volume=vo) for no,du,vo in zip(melody6,rythem6,volumes6)] )\n",
    "    \n",
    "    # Chord Voices\n",
    "    range_3 = liniar_range(40,50,67,72)\n",
    "    rythem3, notenr_3 = ran_duration([1/8, 1/4,1/2], [1,2,1], melody_len,end_dur)\n",
    "    melody3 = acceptance_melody([-2,-1, 0, 1, 2],[0, 3, 1, 3, 0],pattern, 65, range_3, notenr_3,rythem3)\n",
    "    volumes3 = ran_volume([0,80], [0,8], notenr_3 )\n",
    "    notes3 = NoteSeq( [Note(no,octave=0, dur=du, volume=vo) for no,du,vo in zip(melody3,rythem3,volumes3)] )\n",
    "    \n",
    "    range_4 = liniar_range(40,50,67,72)\n",
    "    rythem4, notenr_4 = ran_duration([1/8, 1/4,1/2], [1,2,1], melody_len,end_dur)\n",
    "    melody4 = acceptance_melody([-2,-1, 0, 1, 2],[0, 3, 1, 3, 0],pattern, 60, range_4, notenr_4,rythem4)\n",
    "    volumes4 = ran_volume([0,90], [0,8], notenr_4 )\n",
    "    notes4 = NoteSeq( [Note(no,octave=0, dur=du, volume=vo) for no,du,vo in zip(melody4,rythem4,volumes4)] )\n",
    "    \n",
    "    range_5 = liniar_range(40,50,67,72)\n",
    "    rythem5, notenr_5 = ran_duration([1/8, 1/4,1/2], [1,2,1], melody_len,end_dur)\n",
    "    melody5 = acceptance_melody([-2,-1, 0, 1, 2],[0, 3, 1, 3, 0],pattern, 54, range_5, notenr_5,rythem5)\n",
    "    volumes5 = ran_volume([0,90], [0,8], notenr_5 )\n",
    "    notes5= NoteSeq( [Note(no,octave=0, dur=du, volume=vo) for no,du,vo in zip(melody5,rythem5,volumes5)] )\n",
    "    \n",
    "    \n",
    "    plot_range([range_1,range_2,range_3],['range_1','range_2','range_3'],tune_name)\n",
    "    instruments = [11,32,24,24,24,16]\n",
    "    notes = [notes1,notes2,notes3,notes4,notes5,notes6]\n",
    "    return notes, instruments,tune_name\n"
   ]
  },
  {
   "cell_type": "raw",
   "metadata": {},
   "source": [
    ".. raw:: html\n",
    "\n",
    "    <br><audio controls=\"controls\" src=\"https://raw.githubusercontent.com/schuhva/Music-Generation/master/doc/releases/2.10/tune_209_D.flac\" type=\"audio/flac\"></audio>\n",
    "     tune__209_D\n",
    "     \n",
    "     <br><img src=\"https://raw.githubusercontent.com/schuhva/Music-Generation/master/doc/releases/2.10/tune_209_D-1.png\">\n",
    "     tune_209_D <br><br><br>"
   ]
  },
  {
   "cell_type": "markdown",
   "metadata": {},
   "source": [
    "__Instruments:__\n",
    "Available are at lest the 128 General-Midi (GM) Instruments. Depending on the sound-fonts there is a bigger choise. A list of the GM instruments can be found here. https://jazz-soft.net/demo/GeneralMidi.html\n"
   ]
  },
  {
   "cell_type": "code",
   "execution_count": 7,
   "metadata": {},
   "outputs": [],
   "source": [
    "\n",
    "def gen_midi():\n",
    "#     squezze into a MIDI framework\n",
    "    notes, instruments, tune_name = tune_210_A() #  <--- select a tune  <<--     <<<<<<<<<--- select a tune -----\n",
    "    nTracks = len(notes)\n",
    "    \n",
    "    m = Midi(number_tracks=nTracks, tempo=120, instrument=instruments)\n",
    "    for iTrack in range(nTracks):\n",
    "        m.seq_notes(notes[iTrack], track=iTrack)\n",
    "\n",
    "    #--- write the MIDI file -----\n",
    "    midi_file_name = tune_name +'.mid'   # set the name of the file\n",
    "    m.write(midi_file_name)\n",
    "    return midi_file_name"
   ]
  },
  {
   "cell_type": "code",
   "execution_count": 8,
   "metadata": {},
   "outputs": [
    {
     "data": {
      "image/png": "[encoded data removed]",
      "text/plain": [
       "<Figure size 432x288 with 1 Axes>"
      ]
     },
     "metadata": {
      "needs_background": "light"
     },
     "output_type": "display_data"
    }
   ],
   "source": [
    "######---  Main  ---######\n",
    "midi_file_name = gen_midi()\n",
    "\n",
    "midi_play(midi_file_name)\n",
    "midi_audio(midi_file_name)\n",
    "midi_png(midi_file_name)"
   ]
  },
  {
   "cell_type": "markdown",
   "metadata": {},
   "source": [
    "## External __Music_Generation__ library\n",
    "This library changes from version to version. New or changed code is first explaind above. This is a copy of music_generation.py "
   ]
  },
  {
   "cell_type": "raw",
   "metadata": {},
   "source": [
    ".. literalinclude:: music_generation.py\n",
    "   :language: python"
   ]
  }
 ],
 "metadata": {
  "kernelspec": {
   "display_name": "Python 3",
   "language": "python",
   "name": "python3"
  },
  "language_info": {
   "codemirror_mode": {
    "name": "ipython",
    "version": 3
   },
   "file_extension": ".py",
   "mimetype": "text/x-python",
   "name": "python",
   "nbconvert_exporter": "python",
   "pygments_lexer": "ipython3",
   "version": "3.6.8"
  }
 },
 "nbformat": 4,
 "nbformat_minor": 2
}
