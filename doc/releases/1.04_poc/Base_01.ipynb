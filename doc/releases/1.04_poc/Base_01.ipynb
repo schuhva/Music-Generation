{
 "cells": [
  {
   "cell_type": "markdown",
   "metadata": {},
   "source": [
    "# 1.04 start and basics\n",
    "\n",
    "Pyknon offers to generate easely to generet midi files, rather to modify the directly and manually with noteOn and noteOff commands.\n"
   ]
  },
  {
   "cell_type": "code",
   "execution_count": 53,
   "metadata": {},
   "outputs": [],
   "source": [
    "from pyknon.genmidi import Midi\n",
    "from pyknon.music import Rest, Note, NoteSeq\n",
    "import numpy as np"
   ]
  },
  {
   "cell_type": "markdown",
   "metadata": {},
   "source": [
    "## Pyknon\n",
    "There exist two diffrent notations one with the Note() function and in a simpyfied plain text version\n"
   ]
  },
  {
   "cell_type": "code",
   "execution_count": 54,
   "metadata": {},
   "outputs": [
    {
     "data": {
      "text/plain": [
       "'tune_C.mid'"
      ]
     },
     "execution_count": 54,
     "metadata": {},
     "output_type": "execute_result"
    }
   ],
   "source": [
    "def tune_A():\n",
    "    notes1 = NoteSeq(      \"C4 D E F G A B C''\")   # Apostroph ' = \"gestrichen\" = Höhe der Oktave\n",
    "    notes2 = NoteSeq(\"r1 r1 C4'' B' A G F E D C\")   # r = rest = Pause; Zahl = Länge der Pause\n",
    "    return notes1, notes2\n",
    "\n",
    "def tune_B():\n",
    "    notes1 = NoteSeq(\"Db4- F#8 A Bb4\")   # Zahl = Länge des Tones: 1=ganz, 4=Viertel\n",
    "    notes2 = NoteSeq([Note(2, dur=1/4), Note(6, dur=1/8), Note(9, dur=1/8), Note(10, dur=1/4)])\n",
    "    return notes1, notes2\n",
    "\n",
    "def tune_C():\n",
    "    major = [0,2,4,5,7,9,11]\n",
    "    minor = [0,2,3,5,7,8,10]\n",
    "    track1 = major + [12]\n",
    "    track2 = minor[::-1]                           # reverse\n",
    "    notes1 = NoteSeq([Note(no) for no in track1])\n",
    "    notes2 = NoteSeq([Rest(2)]+[Note(no) for no in track2])\n",
    "    return notes1, notes2\n",
    "\n",
    "def generate_midi():\n",
    "    #--- choose the tune \n",
    "    notes1, notes2 = tune_C()        \n",
    "\n",
    "    #--- squezze into a MIDI framework \n",
    "    m = Midi(2, tempo=120)     #  \n",
    "    m.seq_notes(notes1, track=0)\n",
    "    m.seq_notes(notes2, track=1)\n",
    "\n",
    "    #--- write the MIDI file \n",
    "    midi_file_name =  \"tune_C.mid\"       # set the name of the file\n",
    "    m.write(midi_file_name)\n",
    "    return midi_file_name\n",
    "\n",
    "generate_midi()"
   ]
  },
  {
   "cell_type": "markdown",
   "metadata": {},
   "source": [
    "## Midi: Play and Generate audio-file \n",
    "Externel players offered a better sound quality in comparison with python liaberys. We uses __VLC__  and __Musescore__. Musescore\n"
   ]
  },
  {
   "cell_type": "code",
   "execution_count": 62,
   "metadata": {},
   "outputs": [],
   "source": [
    "import subprocess\n",
    "default_soundfont = '/usr/share/sounds/sf3/MuseScore_General.sf3'\n",
    "\n",
    "def midi_play(midi_in, soundfont= default_soundfont):\n",
    "    subprocess.call(['cvlc', midi_in , 'vlc://quit'])   # cvlc = vlc without gui\n",
    "    \n",
    "def midi_audio(midi_in, name_out = 'none', soundfont= default_soundfont):\n",
    "    if name_out == 'none' :\n",
    "        name_out = midi_in.replace('.mid', '.flac')\n",
    "    else:\n",
    "        name_out = name_out + '.flac'\n",
    "    subprocess.call(['mscore', '-o', name_out, midi_in]) # -o = export as\n",
    "\n",
    "def midi_png(midi_in, name_out = 'none'):\n",
    "    if name_out == 'none' :\n",
    "        name_out = midi_in.replace('.mid', '.png')\n",
    "    else:\n",
    "        name_out = name_out + '.png'\n",
    "    subprocess.call(['mscore', '-o', name_out, '-T', '0', midi_in]) # -o = export as , -T 0 = cut page with 0 pixel\n",
    "    \n",
    "    \n",
    "midi_play('tune_C.mid')\n",
    "midi_audio('tune_C.mid')\n",
    "midi_png('tune_C.mid')"
   ]
  },
  {
   "cell_type": "raw",
   "metadata": {},
   "source": [
    ".. raw:: html\n",
    "\n",
    "    <audio controls=\"controls\" src=\"https://raw.githubusercontent.com/schuhva/Music-Generation/master/doc/releases/1.04_poc/tune_C.flac\" type=\"audio/flac\"></audio>\n",
    "    <img alt=\"self-Logo\" src=\"https://raw.githubusercontent.com/schuhva/Music-Generation/master/doc/releases/1.04_poc/tune_C-1.png\">\n",
    " "
   ]
  }
 ],
 "metadata": {
  "kernelspec": {
   "display_name": "Python 3",
   "language": "python",
   "name": "python3"
  },
  "language_info": {
   "codemirror_mode": {
    "name": "ipython",
    "version": 3
   },
   "file_extension": ".py",
   "mimetype": "text/x-python",
   "name": "python",
   "nbconvert_exporter": "python",
   "pygments_lexer": "ipython3",
   "version": "3.6.8"
  }
 },
 "nbformat": 4,
 "nbformat_minor": 2
}
