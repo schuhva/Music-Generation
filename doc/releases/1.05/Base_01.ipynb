{
 "cells": [
  {
   "cell_type": "markdown",
   "metadata": {},
   "source": [
    "# 1.05 Instruments\n",
    "Adding __instruments__ to the tracks and improving __gen_midi( )__ such that the number of tracks does not mater."
   ]
  },
  {
   "cell_type": "code",
   "execution_count": 143,
   "metadata": {},
   "outputs": [],
   "source": [
    "from pyknon.genmidi import Midi\n",
    "from pyknon.music import Rest, Note, NoteSeq\n",
    "import numpy as np"
   ]
  },
  {
   "cell_type": "markdown",
   "metadata": {},
   "source": [
    "## Pyknon\n",
    "There exist two diffrent notations one with the __Note()__ function and in a simpyfied __plain text__ version\n",
    "\n",
    "__Note(value , octave , dur , volume)__\n",
    "\n",
    "* value: integer, note hight in semitones, 0 = middel C = midi 60 \n",
    "* octave: octave number\n",
    "* dur: duration, 0.25 = quarter note\n",
    "* volume: from 1 to 127\n",
    "\n",
    "__Instruments:__\n",
    "Available are at lest the 128 General-Midi (GM) Instruments. Depending on the sound-fonts there is a bigger choise. A list of the GM instruments can be found here. https://en.wikipedia.org/wiki/General_MIDI#Program_change_events Remeber to substract 1 as the list starts with 1 and not 0.\n"
   ]
  },
  {
   "cell_type": "code",
   "execution_count": 144,
   "metadata": {},
   "outputs": [],
   "source": [
    "major = [0,2,4,5,7,9,11,12]\n",
    "minor = [0,2,3,5,7,8,10,12]\n",
    "\n",
    "\n",
    "def tune_D():    \n",
    "    tune_name = 'tune_D'   # A row of maj chords\n",
    "    notes1 = NoteSeq( [Note(no) for no in major] )\n",
    "    notes2 = NoteSeq( [Note(no +4) for no in major] )\n",
    "    notes3 = NoteSeq( [Note(no +7) for no in major] )\n",
    "    notes = [notes1, notes2, notes3]\n",
    "    instruments = [12, 12, 12]\n",
    "    return notes, instruments,tune_name\n",
    "\n",
    "def tune_E():    \n",
    "    tune_name = 'tune_E'            # somtimes forming diatonic chords\n",
    "    major2 = major[:-1] + major[::-1]  # cut last element and reverse\n",
    "    notes1 = NoteSeq( [Note(no) for no in major2] )\n",
    "    notes2 = NoteSeq( [Rest(0.5)] + [Note(no) for no in major2] )\n",
    "    notes3 = NoteSeq( [Rest(1)]   + [Note(no) for no in major2] )\n",
    "    notes = [notes1, notes2, notes3]\n",
    "    instruments = [66, 42, 19]\n",
    "    return notes, instruments,tune_name\n",
    "\n",
    "\n",
    "\n",
    "def gen_midi():\n",
    "#     squezze into a MIDI framework\n",
    "    notes, instruments, tune_name = tune_E() #  <--- select a tune  <<--     <<<<<<<<<--- select a tune -----\n",
    "    nTracks = len(notes)\n",
    "    \n",
    "    m = Midi(number_tracks=nTracks, tempo=100, instrument=instruments)\n",
    "    for iTrack in range(nTracks):\n",
    "        m.seq_notes(notes[iTrack], track=iTrack)\n",
    "\n",
    "    #--- write the MIDI file -----\n",
    "    midi_file_name = tune_name +'.mid'   # set the name of the file\n",
    "    m.write(midi_file_name)\n",
    "    return midi_file_name"
   ]
  },
  {
   "cell_type": "markdown",
   "metadata": {},
   "source": [
    "## Midi: Play and Generate audio-file \n",
    "Externel players offered a better sound quality in comparison with python liaberys. We uses __VLC__  and __Musescore__. Musescore\n"
   ]
  },
  {
   "cell_type": "code",
   "execution_count": 145,
   "metadata": {},
   "outputs": [],
   "source": [
    "import subprocess\n",
    "default_soundfont = '/usr/share/sounds/sf3/MuseScore_General.sf3'\n",
    "\n",
    "def midi_play(midi_in, soundfont= default_soundfont):\n",
    "    subprocess.call(['cvlc', midi_in , 'vlc://quit'])   # cvlc = vlc without gui\n",
    "    \n",
    "def midi_audio(midi_in, name_out = 'none', soundfont= default_soundfont):\n",
    "    if name_out == 'none' :\n",
    "        name_out = midi_in.replace('.mid', '.flac')\n",
    "    else:\n",
    "        name_out = name_out + '.flac'\n",
    "    subprocess.call(['mscore', '-o', name_out, midi_in]) # -o = export as\n",
    "\n",
    "def midi_png(midi_in, name_out = 'none'):\n",
    "    if name_out == 'none' :\n",
    "        name_out = midi_in.replace('.mid', '.png')\n",
    "    else:\n",
    "        name_out = name_out + '.png'\n",
    "    subprocess.call(['mscore', '-o', name_out, '-T', '2', midi_in]) # -o = export as , -T 0 = cut page with 0 pixel"
   ]
  },
  {
   "cell_type": "code",
   "execution_count": 147,
   "metadata": {},
   "outputs": [],
   "source": [
    "######---  Main  ---######\n",
    "midi_file_name = gen_midi()\n",
    "\n",
    "midi_play(midi_file_name)\n",
    "midi_audio(midi_file_name)\n",
    "midi_png(midi_file_name)"
   ]
  },
  {
   "cell_type": "raw",
   "metadata": {},
   "source": [
    ".. raw:: html\n",
    "\n",
    "    <br><audio controls=\"controls\" src=\"https://raw.githubusercontent.com/schuhva/Music-Generation/master/doc/releases/1.05/tune_D.flac\" type=\"audio/flac\"></audio>\n",
    "     tune_D\n",
    "     \n",
    "    <br><audio controls=\"controls\" src=\"https://raw.githubusercontent.com/schuhva/Music-Generation/master/doc/releases/1.05/tune_E.flac\" type=\"audio/flac\"></audio>\n",
    "     tune_E\n",
    "     \n",
    "    <br><img alt=\"self-Logo\" src=\"https://raw.githubusercontent.com/schuhva/Music-Generation/master/doc/releases/1.05/tune_E-1.png\">\n",
    "     tune_E (the saxaphone is a transposing instrument)\n",
    "     \n",
    "\n",
    "\n",
    " "
   ]
  },
  {
   "cell_type": "code",
   "execution_count": null,
   "metadata": {},
   "outputs": [],
   "source": []
  }
 ],
 "metadata": {
  "kernelspec": {
   "display_name": "Python 3",
   "language": "python",
   "name": "python3"
  },
  "language_info": {
   "codemirror_mode": {
    "name": "ipython",
    "version": 3
   },
   "file_extension": ".py",
   "mimetype": "text/x-python",
   "name": "python",
   "nbconvert_exporter": "python",
   "pygments_lexer": "ipython3",
   "version": "3.6.8"
  }
 },
 "nbformat": 4,
 "nbformat_minor": 2
}
