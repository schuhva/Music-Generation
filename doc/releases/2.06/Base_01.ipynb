{
 "cells": [
  {
   "cell_type": "markdown",
   "metadata": {},
   "source": [
    "# 2.06 Chord Change\n",
    "\n",
    "Now a chord model can be defined manually instead of one single scale. The Chord pattern is repeated. The chords change after six notes.\n",
    "\n",
    "The chord changes gets improved in the version 2.07 2.08 and 2.10\n"
   ]
  },
  {
   "cell_type": "code",
   "execution_count": 41,
   "metadata": {},
   "outputs": [],
   "source": [
    "from pyknon.genmidi import Midi\n",
    "from pyknon.music import Rest, Note, NoteSeq\n",
    "import numpy as np\n",
    "import matplotlib.pyplot as plt"
   ]
  },
  {
   "cell_type": "markdown",
   "metadata": {},
   "source": [
    "__Instruments:__\n",
    "Available are at lest the 128 General-Midi (GM) Instruments. Depending on the sound-fonts there is a bigger choice. A list of the GM instruments can be found here. https://jazz-soft.net/demo/GeneralMidi.html\n"
   ]
  },
  {
   "cell_type": "code",
   "execution_count": 42,
   "metadata": {},
   "outputs": [],
   "source": [
    "major = np.array([ 0, 2, 4, 5, 7, 9, 11])\n",
    "minor = np.array([ 0, 2, 3, 5, 7, 8, 10])  \n",
    "C7 = np.array([ 0, 4, 7, 10]) \n",
    "CM7 = np.array([ 0, 4, 7, 11])\n",
    "Cm7 = np.array([ 0, 3, 7, 10])\n",
    "Cm  = np.array([ 0, 3, 7])\n",
    "C   = np.array([ 0, 4, 7])\n",
    "bass= np.array([ 0])\n",
    "\n",
    "\n",
    "def scale_create(tones):\n",
    "    tones = np.asarray(tones)   # tones which form chord or scale in the first octave (0-11)\n",
    "    if any(tones > 11):             # tones over one octave?\n",
    "        tones = np.mod(tones,12)    # set the thones in one octave\n",
    "        tones = np.sort(tones)      # sort the tones new\n",
    "        tones = np.unique(tones)    # remove duplicate tones\n",
    "    octave = np.repeat( np.linspace(0,108, num=10), len(tones))\n",
    "    scale = np.add( octave, np.tile(tones, 10)) # add element wise octave and note\n",
    "    return scale.astype(int)\n",
    "    \n",
    "def fade(start,end,steps): # currently not in use\n",
    "    fade = np.around( np.linspace(start,end,num=steps))\n",
    "    fade = fade.astype(int)\n",
    "    return fade\n",
    "\n",
    "def ran_duration(duration, prob_duration, melody_len):    \n",
    "    duration= np.asarray(duration)                  # this are the allowed durations of the notes\n",
    "    prob_duration = np.asarray(prob_duration)       # this are the probabilities how often each will occure\n",
    "    prob_duration = prob_duration/np.sum(prob_duration) \n",
    "    rythem = np.r_[np.random.choice(duration, size=melody_len, p=prob_duration)]\n",
    "    return rythem\n",
    "    \n",
    "def ran_volume(volume, prob_volume, melody_len):\n",
    "    volume = np.asarray(volume, dtype=int)         # this are the allowed volumes of thenotes\n",
    "    prob_volume = np.asarray(prob_volume)          # this are the probabilities how often each volume will occure\n",
    "    prob_volume = prob_volume/np.sum(prob_volume) \n",
    "    volumes = np.r_[np.random.choice(volume, size=melody_len, p=prob_volume)]\n",
    "    return volumes\n",
    "\n",
    "def intvl_melody(intvl, prob_intvl, melody_len):  #Interval Melody   # currently not in use\n",
    "    intvl = np.asarray(intvl)            # Possible interval\n",
    "    prob_intvl = np.asarray(prob_intvl)         # Probability of each interval\n",
    "    prob_intvl = prob_intvl/np.sum(prob_intvl)\n",
    "    intervals = np.r_[np.random.choice(intvl, size=melody_len, p=prob_intvl)] \n",
    "    imelody = np.cumsum(intervals)\n",
    "    return imelody"
   ]
  },
  {
   "cell_type": "markdown",
   "metadata": {},
   "source": [
    "__linear_range:__\n",
    "Generates an range in which the instrument can play. \n"
   ]
  },
  {
   "cell_type": "code",
   "execution_count": 43,
   "metadata": {},
   "outputs": [],
   "source": [
    "def liniar_range(r_start, r_top, r_edge, r_end, title): # acceptance range of the instrument \n",
    "    h = 100 # hight of acceptance function\n",
    "    a_range = np.zeros(121, dtype=int)  # only to midi =120 as 127 is not a complete octave\n",
    "    np.put(a_range, range(r_start,r_top),  np.linspace(0,h, num=(r_top -r_start)) )\n",
    "    np.put(a_range, range(r_top, r_edge),  np.linspace(h,h, num=(r_edge-r_top  )) )\n",
    "    np.put(a_range, range(r_edge, r_end),  np.linspace(h,0, num=(r_end -r_edge )) )\n",
    "    \n",
    "    fig, ax = plt.subplots()\n",
    "    ax.plot(range(121), a_range)\n",
    "    plt.title(str(title)+':  '+str([r_start, r_top, r_edge, r_end]))\n",
    "    plt.show()\n",
    "    return a_range\n",
    "    "
   ]
  },
  {
   "cell_type": "markdown",
   "metadata": {},
   "source": [
    "__i_last_note:__ finds the i value of the last note in the actual scale. "
   ]
  },
  {
   "cell_type": "code",
   "execution_count": 44,
   "metadata": {},
   "outputs": [],
   "source": [
    "def i_last_note(note, scale):\n",
    "    i_note = (np.abs(scale - note)).argmin()\n",
    "    return i_note"
   ]
  },
  {
   "cell_type": "markdown",
   "metadata": {},
   "source": [
    "__intvl_next__ is a modification of intvl_melody. But it does only creates __one__ interval and not an array/melody in one time."
   ]
  },
  {
   "cell_type": "code",
   "execution_count": 45,
   "metadata": {},
   "outputs": [],
   "source": [
    "def intvl_next(intvl, prob_intvl):  #singel interval\n",
    "    intvl = np.asarray(intvl)            # Possible interval\n",
    "    prob_intvl = np.asarray(prob_intvl)         # Probability of each interval\n",
    "    prob_intvl = prob_intvl/np.sum(prob_intvl)\n",
    "    interval = np.random.choice(intvl, size=1, p=prob_intvl)\n",
    "    return interval[0]"
   ]
  },
  {
   "cell_type": "code",
   "execution_count": 46,
   "metadata": {},
   "outputs": [],
   "source": [
    "# x is the value in the aceptance range of the current note, while x_new is it from the proposoal note\n",
    "\n",
    "def acceptance(x, x_new):\n",
    "    if x_new < 1:\n",
    "        if x < 1:\n",
    "            print('start_note not in range')\n",
    "            return \n",
    "    quot = x_new/x\n",
    "    if quot >= 1: return True\n",
    "    if np.random.uniform(0,1)< quot: return True\n",
    "    else: return False\n",
    "  "
   ]
  },
  {
   "cell_type": "code",
   "execution_count": 117,
   "metadata": {},
   "outputs": [],
   "source": [
    "def acceptance_melody(intvl, prob_intvl, scales, start_note, a_range, melody_len):\n",
    "    melody = np.zeros(melody_len, dtype=int)\n",
    "    melody[0] = scales[0][i_last_note(start_note,scales[0])]\n",
    "\n",
    "    scale_nr =0   \n",
    "    for npn in range(1, melody_len):\n",
    "        \n",
    "        # -- scale changing ------\n",
    "        if np.mod(npn,6)==0:   # number in mp.mod: how many tones in one scale\n",
    "            scale_nr = scale_nr + 1\n",
    "            if scale_nr >= len(scales):\n",
    "                scale_nr =0       \n",
    "        scale = scales[scale_nr]\n",
    "        \n",
    "        \n",
    "        accept = False    \n",
    "        while not accept:       # aslong acept == False\n",
    "            inote = i_last_note(melody[npn-1],scale)\n",
    "            inote_next = inote + intvl_next(intvl, prob_intvl)         # add current not with Proposition\n",
    "            accept_val = a_range[[melody[(npn-1)],scale[inote_next]]]  # get acceptance values\n",
    "            accept = acceptance(accept_val[0],accept_val[1])\n",
    "        melody[npn] = scale[inote_next]\n",
    "    return melody\n",
    "            \n",
    "        "
   ]
  },
  {
   "cell_type": "markdown",
   "metadata": {},
   "source": [
    "__tune_Q:__  |I|VI|II|V| scheme"
   ]
  },
  {
   "cell_type": "code",
   "execution_count": 118,
   "metadata": {},
   "outputs": [],
   "source": [
    "def tune_Q():\n",
    "    tune_name = 'tune_Q'  \n",
    "    #np.random.seed(23)\n",
    "    melody_len = 60\n",
    "    #scales = [scale_create(major),scale_create(minor)]\n",
    "    scales = [scale_create(C),scale_create(Cm +9),scale_create(Cm+2),scale_create(C7+7)]  # I|VI|II|V|\n",
    "    range_1 = liniar_range(55,65,80,93,'Range 1')\n",
    "    \n",
    "    melody1 = acceptance_melody([-2,-1, 0, 1, 2],[1, 3, 1, 3, 1],scales, 67, range_1, melody_len)\n",
    "    rythem1 = ran_duration([1/8, 1/4,1/2], [3,2,1], melody_len)\n",
    "    volumes1 = ran_volume([0,120], [0,8], melody_len )\n",
    "\n",
    "    notes1 = NoteSeq( [Note(no,octave=0, dur=du, volume=vo) for no,du,vo in zip(melody1,rythem1,volumes1)] )\n",
    "\n",
    "    \n",
    "    instruments = [68]\n",
    "    notes = [notes1]\n",
    "    return notes, instruments,tune_name"
   ]
  },
  {
   "cell_type": "raw",
   "metadata": {},
   "source": [
    ".. raw:: html\n",
    "\n",
    "    <br><audio controls=\"controls\" src=\"https://raw.githubusercontent.com/schuhva/Music-Generation/master/doc/releases/2.06/tune_Q.flac\" type=\"audio/flac\"></audio>\n",
    "     tune_Q  \n",
    "     \n",
    "     <br><img src=\"https://raw.githubusercontent.com/schuhva/Music-Generation/master/doc/releases/2.06/tune_Q-1.png\">\n",
    "     tune_Q  <br><br><br>"
   ]
  },
  {
   "cell_type": "markdown",
   "metadata": {},
   "source": [
    "__tune_R:__ Blues scheme with two voices. \n",
    "\n",
    "As the melody creating is independent for each voice, the chord changes is not simultaneously. This needs to be corrected."
   ]
  },
  {
   "cell_type": "code",
   "execution_count": 129,
   "metadata": {},
   "outputs": [],
   "source": [
    "def tune_R():\n",
    "    tune_name = 'tune_R'  \n",
    "    #np.random.seed(23)\n",
    "    melody_len = 60\n",
    "    #scales = [scale_create(C),scale_create(Cm +9),scale_create(Cm+2),scale_create(C7+7)]  # I|VI|II|V|\n",
    "    #scales = [scale_create(major),scale_create(minor)]\n",
    "    #scales = [scale_create(CM7),scale_create(Cm7+9),scale_create(Cm7+2),scale_create(C7+7)] #rythem Change\n",
    "    scales = [scale_create(C7),scale_create(C7+5),scale_create(C7),scale_create(C7+7),scale_create(C7+5),scale_create(C7)] # Blues \n",
    "    \n",
    "    range_1 = liniar_range(30,48,72,84, tune_name +' Range 1')\n",
    "    melody1 = acceptance_melody([-2,-1, 0, 1, 2],[1, 3, 1, 3, 1],scales, 60, range_1, melody_len)\n",
    "    rythem1 = ran_duration([1/8, 1/4,1/2], [4,2,1], melody_len)\n",
    "    volumes1 = ran_volume([0,120], [2,8], melody_len )\n",
    "    notes1 = NoteSeq( [Note(no,octave=0, dur=du, volume=vo) for no,du,vo in zip(melody1,rythem1,volumes1)] )\n",
    "    \n",
    "    range_2 = liniar_range(38,43,55,67,tune_name+ ' Range 2')\n",
    "    melody2 = acceptance_melody([-2,-1, 0, 1, 2],[0, 3, 1, 3, 0],scales, 46, range_2, melody_len)\n",
    "    rythem2 = ran_duration([1/8, 1/4,1/2], [4,2,1], melody_len)\n",
    "    volumes2 = ran_volume([0,120], [0,8], melody_len )\n",
    "    notes2 = NoteSeq( [Note(no,octave=0, dur=du, volume=vo) for no,du,vo in zip(melody2,rythem2,volumes2)] )\n",
    "\n",
    "\n",
    "    \n",
    "    instruments = [0,33]\n",
    "    notes = [notes1,notes2]\n",
    "    return notes, instruments,tune_name"
   ]
  },
  {
   "cell_type": "raw",
   "metadata": {},
   "source": [
    ".. raw:: html\n",
    "\n",
    "    <br><audio controls=\"controls\" src=\"https://raw.githubusercontent.com/schuhva/Music-Generation/master/doc/releases/2.06/tune_R.flac\" type=\"audio/flac\"></audio>\n",
    "     tune_R  \n",
    "     \n",
    "     <br><img src=\"https://raw.githubusercontent.com/schuhva/Music-Generation/master/doc/releases/2.06/tune_R-1.png\">\n",
    "     tune_R  <br><br><br>"
   ]
  },
  {
   "cell_type": "code",
   "execution_count": 130,
   "metadata": {},
   "outputs": [],
   "source": [
    "\n",
    "def gen_midi():\n",
    "#     squezze into a MIDI framework\n",
    "    notes, instruments, tune_name = tune_R() #  <--- select a tune  <<--     <<<<<<<<<--- select a tune -----\n",
    "    nTracks = len(notes)\n",
    "    \n",
    "    m = Midi(number_tracks=nTracks, tempo=120, instrument=instruments)\n",
    "    for iTrack in range(nTracks):\n",
    "        m.seq_notes(notes[iTrack], track=iTrack)\n",
    "\n",
    "    #--- write the MIDI file -----\n",
    "    midi_file_name = tune_name +'.mid'   # set the name of the file\n",
    "    m.write(midi_file_name)\n",
    "    return midi_file_name"
   ]
  },
  {
   "cell_type": "markdown",
   "metadata": {},
   "source": [
    "## Midi: Play and Generate audio-file \n",
    "External players offered a better sound quality in comparison with python libraries. We use __VLC__  and __Musescore__. The __soundfont__ for the VLC player is defined over the command line. For Musescore through the Gui in the preferences.\n"
   ]
  },
  {
   "cell_type": "code",
   "execution_count": 131,
   "metadata": {},
   "outputs": [],
   "source": [
    "import subprocess\n",
    "default_soundfont = '/usr/share/sounds/sf3/MuseScore_General.sf3'\n",
    "\n",
    "def midi_play(midi_in, soundfont= default_soundfont):\n",
    "    subprocess.call(['cvlc', midi_in , 'vlc://quit', '--soundfont', '/home/viturin/-vitis/Documents/MuseScore2/Soundfonts/Compifont_13082016.sf2'])   # cvlc = vlc without gui\n",
    "    \n",
    "def midi_audio(midi_in, name_out = 'none', soundfont= default_soundfont):\n",
    "    if name_out == 'none' :\n",
    "        name_out = midi_in.replace('.mid', '.flac')\n",
    "    else:\n",
    "        name_out = name_out + '.flac'\n",
    "    subprocess.call(['mscore', '-o', name_out, midi_in]) # -o = export as\n",
    "\n",
    "def midi_png(midi_in, name_out = 'none'):\n",
    "    if name_out == 'none' :\n",
    "        name_out = midi_in.replace('.mid', '.png')\n",
    "    else:\n",
    "        name_out = name_out + '.png'\n",
    "    subprocess.call(['mscore', '-o', name_out, '-T', '2', midi_in]) # -o = export as , -T 2 = cut page with 2 pixel"
   ]
  },
  {
   "cell_type": "code",
   "execution_count": 134,
   "metadata": {},
   "outputs": [
    {
     "data": {
      "image/png": "[encoded data removed]",
      "text/plain": [
       "<Figure size 432x288 with 1 Axes>"
      ]
     },
     "metadata": {
      "needs_background": "light"
     },
     "output_type": "display_data"
    },
    {
     "data": {
      "image/png": "[encoded data removed]",
      "text/plain": [
       "<Figure size 432x288 with 1 Axes>"
      ]
     },
     "metadata": {
      "needs_background": "light"
     },
     "output_type": "display_data"
    }
   ],
   "source": [
    "######---  Main  ---######\n",
    "midi_file_name = gen_midi()\n",
    "\n",
    "midi_play(midi_file_name)\n",
    "midi_audio(midi_file_name)\n",
    "midi_png(midi_file_name)"
   ]
  }
 ],
 "metadata": {
  "kernelspec": {
   "display_name": "Python 3",
   "language": "python",
   "name": "python3"
  },
  "language_info": {
   "codemirror_mode": {
    "name": "ipython",
    "version": 3
   },
   "file_extension": ".py",
   "mimetype": "text/x-python",
   "name": "python",
   "nbconvert_exporter": "python",
   "pygments_lexer": "ipython3",
   "version": "3.6.8"
  }
 },
 "nbformat": 4,
 "nbformat_minor": 2
}
