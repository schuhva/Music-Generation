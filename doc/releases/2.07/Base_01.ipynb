{
 "cells": [
  {
   "cell_type": "markdown",
   "metadata": {},
   "source": [
    "# 2.07 syncronize voices\n",
    "\n"
   ]
  },
  {
   "cell_type": "code",
   "execution_count": 267,
   "metadata": {},
   "outputs": [],
   "source": [
    "from pyknon.genmidi import Midi\n",
    "from pyknon.music import Rest, Note, NoteSeq\n",
    "import numpy as np\n",
    "import matplotlib.pyplot as plt"
   ]
  },
  {
   "cell_type": "markdown",
   "metadata": {},
   "source": [
    "__Instruments:__\n",
    "Available are at lest the 128 General-Midi (GM) Instruments. Depending on the sound-fonts there is a bigger choise. A list of the GM instruments can be found here. https://jazz-soft.net/demo/GeneralMidi.html\n"
   ]
  },
  {
   "cell_type": "code",
   "execution_count": 268,
   "metadata": {},
   "outputs": [],
   "source": [
    "major = np.array([ 0, 2, 4, 5, 7, 9, 11])\n",
    "minor = np.array([ 0, 2, 3, 5, 7, 8, 10])  \n",
    "C7 = np.array([ 0, 4, 7, 10]) \n",
    "CM7 = np.array([ 0, 4, 7, 11])\n",
    "Cm7 = np.array([ 0, 3, 7, 10])\n",
    "Cm  = np.array([ 0, 3, 7])\n",
    "C   = np.array([ 0, 4, 7])\n",
    "bass= np.array([ 0])"
   ]
  },
  {
   "cell_type": "code",
   "execution_count": 269,
   "metadata": {},
   "outputs": [],
   "source": [
    "\n",
    "def scale_create(tones):\n",
    "    tones = np.asarray(tones)   # tones which form chord or scale in the first octave (0-11)\n",
    "    if any(tones > 11):             # tones over one octave?\n",
    "        tones = np.mod(tones,12)    # set the thones in one octave\n",
    "        tones = np.sort(tones)      # sort the tones new\n",
    "        tones = np.unique(tones)    # remove duplicate tones\n",
    "    octave = np.repeat( np.linspace(0,108, num=10), len(tones))\n",
    "    scale = np.add( octave, np.tile(tones, 10)) # add element wise octave and note\n",
    "    return scale.astype(int)\n",
    "    \n",
    "def fade(start,end,steps): # currently not in use\n",
    "    fade = np.around( np.linspace(start,end,num=steps))\n",
    "    fade = fade.astype(int)\n",
    "    return fade\n",
    "\n",
    "def ran_duration(duration, prob_duration, melody_len):    \n",
    "    duration= np.asarray(duration)                  # this are the allowed durations of the notes\n",
    "    prob_duration = np.asarray(prob_duration)       # this are the probabilities how often each will occure\n",
    "    prob_duration = prob_duration/np.sum(prob_duration)\n",
    "    cumsum, melody_len, rythem = 0, melody_len/4 , np.asarray([])  #melody_len/4 as note values are quarter\n",
    "    while cumsum < melody_len:\n",
    "        note_len = np.random.choice(duration, p=prob_duration)\n",
    "        cumsum = cumsum + note_len\n",
    "        rythem = np.append(rythem,note_len)\n",
    "    return rythem , len(rythem)\n",
    "\n",
    "def ran_volume(volume, prob_volume, melody_len):\n",
    "    volume = np.asarray(volume, dtype=int)         # this are the allowed volumes of thenotes\n",
    "    prob_volume = np.asarray(prob_volume)          # this are the probabilities how often each volume will occure\n",
    "    prob_volume = prob_volume/np.sum(prob_volume) \n",
    "    volumes = np.r_[np.random.choice(volume, size=melody_len, p=prob_volume)]\n",
    "    return volumes\n",
    "\n",
    "#   currently not in use\n",
    "def intvl_melody(intvl, prob_intvl, melody_len):  #Interval Melody   \n",
    "    intvl = np.asarray(intvl)            # Possible interval\n",
    "    prob_intvl = np.asarray(prob_intvl)         # Probability of each interval\n",
    "    prob_intvl = prob_intvl/np.sum(prob_intvl)\n",
    "    intervals = np.r_[np.random.choice(intvl, size=melody_len, p=prob_intvl)] \n",
    "    imelody = np.cumsum(intervals)\n",
    "    return imelody\n",
    "\n",
    "\n",
    "#   liniar_range: Generates an range in which the instrument can play. \n",
    "def liniar_range(r_start, r_top, r_edge, r_end, title): # acceptance range of the instrument \n",
    "    h = 100 # hight of acceptance function\n",
    "    a_range = np.zeros(121, dtype=int)  # only to midi =120 as 127 is not a complete octave\n",
    "    np.put(a_range, range(r_start,r_top),  np.linspace(0,h, num=(r_top -r_start)) )\n",
    "    np.put(a_range, range(r_top, r_edge),  np.linspace(h,h, num=(r_edge-r_top  )) )\n",
    "    np.put(a_range, range(r_edge, r_end),  np.linspace(h,0, num=(r_end -r_edge )) )\n",
    "    \n",
    "    fig, ax = plt.subplots()\n",
    "    ax.plot(range(121), a_range)\n",
    "    plt.title(str(title)+':  '+str([r_start, r_top, r_edge, r_end]))\n",
    "    plt.show()\n",
    "    return a_range\n",
    "    \n",
    "#   i_last_note: finds de i value of the last not in the actual scale.\n",
    "def i_last_note(note, scale):\n",
    "    i_note = (np.abs(scale - note)).argmin()\n",
    "    return i_note\n",
    "\n",
    "#   intvl_next is a modification of intvl_melody. But it does only creats one interval and not an array/melody in one time.\n",
    "def intvl_next(intvl, prob_intvl):  #singel interval\n",
    "    intvl = np.asarray(intvl)            # Possible interval\n",
    "    prob_intvl = np.asarray(prob_intvl)         # Probability of each interval\n",
    "    prob_intvl = prob_intvl/np.sum(prob_intvl)\n",
    "    interval = np.random.choice(intvl, size=1, p=prob_intvl)\n",
    "    return interval[0]"
   ]
  },
  {
   "cell_type": "code",
   "execution_count": 270,
   "metadata": {},
   "outputs": [],
   "source": [
    "#   acceptance: accepts and refuses proposed nots with Metropolis-Hasting Algorythem.\n",
    "#     x is the value in the aceptance range of the current note, while x_new is it from the proposoal note\n",
    "def acceptance(x, x_new):\n",
    "    if x_new < 1:\n",
    "        if x < 1:\n",
    "            print('start_note not in range')\n",
    "            return \n",
    "    quot = x_new/x\n",
    "    if quot >= 1: return True\n",
    "    if np.random.uniform(0,1)< quot: return True\n",
    "    else: return False\n",
    "  "
   ]
  },
  {
   "cell_type": "code",
   "execution_count": 271,
   "metadata": {},
   "outputs": [],
   "source": [
    "def pattern_gen(scales,melody_len):\n",
    "    scales = np.asarray(scales)\n",
    "    bpb = 4  # beats per bar\n",
    "    factor = int(np.trunc(melody_len/(np.sum(scales[:,0]) * bpb)) + 1) # factor rounded up: how many times is the pattern used\n",
    "    change_times = np.cumsum(np.tile(scales[:,0],factor)) * bpb        # create change time list with factor\n",
    "    change_times = np.concatenate((np.asarray([0]),change_times))[:-1] # add 0 at beginig remove last element\n",
    "    \n",
    "    for i in range(len(scales)):         # send scales to scale_create\n",
    "        scales[i,1] = scale_create(scales[i,1])\n",
    "    pattern = np.tile(scales,(factor,1))   # tile the scales as long the melody is\n",
    "    pattern[:,0] = change_times    #insert change_times into scales\n",
    "    pattern = np.delete(pattern, np.argwhere(pattern[:,0] >= melody_len) ,0) # remove unneeded scales\n",
    "    \n",
    "    return pattern"
   ]
  },
  {
   "cell_type": "code",
   "execution_count": 328,
   "metadata": {},
   "outputs": [],
   "source": [
    "def acceptance_melody(intvl, prob_intvl, pattern, start_note, a_range, notenr, rythem):\n",
    "    melody = np.zeros(notenr, dtype=int)\n",
    "    cum_rythem = np.cumsum(rythem) *4\n",
    "    cum_rythem = np.concatenate(([0],cum_rythem))[:-1] # add 0 at beginig remove last element\n",
    "    scale_change = pattern[:,0]\n",
    "    scale_nr =0\n",
    "    scale = pattern[scale_nr,1]\n",
    "    melody[0] = scale[i_last_note(start_note,scale)]\n",
    "    #print('cum_rythem, scale_change:  ',cum_rythem, scale_change )\n",
    "    \n",
    "    for npn in range(1, notenr):  #npn: note per note (index)\n",
    "        \n",
    "        scale_nr = np.ravel(np.argwhere(scale_change <= cum_rythem[npn-1])) [-1]\n",
    "      \n",
    "        scale = pattern[scale_nr,1]\n",
    "        \n",
    "        \n",
    "        accept = False    \n",
    "        while not accept:       # aslong acept == False\n",
    "            inote = i_last_note(melody[npn-1],scale)\n",
    "            inote_next = inote + intvl_next(intvl, prob_intvl)         # add current not with Proposition\n",
    "            accept_val = a_range[[melody[(npn-1)],scale[inote_next]]]  # get acceptance values\n",
    "            accept = acceptance(accept_val[0],accept_val[1])\n",
    "        #print('npn, len(melody),inote_next,len(scale)', npn, len(melody),inote_next,len(scale))\n",
    "        melody[npn] = scale[inote_next]\n",
    "    return melody\n",
    "            \n",
    "        "
   ]
  },
  {
   "cell_type": "markdown",
   "metadata": {},
   "source": [
    "__tune_S:__ "
   ]
  },
  {
   "cell_type": "code",
   "execution_count": 333,
   "metadata": {},
   "outputs": [],
   "source": [
    "def tune_S():\n",
    "    tune_name = 'tune_S'  \n",
    "    #np.random.seed(23)\n",
    "    bar, bpb = 12, 4  # bar: Takt , bpb: beat per bar\n",
    "    melody_len = bar * bpb\n",
    "\n",
    "    scales = [[0.5,CM7],[0.5,Cm7+9],[0.5,Cm7+2],[0.5,C7+7]] #rythem Change\n",
    "    #scales = [[4,C7],[2,C7+5],[2,C7],[1,C7+7],[1,C7+5],[2,C7]] # Blues  \n",
    "    pattern = pattern_gen(scales, melody_len)\n",
    "    #print(pattern)\n",
    "    \n",
    "    \n",
    "    rythem1, notenr_1 = ran_duration([1/8, 1/4,1/2], [4,0,0], melody_len)\n",
    "    range_1 = liniar_range(30,48,72,84, tune_name +' Range 1')\n",
    "    melody1 = acceptance_melody([-2,-1, 0, 1, 2],[1, 4, 1, 4, 1],pattern, 60, range_1, notenr_1, rythem1)\n",
    "    volumes1 = ran_volume([0,120], [2,8], notenr_1 )\n",
    "    notes1 = NoteSeq( [Note(no,octave=0, dur=du, volume=vo) for no,du,vo in zip(melody1,rythem1,volumes1)] )\n",
    "\n",
    "\n",
    "    \n",
    "    instruments = [0]\n",
    "    notes = [notes1]\n",
    "    return notes, instruments,tune_name"
   ]
  },
  {
   "cell_type": "raw",
   "metadata": {},
   "source": [
    ".. raw:: html\n",
    "\n",
    "    <br><audio controls=\"controls\" src=\"https://raw.githubusercontent.com/schuhva/Music-Generation/master/doc/releases/2.06/tune_R.flac\" type=\"audio/flac\"></audio>\n",
    "     tune_R  \n",
    "     \n",
    "     <br><img src=\"https://raw.githubusercontent.com/schuhva/Music-Generation/master/doc/releases/2.06/tune_R-1.png\">\n",
    "     tune_R  <br><br><br>"
   ]
  },
  {
   "cell_type": "code",
   "execution_count": 334,
   "metadata": {},
   "outputs": [],
   "source": [
    "\n",
    "def gen_midi():\n",
    "#     squezze into a MIDI framework\n",
    "    notes, instruments, tune_name = tune_S() #  <--- select a tune  <<--     <<<<<<<<<--- select a tune -----\n",
    "    nTracks = len(notes)\n",
    "    \n",
    "    m = Midi(number_tracks=nTracks, tempo=120, instrument=instruments)\n",
    "    for iTrack in range(nTracks):\n",
    "        m.seq_notes(notes[iTrack], track=iTrack)\n",
    "\n",
    "    #--- write the MIDI file -----\n",
    "    midi_file_name = tune_name +'.mid'   # set the name of the file\n",
    "    m.write(midi_file_name)\n",
    "    return midi_file_name"
   ]
  },
  {
   "cell_type": "markdown",
   "metadata": {},
   "source": [
    "## Midi: Play and Generate audio-file \n",
    "Externel players offered a better sound quality in comparison with python liaberys. We use __VLC__  and __Musescore__. The __soundfont__ for the VLC player is defined over the command line. For Musescore through the Gui in the preferences.\n"
   ]
  },
  {
   "cell_type": "code",
   "execution_count": 335,
   "metadata": {},
   "outputs": [],
   "source": [
    "import subprocess\n",
    "default_soundfont = '/usr/share/sounds/sf3/MuseScore_General.sf3'\n",
    "\n",
    "def midi_play(midi_in, soundfont= default_soundfont):\n",
    "    subprocess.call(['cvlc', midi_in , 'vlc://quit', '--soundfont', '/home/viturin/-vitis/Documents/MuseScore2/Soundfonts/Compifont_13082016.sf2'])   # cvlc = vlc without gui\n",
    "    \n",
    "def midi_audio(midi_in, name_out = 'none', soundfont= default_soundfont):\n",
    "    if name_out == 'none' :\n",
    "        name_out = midi_in.replace('.mid', '.flac')\n",
    "    else:\n",
    "        name_out = name_out + '.flac'\n",
    "    subprocess.call(['mscore', '-o', name_out, midi_in]) # -o = export as\n",
    "\n",
    "def midi_png(midi_in, name_out = 'none'):\n",
    "    if name_out == 'none' :\n",
    "        name_out = midi_in.replace('.mid', '.png')\n",
    "    else:\n",
    "        name_out = name_out + '.png'\n",
    "    subprocess.call(['mscore', '-o', name_out, '-T', '2', midi_in]) # -o = export as , -T 2 = cut page with 2 pixel"
   ]
  },
  {
   "cell_type": "code",
   "execution_count": 336,
   "metadata": {},
   "outputs": [
    {
     "data": {
      "image/png": "[encoded data removed]",
      "text/plain": [
       "<Figure size 432x288 with 1 Axes>"
      ]
     },
     "metadata": {
      "needs_background": "light"
     },
     "output_type": "display_data"
    }
   ],
   "source": [
    "######---  Main  ---######\n",
    "midi_file_name = gen_midi()\n",
    "\n",
    "midi_play(midi_file_name)\n",
    "midi_audio(midi_file_name)\n",
    "midi_png(midi_file_name)"
   ]
  },
  {
   "cell_type": "code",
   "execution_count": null,
   "metadata": {},
   "outputs": [],
   "source": []
  },
  {
   "cell_type": "code",
   "execution_count": null,
   "metadata": {},
   "outputs": [],
   "source": []
  },
  {
   "cell_type": "code",
   "execution_count": null,
   "metadata": {},
   "outputs": [],
   "source": []
  },
  {
   "cell_type": "code",
   "execution_count": null,
   "metadata": {},
   "outputs": [],
   "source": []
  }
 ],
 "metadata": {
  "kernelspec": {
   "display_name": "Python 3",
   "language": "python",
   "name": "python3"
  },
  "language_info": {
   "codemirror_mode": {
    "name": "ipython",
    "version": 3
   },
   "file_extension": ".py",
   "mimetype": "text/x-python",
   "name": "python",
   "nbconvert_exporter": "python",
   "pygments_lexer": "ipython3",
   "version": "3.6.8"
  }
 },
 "nbformat": 4,
 "nbformat_minor": 2
}
