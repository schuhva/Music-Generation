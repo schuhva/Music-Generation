{
 "cells": [
  {
   "cell_type": "markdown",
   "metadata": {},
   "source": [
    "# 1.06 Rythem, Volumes and Ornaments\n",
    "Integrating the __dur__ and __volume__ arguments of the __Note()__ funktion.\n",
    "\n",
    "Adding __Ornaments__ to the melody. The same Onaments appers each or many notes. When a Melodic paatern is used several times on a diffrent hight it's called a Sequence."
   ]
  },
  {
   "cell_type": "code",
   "execution_count": 23,
   "metadata": {},
   "outputs": [],
   "source": [
    "from pyknon.genmidi import Midi\n",
    "from pyknon.music import Rest, Note, NoteSeq\n",
    "import numpy as np"
   ]
  },
  {
   "cell_type": "markdown",
   "metadata": {},
   "source": [
    "## Pyknon\n",
    "There exist two diffrent notations one with the __Note()__ function and in a simpyfied __plain text__ version\n",
    "\n",
    "__Note(value , octave , dur , volume)__\n",
    "\n",
    "* value: integer, note hight in semitones, 0 = middel C = midi 60 \n",
    "* octave: octave number\n",
    "* dur: duration, 0.25 = quarter note\n",
    "* volume: from 1 to 127\n",
    "\n",
    "__Instruments:__\n",
    "Available are at lest the 128 General-Midi (GM) Instruments. Depending on the sound-fonts there is a bigger choise. A list of the GM instruments can be found here. https://en.wikipedia.org/wiki/General_MIDI#Program_change_events Remeber to substract 1, as the list starts with 1 and not 0.\n"
   ]
  },
  {
   "cell_type": "code",
   "execution_count": 24,
   "metadata": {},
   "outputs": [],
   "source": [
    "major = [0,2,4,5,7,9,11,12]\n",
    "minor = [0,2,3,5,7,8,10,12]\n",
    "ryt_1 = [1/4 + 1/8 ,1/8]\n",
    "ryt_2 = [0.125,0.125,0.125, 0.125,0.125,0.125, 0.25,0.25,0.25,] # Rythem from west side Story: America\n",
    "var   = np.array([-1,0,2])\n",
    "\n",
    "def fade(start,end,steps):\n",
    "    fade = np.around( np.linspace(start,end,num=steps))\n",
    "    fade = fade.astype(int)\n",
    "    return fade\n",
    "\n",
    "# tune_E with difrent instruments, and fading de volume\n",
    "def tune_F():    \n",
    "    tune_name = 'tune_F'              # somtimes forming diatonic chords\n",
    "    major2  = major[:-1] + major[::-1]                 # cut last element and reverse\n",
    "    volumes = np.r_[ fade(30,110,8), fade(103,60,7)]   # creat volume track\n",
    "    rythem  = np.r_[ np.tile(ryt_1, 7), [0.5]]\n",
    "    \n",
    "    notes1 = NoteSeq(            [Note(no-12, octave=5, dur=du, volume=vo) for no,du,vo in zip(major2,rythem,volumes)] )  # -12 = an octave deeper\n",
    "    notes2 = NoteSeq( [Rest(0.5)] + [Note(no, octave=5, dur=du, volume=vo) for no,du,vo in zip(major2,rythem,volumes)] )\n",
    "    notes3 = NoteSeq( [Rest(1)]   + [Note(no, octave=5, dur=du, volume=vo) for no,du,vo in zip(major2,rythem,volumes)] )\n",
    "    notes = [notes1, notes2, notes3]\n",
    "    instruments = [33, 56, 21]\n",
    "    return notes, instruments,tune_name"
   ]
  },
  {
   "cell_type": "markdown",
   "metadata": {},
   "source": [
    "\n",
    "\n",
    "__tune_G__\n",
    "\n",
    "* Not anymore using the scale direclty. First creating an Index-Tune whitch is then convertet in to the tune with the notes.\n",
    "* adding an Ornament on each note of the scale. (Seqeuncing)\n",
    "* Using a rythmic-pattern instead of just quarter-notes."
   ]
  },
  {
   "cell_type": "code",
   "execution_count": 25,
   "metadata": {},
   "outputs": [],
   "source": [
    "def tune_G():\n",
    "    tune_name = 'tune_G' # ryt_2\n",
    "    \n",
    "    iscale = np.arange(1,9)   # index of a scale\n",
    "    imelody = np.array([])    # creating index melody\n",
    "    for i in iscale:                            # adding the Ornament on each note\n",
    "        imelody = np.append(imelody, var + i)\n",
    "    imelody = np.append(imelody, [5,3,1])\n",
    "    imelody = imelody.astype(int)\n",
    "    major2 = [-1]+major +[14,16]\n",
    "    melody = [major2[i] for i in imelody] # creating the tune out of the index-tune\n",
    "    \n",
    "    rythem = np.tile(ryt_2, 3)\n",
    "    volumes = np.int_(np.zeros(len(melody)) +100)\n",
    "    \n",
    "    notes1 = NoteSeq( [Rest(0.5)] + [Note(no, octave=5, dur=du, volume=vo) for no,du,vo in zip(melody,rythem,volumes)] )\n",
    "    instruments = [66]\n",
    "    notes = [notes1]\n",
    "    return notes, instruments,tune_name\n"
   ]
  },
  {
   "cell_type": "code",
   "execution_count": 26,
   "metadata": {},
   "outputs": [],
   "source": [
    "\n",
    "def gen_midi():\n",
    "#     squezze into a MIDI framework\n",
    "    notes, instruments, tune_name = tune_G() #  <--- select a tune  <<--     <<<<<<<<<--- select a tune -----\n",
    "    nTracks = len(notes)\n",
    "    \n",
    "    m = Midi(number_tracks=nTracks, tempo=120, instrument=instruments)\n",
    "    for iTrack in range(nTracks):\n",
    "        m.seq_notes(notes[iTrack], track=iTrack)\n",
    "\n",
    "    #--- write the MIDI file -----\n",
    "    midi_file_name = tune_name +'.mid'   # set the name of the file\n",
    "    m.write(midi_file_name)\n",
    "    return midi_file_name"
   ]
  },
  {
   "cell_type": "markdown",
   "metadata": {},
   "source": [
    "## Midi: Play and Generate audio-file \n",
    "Externel players offered a better sound quality in comparison with python liaberys. We use __VLC__  and __Musescore__\n"
   ]
  },
  {
   "cell_type": "code",
   "execution_count": 27,
   "metadata": {},
   "outputs": [],
   "source": [
    "import subprocess\n",
    "default_soundfont = '/usr/share/sounds/sf3/MuseScore_General.sf3'\n",
    "\n",
    "def midi_play(midi_in, soundfont= default_soundfont):\n",
    "    subprocess.call(['cvlc', midi_in , 'vlc://quit'])   # cvlc = vlc without gui\n",
    "    \n",
    "def midi_audio(midi_in, name_out = 'none', soundfont= default_soundfont):\n",
    "    if name_out == 'none' :\n",
    "        name_out = midi_in.replace('.mid', '.flac')\n",
    "    else:\n",
    "        name_out = name_out + '.flac'\n",
    "    subprocess.call(['mscore', '-o', name_out, midi_in]) # -o = export as\n",
    "\n",
    "def midi_png(midi_in, name_out = 'none'):\n",
    "    if name_out == 'none' :\n",
    "        name_out = midi_in.replace('.mid', '.png')\n",
    "    else:\n",
    "        name_out = name_out + '.png'\n",
    "    subprocess.call(['mscore', '-o', name_out, '-T', '2', midi_in]) # -o = export as , -T 0 = cut page with 0 pixel"
   ]
  },
  {
   "cell_type": "code",
   "execution_count": 28,
   "metadata": {},
   "outputs": [],
   "source": [
    "######---  Main  ---######\n",
    "midi_file_name = gen_midi()\n",
    "\n",
    "midi_play(midi_file_name)\n",
    "#midi_audio(midi_file_name)\n",
    "#midi_png(midi_file_name)"
   ]
  },
  {
   "cell_type": "raw",
   "metadata": {},
   "source": [
    ".. raw:: html\n",
    "\n",
    "    <br><audio controls=\"controls\" src=\"https://raw.githubusercontent.com/schuhva/Music-Generation/master/doc/releases/1.06/tune_F.flac\" type=\"audio/flac\"></audio>\n",
    "     tune_F\n",
    "     \n",
    "    <br><audio controls=\"controls\" src=\"https://raw.githubusercontent.com/schuhva/Music-Generation/master/doc/releases/1.06/tune_G.flac\" type=\"audio/flac\"></audio>\n",
    "     tune_G\n",
    "     \n",
    "    <br><img alt=\"self-Logo\" src=\"https://raw.githubusercontent.com/schuhva/Music-Generation/master/doc/releases/1.06/tune_G-1.png\">\n",
    "     tune_G (the saxaphone is a transposing instrument)\n",
    "     \n",
    "     Unfortunately I couldn't print it as 6/8 time signature, as it should be.\n",
    "     \n",
    "\n",
    "\n",
    " "
   ]
  }
 ],
 "metadata": {
  "kernelspec": {
   "display_name": "Python 3",
   "language": "python",
   "name": "python3"
  },
  "language_info": {
   "codemirror_mode": {
    "name": "ipython",
    "version": 3
   },
   "file_extension": ".py",
   "mimetype": "text/x-python",
   "name": "python",
   "nbconvert_exporter": "python",
   "pygments_lexer": "ipython3",
   "version": "3.6.8"
  }
 },
 "nbformat": 4,
 "nbformat_minor": 2
}
