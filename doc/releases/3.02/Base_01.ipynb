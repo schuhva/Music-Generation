{
 "cells": [
  {
   "cell_type": "markdown",
   "metadata": {},
   "source": [
    "# 3.02 Sync voices\n",
    "\n",
    "* The voices are now synchronized\n",
    "* Each voice has an own rolling mean window and scale factor\n",
    "* Functions which are no longer part of this development step are __exported to the music_generation.py file.__ The file is found at the __end__ of the page."
   ]
  },
  {
   "cell_type": "code",
   "execution_count": 18,
   "metadata": {},
   "outputs": [],
   "source": [
    "from pyknon.genmidi import Midi\n",
    "from pyknon.music import Rest, Note, NoteSeq\n",
    "from music_generation import *\n",
    "import numpy as np\n",
    "import pandas as pd\n",
    "import matplotlib.pyplot as plt\n",
    "import matplotlib.ticker as plticker\n",
    "from datetime import date"
   ]
  },
  {
   "cell_type": "markdown",
   "metadata": {},
   "source": [
    "## Transform Meteo data"
   ]
  },
  {
   "cell_type": "code",
   "execution_count": 19,
   "metadata": {},
   "outputs": [
    {
     "name": "stdout",
     "output_type": "stream",
     "text": [
      "  Stao          time  Flash  p_QNH  T_2m  Precip  H_rel  V_wind\n",
      "0  KLO  201908280000      0  968.5  19.6     0.0   90.1     0.6\n",
      "1  KLO  201908280010      0  968.5  19.3     0.0   93.0     0.6\n",
      "2  KLO  201908280020      0  968.6  19.4     0.0   90.6     0.7\n",
      "3  KLO  201908280030      0  968.7  19.6     0.0   90.3     0.7\n",
      "4  KLO  201908280040      0  968.7  18.7     0.0   95.6     0.5\n",
      "-----------------\n",
      "NT, MP 2016 8\n"
     ]
    }
   ],
   "source": [
    "def scale(a):    return (a-a.min())/(a.max()-a.min())\n",
    "\n",
    "def read_meteo_data(fName):\n",
    "    colNames = ['Stao','time', 'Flash', 'p_QNH', 'T_2m', 'Precip', 'H_rel', 'V_wind']  \n",
    "    df = pd.read_csv(fName,sep=';', skiprows=3, names=colNames, na_values='-')\n",
    "    print(df.head())\n",
    "    return df\n",
    "\n",
    "fPath = '/mnt/daten/04_Schule/42_Kanti/Matrua/Music_generation/Organisation/MeteoSchweiz/Daten/'\n",
    "fName = 'order_74678_data.txt'\n",
    "dM = read_meteo_data(fPath+fName)\n",
    "\n",
    "#---- Parameter bestimmen -----------\n",
    "NT, MP = dM.shape\n",
    "print('-----------------')\n",
    "print('NT, MP', NT, MP)\n",
    "\n"
   ]
  },
  {
   "cell_type": "markdown",
   "metadata": {},
   "source": [
    "__met_transform__\n",
    "\n",
    "\n",
    "* the __rolling mean__ is to remove noise on the data. \n",
    "* the __factors__ are used to scale the melody, such that it plays in a certain range\n",
    "* __start__ defines the staring point of the melodies by removing the begin of the data"
   ]
  },
  {
   "cell_type": "code",
   "execution_count": 124,
   "metadata": {},
   "outputs": [],
   "source": [
    "def met_transform(dM,factors,means,start):\n",
    "    col_nr = dM.shape[1]-2\n",
    "    start = int(start*6)\n",
    "    cut_border = np.trunc((np.amax(means))/2).astype(int)   # calculate nr of nan at the border because of the rolling mean\n",
    "    cut_begin = np.amax([cut_border,start])\n",
    "    trans = np.zeros((col_nr, (dM.shape[0]  -cut_border -cut_begin))) \n",
    "    if col_nr != len(factors) or col_nr != len(means): print('dM,factor,mean not same length')\n",
    "    \n",
    "    for nr,factor, mean in zip(range(col_nr),factors,means):                                          \n",
    "        Yw  = np.array(dM[dM.columns[nr +2]].rolling(window=mean,center=True).mean()) # nr+2 the first two colums are location and date.\n",
    "        Yw = Yw * factor\n",
    "        trans[nr] = Yw[cut_begin: -cut_border]  # remove nan at begining and end. because of rolling mean\n",
    "        \n",
    "    return trans"
   ]
  },
  {
   "cell_type": "markdown",
   "metadata": {},
   "source": [
    "__Chords and scales__"
   ]
  },
  {
   "cell_type": "code",
   "execution_count": 125,
   "metadata": {},
   "outputs": [],
   "source": [
    "major = np.array([ 0, 2, 4, 5, 7, 9, 11])\n",
    "minor = np.array([ 0, 2, 3, 5, 7, 8, 10])  \n",
    "C7 = np.array([ 0, 4, 7, 10]) \n",
    "CM7 = np.array([ 0, 4, 7, 11])\n",
    "Cm7 = np.array([ 0, 3, 7, 10])\n",
    "Cm  = np.array([ 0, 3, 7])\n",
    "C   = np.array([ 0, 4, 7])\n",
    "bass= np.array([ 0])"
   ]
  },
  {
   "cell_type": "markdown",
   "metadata": {},
   "source": [
    "## Tune U \n",
    "\n",
    "This tune uses the wind and temperature data, starting after 80 hours --> 30.8.2019"
   ]
  },
  {
   "cell_type": "code",
   "execution_count": 138,
   "metadata": {},
   "outputs": [],
   "source": [
    "def meteo_melody(meteo, pattern, start_note, a_range, notenr, rythem,mpb):\n",
    "    melody = np.zeros(notenr, dtype=int)\n",
    "    cum_rythem = np.cumsum(rythem) *4             \n",
    "    cum_rythem = np.concatenate(([0],cum_rythem)) # add 0 at beginig \n",
    "    \n",
    "    scale_change = pattern[:,0]\n",
    "    scale_nr =0\n",
    "    scale = pattern[scale_nr,1]\n",
    "    melody[0] = scale[i_last_note(start_note,scale)]\n",
    "    \n",
    "    for npn in range(1, notenr):  #npn: note per note (index)      \n",
    "        \n",
    "        scale_nr = np.ravel(np.argwhere(scale_change <= cum_rythem[npn-1])) [-1]     \n",
    "        scale = pattern[scale_nr,1]\n",
    "        \n",
    "        # find interval\n",
    "        met_resolution = 10\n",
    "        inter = np.asarray([cum_rythem[npn-1], cum_rythem[npn]])  # get beat_nr's \n",
    "        inter = np.round((inter*mpb)/met_resolution).astype(int)  # calulate index of the data array\n",
    "        intvl = meteo[inter[1]] - meteo[inter[0]]                 # take the diffrence of the data\n",
    "        intvl = np.round(intvl).astype(int)                       # round to an int\n",
    "        \n",
    "        inote_befor = i_last_note(melody[npn-1],scale)    # get i in the scale of the last note\n",
    "        inote = inote_befor + intvl                       # calculate i in scale of note    \n",
    "        melody[npn] = scale[inote]                        # set in to melody\n",
    "         \n",
    "    #print(melody)\n",
    "    plt.plot(cum_rythem[1:],melody) ; plt.xlabel= ('beat nr.'); plt.ylabel=('midi note nr')\n",
    "    return melody"
   ]
  },
  {
   "cell_type": "code",
   "execution_count": 139,
   "metadata": {},
   "outputs": [],
   "source": [
    "def tune_U():\n",
    "    tune_name = 'tune_U'  \n",
    "    #np.random.seed(23)\n",
    "    bar, bpb = 12, 4  # bar: Takt , bpb: beat per bar\n",
    "    melody_len = bar * bpb\n",
    "    mpb = 70   #minutes per beat.\n",
    "    start = 79.5      # start in hours \n",
    "    \n",
    "    trans = met_transform(dM,[1,2.5,0.8,1,0.3,4.5],[6,6,6,6,6,2],start)\n",
    "    #plt.plot(trans[5,:300])\n",
    "    #np.set_printoptions(threshold=np.inf)\n",
    "    #print(trans[1,::20])\n",
    "    \n",
    "    \n",
    "    scales = [[1,CM7],[1,Cm7+9],[1,Cm7+2],[1,C7+7]] #rythem Change\n",
    "    #scales = [[4,C7],[2,C7+5],[2,C7],[1,C7+7],[1,C7+5],[2,C7]] # Blues  \n",
    "    scales = [[8,minor]]\n",
    "    pattern = pattern_gen(scales, melody_len)\n",
    "    \n",
    "    range_1 = liniar_range(44,51,70,76)\n",
    "    rythem1, notenr_1 = ran_duration([1/16,1/8, 1/4,1/2], [2,4,1,0], melody_len)\n",
    "    melody1 = meteo_melody(trans[5],pattern, 72, range_1, notenr_1, rythem1,mpb)\n",
    "    volumes1 = ran_volume([0,120], [1,8], notenr_1 )\n",
    "    notes1 = NoteSeq( [Note(no,octave=0, dur=du, volume=vo) for no,du,vo in zip(melody1,rythem1,volumes1)] )\n",
    "    \n",
    "    range_2 = liniar_range(44,51,70,76)\n",
    "    rythem2, notenr_2 = ran_duration([1/16,1/8, 1/4,1/2], [0,2,3,2], melody_len)\n",
    "    melody2 = meteo_melody(trans[4],pattern, 65, range_2, notenr_2, rythem2,mpb)\n",
    "    volumes2 = ran_volume([0,120], [1,8], notenr_2 )\n",
    "    notes2 = NoteSeq( [Note(no,octave=0, dur=du, volume=vo) for no,du,vo in zip(melody2,rythem2,volumes2)] )\n",
    "\n",
    "    \n",
    "    #plot_range([range_1],['range_1'],tune_name)\n",
    "    instruments = [10,49]\n",
    "    notes = [notes1,notes2]\n",
    "    return notes, instruments,tune_name"
   ]
  },
  {
   "cell_type": "raw",
   "metadata": {},
   "source": [
    ".. raw:: html\n",
    "\n",
    "    <br><audio controls=\"controls\" src=\"https://raw.githubusercontent.com/schuhva/Music-Generation/master/doc/releases/3.02/tune_U.flac\" type=\"audio/flac\"></audio>\n",
    "     tune_U\n",
    "     \n",
    "     <br><img src=\"https://raw.githubusercontent.com/schuhva/Music-Generation/master/doc/releases/3.02/tune_U-1.png\">\n",
    "     tune_T  <br><br><br>"
   ]
  },
  {
   "cell_type": "markdown",
   "metadata": {},
   "source": [
    "__Instruments:__\n",
    "Available are at lest the 128 General-Midi (GM) Instruments. Depending on the sound-fonts there is a bigger choice. A list of the GM instruments can be found here. https://jazz-soft.net/demo/GeneralMidi.html\n"
   ]
  },
  {
   "cell_type": "markdown",
   "metadata": {},
   "source": [
    "## Generate Midi and Audio file"
   ]
  },
  {
   "cell_type": "code",
   "execution_count": 140,
   "metadata": {},
   "outputs": [],
   "source": [
    "def gen_midi():\n",
    "#     squezze into a MIDI framework\n",
    "    notes, instruments, tune_name = tune_U() #  <--- select a tune  <<--     <<<<<<<<<--- select a tune -----\n",
    "    nTracks = len(notes)\n",
    "    \n",
    "    m = Midi(number_tracks=nTracks, tempo=120, instrument=instruments)\n",
    "    for iTrack in range(nTracks):\n",
    "        m.seq_notes(notes[iTrack], track=iTrack)\n",
    "\n",
    "    #--- write the MIDI file -----\n",
    "    midi_file_name = tune_name +'.mid'   # set the name of the file\n",
    "    m.write(midi_file_name)\n",
    "    return midi_file_name"
   ]
  },
  {
   "cell_type": "code",
   "execution_count": 141,
   "metadata": {},
   "outputs": [
    {
     "data": {
      "image/png": "[encoded data removed]",
      "text/plain": [
       "<Figure size 432x288 with 1 Axes>"
      ]
     },
     "metadata": {
      "needs_background": "light"
     },
     "output_type": "display_data"
    }
   ],
   "source": [
    "######---  Main  ---######\n",
    "midi_file_name = gen_midi()\n",
    "\n",
    "midi_play(midi_file_name)\n",
    "midi_audio(midi_file_name)\n",
    "midi_png(midi_file_name)"
   ]
  },
  {
   "cell_type": "markdown",
   "metadata": {},
   "source": [
    "\n",
    "\n",
    "\n"
   ]
  },
  {
   "cell_type": "markdown",
   "metadata": {},
   "source": [
    "## External __Music_Generation__ library\n",
    "This library changes from version to version. New or changed code is first explained above. This is a copy of music_generation.py "
   ]
  },
  {
   "cell_type": "raw",
   "metadata": {},
   "source": [
    ".. literalinclude:: music_generation.py\n",
    "   :language: python"
   ]
  }
 ],
 "metadata": {
  "kernelspec": {
   "display_name": "Python 3",
   "language": "python",
   "name": "python3"
  },
  "language_info": {
   "codemirror_mode": {
    "name": "ipython",
    "version": 3
   },
   "file_extension": ".py",
   "mimetype": "text/x-python",
   "name": "python",
   "nbconvert_exporter": "python",
   "pygments_lexer": "ipython3",
   "version": "3.6.8"
  }
 },
 "nbformat": 4,
 "nbformat_minor": 2
}
