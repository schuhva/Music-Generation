{
 "cells": [
  {
   "cell_type": "markdown",
   "metadata": {},
   "source": [
    "# 3.06 Meteo Harmony Change \n",
    "\n",
    "\n",
    "* Weather Period from 1.8.2019 to 28.8.2019\n",
    "\n",
    "\n",
    "\n"
   ]
  },
  {
   "cell_type": "code",
   "execution_count": 1,
   "metadata": {},
   "outputs": [],
   "source": [
    "from pyknon.genmidi import Midi\n",
    "from pyknon.music import Rest, Note, NoteSeq\n",
    "from music_generation import*\n",
    "import numpy as np\n",
    "import pandas as pd\n",
    "import matplotlib.pyplot as plt\n",
    "import matplotlib.ticker as plticker\n",
    "from datetime import date"
   ]
  },
  {
   "cell_type": "markdown",
   "metadata": {},
   "source": [
    "### Read Meteo data"
   ]
  },
  {
   "cell_type": "code",
   "execution_count": 2,
   "metadata": {},
   "outputs": [
    {
     "name": "stdout",
     "output_type": "stream",
     "text": [
      "  Stao          time  T_Boden_20cm  Flash_30km  Glob_rad    QFE  T_2m  \\\n",
      "0  KLO  201908010000          21.5           0         2  969.5  15.3   \n",
      "1  KLO  201908010010          21.5           0         2  969.5  14.9   \n",
      "2  KLO  201908010020          21.5           0         2  969.5  14.6   \n",
      "3  KLO  201908010030          21.5           0         2  969.5  14.6   \n",
      "4  KLO  201908010040          21.4           0         2  969.6  13.7   \n",
      "\n",
      "   Rain_Sum  H_rel   visibi  V_wind  direction_wind  \n",
      "0       0.0   80.4  20000.0     0.9             117  \n",
      "1       0.0   82.4  20000.0     1.1              98  \n",
      "2       0.0   83.7  20000.0     1.0             121  \n",
      "3       0.0   82.7  20000.0     1.2             119  \n",
      "4       0.0   88.8  20000.0     1.0             173  \n"
     ]
    }
   ],
   "source": [
    "def read_meteo_data(fName):\n",
    "    colNames = ['Stao','time', 'T_Boden_20cm', 'Flash_30km', 'Glob_rad', 'QFE','T_2m','Rain_Sum','H_rel','visibi','V_wind','direction_wind']  \n",
    "    df = pd.read_csv(fName,sep=';', skiprows=3, names=colNames, na_values='-')\n",
    "    print(df.head())\n",
    "    return df\n",
    "\n",
    "fPath = '/mnt/daten/04_Schule/42_Kanti/Matrua/Music_generation/Organisation/MeteoSchweiz/Daten/'\n",
    "fName = 'order_75330_data.txt'\n",
    "dM = read_meteo_data(fPath+fName)\n",
    "\n",
    "NT, MP = dM.shape"
   ]
  },
  {
   "cell_type": "markdown",
   "metadata": {},
   "source": [
    "### Chords and scales"
   ]
  },
  {
   "cell_type": "code",
   "execution_count": 3,
   "metadata": {},
   "outputs": [],
   "source": [
    "C     = np.array([ 0, 4, 7])\n",
    "Cm    = np.array([ 0, 3, 7])\n",
    "Cdim  = np.array([ 0, 3, 6])\n",
    "\n",
    "CM7   = np.array([ 0, 4, 7, 11])\n",
    "C7    = np.array([ 0, 4, 7, 10])\n",
    "Cm7   = np.array([ 0, 3, 7, 10])\n",
    "Cdim7 = np.array([ 0, 3, 6, 10])\n",
    "Cdim6 = np.array([ 0, 3, 6, 9 ])\n",
    "C6    = np.array([ 0, 4, 7, 9 ]) # inversion of Am7\n",
    "Cm6   = np.array([ 0, 3, 7, 9 ])\n",
    "\n",
    "Csus4 = np.array([ 0, 5, 7])\n",
    "Csus2 = np.array([ 0, 2, 7])\n",
    "Csus47= np.array([ 0, 5, 7, 10])\n",
    "\n",
    "P = np.array([ 0,7])  # Power chord (Perfect unison, Perfect fifth)\n",
    "B = np.array([ 0])    # Bass (Perfect unison)\n",
    "\n",
    "major = np.array([ 0, 2, 4, 5, 7, 9, 11])\n",
    "minor = np.array([ 0, 2, 3, 5, 7, 8, 10])\n",
    "blues = np.array([ 0, 3, 5, 6, 7, 10])"
   ]
  },
  {
   "cell_type": "markdown",
   "metadata": {},
   "source": [
    "### Harm_Change\n"
   ]
  },
  {
   "cell_type": "code",
   "execution_count": 4,
   "metadata": {},
   "outputs": [],
   "source": [
    "def harm_change(meteo,value,scale1,scale2,end_scale,melody_len,mpb):\n",
    "    met_resolution = 10\n",
    "    end_zero = [[0,'C',B]]                     #  Fake end for pattern1\n",
    "    i_when = (np.argwhere(meteo>=value))[0,0]  # Find where value is reached first time\n",
    "    b_when = i_when*met_resolution/mpb         # calculate in to beat_nr    \n",
    "    if b_when >= melody_len:                   # when Change is out of song length\n",
    "        print('No pattern Change')\n",
    "        pattern_add = pattern_gen(scale1, end_scale, melody_len)\n",
    "        \n",
    "    else:\n",
    "        pattern1 = pattern_gen(scale1, end_zero, b_when)               # pattern_gen 1\n",
    "        pattern2 = pattern_gen(scale2, end_scale, melody_len - b_when) # pattern_gen 2 \n",
    "        pattern2[:,0] = pattern2[:,0] + b_when                         # add b_when to the change times of second pattern\n",
    "        pattern_add = np.concatenate((pattern1,pattern2),axis=0)       # merge both patterns\n",
    "    return pattern_add"
   ]
  },
  {
   "cell_type": "markdown",
   "metadata": {},
   "source": [
    "## tune 306_A\n",
    "\n",
    "* period from 11.8 to 15.8.2019\n",
    "* Temperature and pressure played by Pianos\n",
    "* timpani regulated by the Rain\n",
    "* A Music box playes the melody of the global radiation during. During night the melody is paused\n"
   ]
  },
  {
   "cell_type": "code",
   "execution_count": 41,
   "metadata": {},
   "outputs": [],
   "source": [
    "def tune_306_A():\n",
    "    tune_name = 'tune_306_A'  \n",
    "    np.random.seed(54)  #50\n",
    "    bar, bpb      = 23, 4     # bar: Takt , bpb: beat per bar\n",
    "    s_day, s_hour = 2, 12   # Start point in the data\n",
    "    mpb     =  80            # minutes per beat\n",
    "    end_dur =  1\n",
    "    melody_len, start = print_dur(bar,bpb,mpb,s_day,s_hour,tune_name)\n",
    "\n",
    "    trans = met_transform(dM,[1,1,0.025,3,1.3,400,0.2,1,4.5,1,],[6,6,6,6,6,12,6,6,6,2],start)\n",
    "    \n",
    "    scale1 = [[8,'C',major]]\n",
    "    scale2 = [[8,'C',minor]]\n",
    "    end_scale = [[0.5,'C',Cm]]\n",
    "    pattern = harm_change(trans[5],10,scale1,scale2,end_scale,  melody_len,mpb)\n",
    "\n",
    "    # Pressure\n",
    "    rythem1, notenr_1 = ran_duration([1/32,1/8, 1/4,1/2], [0,2,3,1], melody_len, end_dur)\n",
    "    melody1 = meteo_melody(trans[3],pattern, 72, notenr_1, rythem1,mpb)\n",
    "    volumes1 = ran_volume([0,115], [1,8], notenr_1 )\n",
    "    notes1 = NoteSeq( [Note(no,octave=0, dur=du, volume=vo) for no,du,vo in zip(melody1,rythem1,volumes1)] )\n",
    "    \n",
    "    # temp\n",
    "    rythem2, notenr_2 = ran_duration([1/16,1/8, 1/4,1/2], [0,2,3,2], melody_len, end_dur)\n",
    "    melody2 = meteo_melody(trans[4],pattern, 60, notenr_2, rythem2,mpb)\n",
    "    volumes2 = ran_volume([0,115], [1,8], notenr_2 )\n",
    "    notes2 = NoteSeq( [Note(no,octave=0, dur=du, volume=vo) for no,du,vo in zip(melody2,rythem2,volumes2)] )\n",
    "    \n",
    "    #timpani rain\n",
    "    melody3, rythem3, volumes3 = drum([1/16], [60,63],[100,127],melody_len) \n",
    "    volumes3 = met_vol(trans[5],0,127,rythem3, mpb)\n",
    "    notes3 = NoteSeq( [Note(no,octave=0, dur=du, volume=vo) for no,du,vo in zip(melody3,rythem3,volumes3)] )\n",
    "    \n",
    "    # glob radation\n",
    "    rythem4, notenr_4 = ran_duration([1/32,1/16,1/8, 1/4,], [0,3,1,0], melody_len, end_dur)\n",
    "    melody4 = meteo_melody(trans[2],pattern, 85, notenr_4, rythem4, mpb)\n",
    "    volumes4 = ran_volume([0,110], [0,8], notenr_4 )\n",
    "    volumes4 = on_off(trans[2],[5,20000],volumes4, rythem4, mpb)\n",
    "    notes4 = NoteSeq( [Note(no,octave=0, dur=du, volume=vo) for no,du,vo in zip(melody4,rythem4,volumes4)] )\n",
    "    \n",
    "    instruments = [68,71,47,10]\n",
    "    notes = [notes1,notes2,notes3,notes4]\n",
    "    return notes, instruments,tune_name"
   ]
  },
  {
   "cell_type": "raw",
   "metadata": {},
   "source": [
    ".. raw:: html\n",
    "\n",
    "    <br><audio controls=\"controls\" src=\"https://raw.githubusercontent.com/schuhva/Music-Generation/master/doc/releases/3.06/tune_306_A.flac\" type=\"audio/flac\"></audio>\n",
    "     tune_306_A\n",
    "     \n",
    "     <br><img src=\"https://raw.githubusercontent.com/schuhva/Music-Generation/master/doc/releases/3.06/tune_306_A-1.png\">\n",
    "     tune_306_A  <br><br><br>"
   ]
  },
  {
   "cell_type": "markdown",
   "metadata": {},
   "source": [
    "__Instruments:__\n",
    "Available are at lest the 128 General-Midi (GM) Instruments. Depending on the sound-fonts there is a bigger choise. A list of the GM instruments can be found here. https://jazz-soft.net/demo/GeneralMidi.html\n"
   ]
  },
  {
   "cell_type": "markdown",
   "metadata": {},
   "source": [
    "## Generate Midi and Audio file"
   ]
  },
  {
   "cell_type": "code",
   "execution_count": 42,
   "metadata": {},
   "outputs": [],
   "source": [
    "def gen_midi():\n",
    "#     squezze into a MIDI framework\n",
    "    notes, instruments, tune_name = tune_306_A() #  <--- select a tune  <<--     <<<<<<<<<--- select a tune -----\n",
    "    nTracks = len(notes)\n",
    "    \n",
    "    m = Midi(number_tracks=nTracks, tempo=120, instrument=instruments)\n",
    "    for iTrack in range(nTracks):\n",
    "        m.seq_notes(notes[iTrack], track=iTrack)\n",
    "\n",
    "    #--- write the MIDI file -----\n",
    "    midi_file_name = tune_name +'.mid'   # set the name of the file\n",
    "    m.write(midi_file_name)\n",
    "    return midi_file_name"
   ]
  },
  {
   "cell_type": "code",
   "execution_count": 43,
   "metadata": {},
   "outputs": [
    {
     "name": "stdout",
     "output_type": "stream",
     "text": [
      "tune_306_A: Start: 2 day 12 h   End: 7.0 day 14.666666666666686 h\n"
     ]
    },
    {
     "data": {
      "image/png": "[encoded data removed]",
      "text/plain": [
       "<Figure size 432x288 with 1 Axes>"
      ]
     },
     "metadata": {
      "needs_background": "light"
     },
     "output_type": "display_data"
    }
   ],
   "source": [
    "######---  Main  ---######\n",
    "midi_file_name = gen_midi()\n",
    "\n",
    "midi_play(midi_file_name)\n",
    "midi_audio(midi_file_name)\n",
    "midi_png(midi_file_name)\n"
   ]
  },
  {
   "cell_type": "markdown",
   "metadata": {},
   "source": [
    "### External __Music_Generation__ library\n",
    "This library changes from version to version. New or changed code is first explaind above. This is a copy of music_generation.py "
   ]
  },
  {
   "cell_type": "raw",
   "metadata": {},
   "source": [
    ".. literalinclude:: music_generation.py\n",
    "   :language: python"
   ]
  },
  {
   "cell_type": "code",
   "execution_count": null,
   "metadata": {},
   "outputs": [],
   "source": []
  }
 ],
 "metadata": {
  "kernelspec": {
   "display_name": "Python 3",
   "language": "python",
   "name": "python3"
  },
  "language_info": {
   "codemirror_mode": {
    "name": "ipython",
    "version": 3
   },
   "file_extension": ".py",
   "mimetype": "text/x-python",
   "name": "python",
   "nbconvert_exporter": "python",
   "pygments_lexer": "ipython3",
   "version": "3.6.8"
  }
 },
 "nbformat": 4,
 "nbformat_minor": 2
}
