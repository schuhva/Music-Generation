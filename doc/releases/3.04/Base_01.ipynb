{
 "cells": [
  {
   "cell_type": "markdown",
   "metadata": {},
   "source": [
    "# 3.04 Improving Drumm \n",
    "* Split met_percussion in diffrent Functoins and improved them. So they can also be uesed diffrently.\n",
    "* Creat Print start end, Drum and meteo Volume functions. \n",
    "* Weather Period from 1.8.2019 to 28.8.2019\n",
    "\n",
    "\n"
   ]
  },
  {
   "cell_type": "code",
   "execution_count": 185,
   "metadata": {},
   "outputs": [],
   "source": [
    "from pyknon.genmidi import Midi\n",
    "from pyknon.music import Rest, Note, NoteSeq\n",
    "from music_generation import*\n",
    "import numpy as np\n",
    "import pandas as pd\n",
    "import matplotlib.pyplot as plt\n",
    "import matplotlib.ticker as plticker\n",
    "from datetime import date"
   ]
  },
  {
   "cell_type": "markdown",
   "metadata": {},
   "source": [
    "### Read Meteo data"
   ]
  },
  {
   "cell_type": "code",
   "execution_count": 186,
   "metadata": {},
   "outputs": [
    {
     "name": "stdout",
     "output_type": "stream",
     "text": [
      "  Stao          time  T_Boden_20cm  Flash_30km  Glob_rad    QFE  T_2m  \\\n",
      "0  KLO  201908010000          21.5           0         2  969.5  15.3   \n",
      "1  KLO  201908010010          21.5           0         2  969.5  14.9   \n",
      "2  KLO  201908010020          21.5           0         2  969.5  14.6   \n",
      "3  KLO  201908010030          21.5           0         2  969.5  14.6   \n",
      "4  KLO  201908010040          21.4           0         2  969.6  13.7   \n",
      "\n",
      "   Rain_Sum  H_rel   visibi  V_wind  direction_wind  \n",
      "0       0.0   80.4  20000.0     0.9             117  \n",
      "1       0.0   82.4  20000.0     1.1              98  \n",
      "2       0.0   83.7  20000.0     1.0             121  \n",
      "3       0.0   82.7  20000.0     1.2             119  \n",
      "4       0.0   88.8  20000.0     1.0             173  \n"
     ]
    }
   ],
   "source": [
    "def read_meteo_data(fName):\n",
    "    colNames = ['Stao','time', 'T_Boden_20cm', 'Flash_30km', 'Glob_rad', 'QFE','T_2m','Rain_Sum','H_rel','visibi','V_wind','direction_wind']  \n",
    "    df = pd.read_csv(fName,sep=';', skiprows=3, names=colNames, na_values='-')\n",
    "    print(df.head())\n",
    "    return df\n",
    "\n",
    "fPath = '/mnt/daten/04_Schule/42_Kanti/Matrua/Music_generation/Organisation/MeteoSchweiz/Daten/'\n",
    "fName = 'order_75330_data.txt'\n",
    "dM = read_meteo_data(fPath+fName)\n",
    "\n",
    "NT, MP = dM.shape"
   ]
  },
  {
   "cell_type": "markdown",
   "metadata": {},
   "source": [
    "### Chords and scales"
   ]
  },
  {
   "cell_type": "code",
   "execution_count": 187,
   "metadata": {},
   "outputs": [],
   "source": [
    "C     = np.array([ 0, 4, 7])\n",
    "Cm    = np.array([ 0, 3, 7])\n",
    "Cdim  = np.array([ 0, 3, 6])\n",
    "\n",
    "CM7   = np.array([ 0, 4, 7, 11])\n",
    "C7    = np.array([ 0, 4, 7, 10])\n",
    "Cm7   = np.array([ 0, 3, 7, 10])\n",
    "Cdim7 = np.array([ 0, 3, 6, 10])\n",
    "Cdim6 = np.array([ 0, 3, 6, 9 ])\n",
    "C6    = np.array([ 0, 4, 7, 9 ]) # inversion of Am7\n",
    "Cm6   = np.array([ 0, 3, 7, 9 ])\n",
    "\n",
    "Csus4 = np.array([ 0, 5, 7])\n",
    "Csus2 = np.array([ 0, 2, 7])\n",
    "Csus47= np.array([ 0, 5, 7, 10])\n",
    "\n",
    "P = np.array([ 0,7])  # Power chord (Perfect unison, Perfect fifth)\n",
    "B = np.array([ 0])    # Bass (Perfect unison)\n",
    "\n",
    "major = np.array([ 0, 2, 4, 5, 7, 9, 11])\n",
    "minor = np.array([ 0, 2, 3, 5, 7, 8, 10])\n",
    "blues = np.array([ 0, 3, 5, 6, 7, 10])"
   ]
  },
  {
   "cell_type": "markdown",
   "metadata": {},
   "source": [
    "### Drum\n",
    "\n",
    "* together with __on_off__ and __met_vol__ it repleaces __met_percus__ of the previos version\n",
    "* Creates a regular drumm track by definig a rythmic, note and volume pattern\n",
    "* the volumes will be corrected by the on_off function\n",
    "* the volume can be overwritten be the __met_vol__ function\n"
   ]
  },
  {
   "cell_type": "code",
   "execution_count": 188,
   "metadata": {},
   "outputs": [],
   "source": [
    "def drum(rythems,notes,volumes,melody_len):\n",
    "    ryth_rep = int((melody_len/(np.sum(rythems)*4))+1)      # calculate repeat factor\n",
    "    rythem = np.tile(rythems,ryth_rep)                      # tile  \n",
    "    rythem = np.delete(rythem, np.argwhere(np.cumsum(rythem)*4 >= melody_len))  # delete not used notes\n",
    "    note_nr = len(rythem)\n",
    "    \n",
    "    melody_rep = int(note_nr/len(notes)+1)      # calculate repeat factor\n",
    "    melody = np.tile(notes,melody_rep)          # tile  \n",
    "    melody = melody[:note_nr]                   # delete not used notes\n",
    "    \n",
    "    volume_rep = int(note_nr/len(volumes)+1)    # calculate repeat factor\n",
    "    volume = np.tile(volumes,volume_rep)        # tile  \n",
    "    volume = volume[:note_nr]                   # delete not used notes\n",
    "\n",
    "    return melody, rythem, volume\n",
    "   "
   ]
  },
  {
   "cell_type": "markdown",
   "metadata": {},
   "source": [
    "### Meteo Volume\n",
    "* Generates out of meteo data a Volume track\n",
    "* uses the Rytehm to calculate the position in the meteo data\n",
    "* volumes can be in or decreased by a value (add)\n",
    "* maximum value is 127 as this is the maximum MIDI-Volume"
   ]
  },
  {
   "cell_type": "code",
   "execution_count": 189,
   "metadata": {},
   "outputs": [],
   "source": [
    "def met_vol(meteo, add, rythem, mpb):\n",
    "    met_resolution = 10 \n",
    "    cum_ryth = np.concatenate((np.asarray([0]),np.cumsum(rythem)))[:-1]   # add 0 at beginig remove last element\n",
    "    i_data = (cum_ryth * (mpb /met_resolution)).astype(int)               # calculate index of the data\n",
    "    volumes = meteo[i_data].astype(int)                 # fill in meteo data\n",
    "    volumes = volumes + add                             # add \n",
    "    volumes = np.minimum(volumes, 127)                  # set values bigger than 127 to 127\n",
    "    return volumes"
   ]
  },
  {
   "cell_type": "markdown",
   "metadata": {},
   "source": [
    "### Print Start and End\n",
    "* Prints the end and starting point of the actual tune\n",
    "* Calculates melody_len and Start"
   ]
  },
  {
   "cell_type": "code",
   "execution_count": 190,
   "metadata": {},
   "outputs": [],
   "source": [
    "def print_dur(bar,bpb,mpb,s_day,s_hour,tune_name):\n",
    "    start = (s_day*24)+ s_hour  # start in hours \n",
    "    melody_len = bar * bpb\n",
    "    \n",
    "    S_h = start%24\n",
    "    S_d = start//24\n",
    "    dur_h = melody_len *mpb/60\n",
    "    E_h = (start+dur_h)%24\n",
    "    E_d = (start+dur_h)//24\n",
    "    print(tune_name+': Start:',S_d,'day',S_h,'h   End:', E_d,'day',E_h,'h')\n",
    "    \n",
    "    return melody_len, start\n",
    "    "
   ]
  },
  {
   "cell_type": "markdown",
   "metadata": {},
   "source": [
    "## tune 304_A\n",
    "\n",
    "* this tune is similar to the previous one. but the Function used where changed and improved\n",
    "* period from 5.8 to 7.8.2019\n"
   ]
  },
  {
   "cell_type": "code",
   "execution_count": 191,
   "metadata": {},
   "outputs": [],
   "source": [
    "def tune_304_A():\n",
    "    tune_name = 'tune_304_A'  \n",
    "    #np.random.seed(56)\n",
    "    bar, bpb      = 15, 4     # bar: Takt , bpb: beat per bar\n",
    "    s_day, s_hour = 4, 18   # Start point in the data\n",
    "    mpb     =  60            # minutes per beat\n",
    "    end_dur =  0\n",
    "    melody_len, start = print_dur(bar,bpb,mpb,s_day,s_hour,tune_name)\n",
    "\n",
    "    trans = met_transform(dM,[1,1,1,4,1.3,400,0.2,1,4.5,1,],[6,6,6,6,6,24,6,6,6,2],start)\n",
    "\n",
    "    scales = [[8,'C',major]]\n",
    "    end_scale = [[1,'C',P]]\n",
    "    pattern = pattern_gen(scales, end_scale, melody_len)\n",
    "\n",
    "    # Pressure\n",
    "    range_1 = liniar_range(0,0,0,0)\n",
    "    rythem1, notenr_1 = ran_duration([1/32,1/8, 1/4,1/2], [0,2,3,1], melody_len, end_dur)\n",
    "    melody1 = meteo_melody(trans[3],pattern, 60, range_1, notenr_1, rythem1,mpb)\n",
    "    volumes1 = ran_volume([0,100], [1,8], notenr_1 )\n",
    "    notes1 = NoteSeq( [Note(no,octave=0, dur=du, volume=vo) for no,du,vo in zip(melody1,rythem1,volumes1)] )\n",
    "    \n",
    "    # temp\n",
    "    range_2 = liniar_range(0,0,0,0)\n",
    "    rythem2, notenr_2 = ran_duration([1/16,1/8, 1/4,1/2], [0,2,3,2], melody_len, end_dur)\n",
    "    melody2 = meteo_melody(trans[4],pattern, 80, range_2, notenr_2, rythem2,mpb)\n",
    "    volumes2 = ran_volume([0,100], [1,8], notenr_2 )\n",
    "    notes2 = NoteSeq( [Note(no,octave=0, dur=du, volume=vo) for no,du,vo in zip(melody2,rythem2,volumes2)] )\n",
    "    \n",
    "    #timpani rain\n",
    "    melody3, rythem3, volumes3 = drum([1/16,1.5/16], [60,63,66],[100,127],melody_len) \n",
    "    volumes3 = met_vol(trans[5],0,rythem3, mpb)\n",
    "    notes3 = NoteSeq( [Note(no,octave=0, dur=du, volume=vo) for no,du,vo in zip(melody3,rythem3,volumes3)] )\n",
    "\n",
    "    instruments = [48,48,47]\n",
    "    notes = [notes1,notes2,notes3]\n",
    "    return notes, instruments,tune_name"
   ]
  },
  {
   "cell_type": "raw",
   "metadata": {},
   "source": [
    ".. raw:: html\n",
    "\n",
    "    <br><audio controls=\"controls\" src=\"https://raw.githubusercontent.com/schuhva/Music-Generation/master/doc/releases/3.04/tune_304_A.flac\" type=\"audio/flac\"></audio>\n",
    "     tune_304_A\n",
    "     \n",
    "     <br><img src=\"https://raw.githubusercontent.com/schuhva/Music-Generation/master/doc/releases/3.04/tune_304_A-1.png\">\n",
    "     tune_304_A  <br><br><br>"
   ]
  },
  {
   "cell_type": "markdown",
   "metadata": {},
   "source": [
    "__Instruments:__\n",
    "Available are at lest the 128 General-Midi (GM) Instruments. Depending on the sound-fonts there is a bigger choise. A list of the GM instruments can be found here. https://jazz-soft.net/demo/GeneralMidi.html\n"
   ]
  },
  {
   "cell_type": "markdown",
   "metadata": {},
   "source": [
    "## Generate Midi and Audio file"
   ]
  },
  {
   "cell_type": "code",
   "execution_count": 192,
   "metadata": {},
   "outputs": [],
   "source": [
    "def gen_midi():\n",
    "#     squezze into a MIDI framework\n",
    "    notes, instruments, tune_name = tune_304_A() #  <--- select a tune  <<--     <<<<<<<<<--- select a tune -----\n",
    "    nTracks = len(notes)\n",
    "    \n",
    "    m = Midi(number_tracks=nTracks, tempo=120, instrument=instruments)\n",
    "    for iTrack in range(nTracks):\n",
    "        m.seq_notes(notes[iTrack], track=iTrack)\n",
    "\n",
    "    #--- write the MIDI file -----\n",
    "    midi_file_name = tune_name +'.mid'   # set the name of the file\n",
    "    m.write(midi_file_name)\n",
    "    return midi_file_name"
   ]
  },
  {
   "cell_type": "code",
   "execution_count": 193,
   "metadata": {},
   "outputs": [
    {
     "name": "stdout",
     "output_type": "stream",
     "text": [
      "tune_304_A: Start: 4 day 18 h   End: 7.0 day 6.0 h\n"
     ]
    },
    {
     "data": {
      "image/png": "[encoded data removed]",
      "text/plain": [
       "<Figure size 432x288 with 1 Axes>"
      ]
     },
     "metadata": {
      "needs_background": "light"
     },
     "output_type": "display_data"
    }
   ],
   "source": [
    "######---  Main  ---######\n",
    "midi_file_name = gen_midi()\n",
    "\n",
    "midi_play(midi_file_name)\n",
    "midi_audio(midi_file_name)\n",
    "midi_png(midi_file_name)\n"
   ]
  },
  {
   "cell_type": "markdown",
   "metadata": {},
   "source": [
    "### External __Music_Generation__ library\n",
    "This library changes from version to version. New or changed code is first explaind above. This is a copy of music_generation.py "
   ]
  },
  {
   "cell_type": "raw",
   "metadata": {},
   "source": [
    ".. literalinclude:: music_generation.py\n",
    "   :language: python"
   ]
  },
  {
   "cell_type": "code",
   "execution_count": null,
   "metadata": {},
   "outputs": [],
   "source": []
  }
 ],
 "metadata": {
  "kernelspec": {
   "display_name": "Python 3",
   "language": "python",
   "name": "python3"
  },
  "language_info": {
   "codemirror_mode": {
    "name": "ipython",
    "version": 3
   },
   "file_extension": ".py",
   "mimetype": "text/x-python",
   "name": "python",
   "nbconvert_exporter": "python",
   "pygments_lexer": "ipython3",
   "version": "3.6.8"
  }
 },
 "nbformat": 4,
 "nbformat_minor": 2
}
