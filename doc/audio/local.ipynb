{
 "cells": [
  {
   "cell_type": "markdown",
   "metadata": {},
   "source": [
    "# Audio Beispiele\n",
    "\n",
    "Die Liste bildet eine Auswahl an Beispielen aus der 1. und 2. Phase.\n",
    "\n",
    "Für Beispiele mit Meteodaten (2. Phase) bitte runter scrollen.\n",
    "\n",
    "Dokumentation des Projektes ist unter https://music-generation.readthedocs.io zu finden.\n",
    "\n",
    "\n",
    "\n",
    "\n",
    "\n"
   ]
  },
  {
   "cell_type": "markdown",
   "metadata": {},
   "source": [
    "# 1. Phase: Musik mittels gesteurtem Zufall"
   ]
  },
  {
   "cell_type": "markdown",
   "metadata": {},
   "source": [
    "#### Zufällige Melodie\n",
    "\n",
    "* Melodie komplett zufällig\n",
    "* C-Moll Skala\n",
    "* Rhythmus mit gesteurtem Zufall erzeugt"
   ]
  },
  {
   "cell_type": "raw",
   "metadata": {},
   "source": [
    ".. raw:: html\n",
    "\n",
    "    <audio controls=\"controls\" src=\"tune_K.flac\" type=\"audio/flac\"></audio><br>\n"
   ]
  },
  {
   "cell_type": "markdown",
   "metadata": {},
   "source": [
    "#### Akkordfolge\n",
    "\n",
    "* Intervalle der Melodie mit gesteurtem Zufall generiert.\n",
    "* Rhythmus mit gesteurtem Zufall erzeugt.\n",
    "* Akkordfolge: | I | VI | II | V |\n"
   ]
  },
  {
   "cell_type": "raw",
   "metadata": {},
   "source": [
    ".. raw:: html\n",
    "\n",
    "    <audio controls=\"controls\" src=\"tune_Q.flac\" type=\"audio/flac\"></audio><br>\n"
   ]
  },
  {
   "cell_type": "markdown",
   "metadata": {},
   "source": [
    "#### Blues\n",
    "\n",
    "* Melodie Intervalle mit gesteurtem Zufall generiert.\n",
    "* Rhythmus mit gesteurtem Zufall erzeugt.\n",
    "* Akkordfolge: Blues-Schema \n",
    "* Begleitginstrumente spielen nur Akkordtöne\n",
    "* Saxofon spielt die Blues-Skala\n"
   ]
  },
  {
   "cell_type": "raw",
   "metadata": {},
   "source": [
    ".. raw:: html\n",
    "\n",
    "    <audio controls=\"controls\" src=\"tune_cool_V.flac\" type=\"audio/flac\"></audio><br>\n"
   ]
  },
  {
   "cell_type": "markdown",
   "metadata": {},
   "source": [
    "#### Streichquartett\n",
    "\n",
    "* Intervalle und Rythmus mit gesteurtem Zufall generiert.\n",
    "* Violine, Bratsche, Cello, Kontrabass\n",
    "* Instrumente spielen nur Akkordtöne\n",
    "\n"
   ]
  },
  {
   "cell_type": "raw",
   "metadata": {},
   "source": [
    ".. raw:: html\n",
    "\n",
    "    <audio controls=\"controls\" src=\"tune_209_D.flac\" type=\"audio/flac\"></audio><br>\n"
   ]
  },
  {
   "cell_type": "markdown",
   "metadata": {},
   "source": [
    "#### Jazz Vibraphon\n",
    "\n",
    "* Intervalle und Rythmus mit gesteurtem Zufall generiert.\n",
    "* Vibraphon, 3 Gitarren, Orgel\n",
    "* Instrumente spielen nur Akkordtöne\n",
    "\n"
   ]
  },
  {
   "cell_type": "raw",
   "metadata": {},
   "source": [
    ".. raw:: html\n",
    "\n",
    "    <audio controls=\"controls\" src=\"tune_209_D.flac\" type=\"audio/flac\"></audio><br>\n"
   ]
  },
  {
   "cell_type": "markdown",
   "metadata": {},
   "source": [
    "#### J.S. Bach C-Dur Präludium, BWV 846\n",
    "\n",
    "* Für diese Interpretation wurden die Akkorde des C-Dur Präludium verwendet.\n",
    "* Intervalle und Rythmus mit gesteurtem Zufall generiert.\n",
    "* Klarinette, Kontrabass, 3 Violinen, Orgel\n",
    "* Instrumente spielen nur Akkordtöne\n"
   ]
  },
  {
   "cell_type": "raw",
   "metadata": {},
   "source": [
    ".. raw:: html\n",
    "\n",
    "    <audio controls=\"controls\" src=\"tune_211_A.flac\" type=\"audio/flac\"></audio><br>\n"
   ]
  },
  {
   "cell_type": "markdown",
   "metadata": {},
   "source": [
    "#### Georgia on My Mind\n",
    "\n",
    "* Für diese Interpretation wurden die Akkorde von Georgia on My Mind verwendet.\n",
    "* Intervalle und Rythmus mit gesteurtem Zufall generiert.\n",
    "* Klarinette, Kontrabass, 3 Violinen, Orgel\n",
    "* Instrumente spielen nur Akkordtöne\n",
    "\n"
   ]
  },
  {
   "cell_type": "raw",
   "metadata": {},
   "source": [
    ".. raw:: html\n",
    "\n",
    "    <audio controls=\"controls\" src=\"tune_212_A.flac\" type=\"audio/flac\"></audio><br><br><br><br>\n"
   ]
  },
  {
   "cell_type": "markdown",
   "metadata": {},
   "source": [
    "# 2. Phase: Musik-Strukturen mit Meteodaten zusammenführen"
   ]
  },
  {
   "cell_type": "markdown",
   "metadata": {},
   "source": [
    "#### Wind-Glocken\n",
    "\n",
    "* Wetterdaten: 31.8.2019 um ca. acht Uhr, dauer zwei Tage und acht Stunden\n",
    "* Melodie wird durch Meteodaten generiert:\n",
    "    - Glocken: Windgeschwindikeit\n",
    "    - Violine: Temperatur\n",
    "* Es werden nur C-Moll-Töne gespielt.\n",
    "* Rhythmus mit gesteurtem Zufall erzeugt.\n",
    "\n",
    "Beispiel 1"
   ]
  },
  {
   "cell_type": "raw",
   "metadata": {},
   "source": [
    ".. raw:: html\n",
    "\n",
    "    <audio controls=\"controls\" src=\"tune_U.flac\" type=\"audio/flac\"></audio><br>\n"
   ]
  },
  {
   "cell_type": "markdown",
   "metadata": {},
   "source": [
    "Beipiel 2"
   ]
  },
  {
   "cell_type": "raw",
   "metadata": {},
   "source": [
    ".. raw:: html\n",
    "\n",
    "    <audio controls=\"controls\" src=\"tune_U_2.flac\" type=\"audio/flac\"></audio><br>\n"
   ]
  },
  {
   "cell_type": "markdown",
   "metadata": {},
   "source": [
    "#### Akordfolge mit Meteodaten\n",
    "\n",
    "\n",
    "* Wetterdaten: 27.8.2019 um ca. zehn Uhr, dauer fünf Tage\n",
    "* Melodie wird durch Meteodaten generiert:\n",
    "    - Klarinette: Temperatur\n",
    "    - Fagott: Luftfeuchtigkeit\n",
    "* Akkordfolge: Cm Ab Fm Ddim G7 Cm Fm G7  (es werden nur Akkordtöne gespielt.)\n",
    "* Rhythmus mit gesteurtem Zufall erzeugt.\n"
   ]
  },
  {
   "cell_type": "raw",
   "metadata": {},
   "source": [
    ".. raw:: html\n",
    "\n",
    "    <audio controls=\"controls\" src=\"tune_W.flac\" type=\"audio/flac\"></audio><br>"
   ]
  },
  {
   "cell_type": "markdown",
   "metadata": {},
   "source": [
    "#### Tonartwechsel durch Blitz\n",
    "\n",
    "\n",
    "* Wetterdaten: 3.8.2019 um 14 Uhr, dauer 5 Tage und 3 Stunden\n",
    "* Melodie wird durch Meteodaten generiert:\n",
    "    - Oboe: Luftdruck\n",
    "    - Klarinette: Temperatur\n",
    "    - Glocken: Globalstrahlung\n",
    "        - Globalstrahlung ist Nachts Null\n",
    "        - Nachts wird die Melodie pausiert, da sonst dauern derselbe Ton gespielt würde.\n",
    "* Akkordfolge: Mit dem ersten Blitz wird die Tonart von C-Dur auf C-Moll geändert\n",
    "* Rhythmus:\n",
    "    - Rythmus der Melodie-Instumente mit gesteurtem Zufall erzeugt.\n",
    "    - Die Pauke spielt abwechseln die Töne C und Es in Sechzehntel.\n",
    "    - Die Lautstärke der Pauke wird durch die Regenmenge kontroliert.\n",
    "    - Regnet es nicht ist die Pauke stummgeschaltet.\n",
    "\n"
   ]
  },
  {
   "cell_type": "raw",
   "metadata": {},
   "source": [
    ".. raw:: html\n",
    "\n",
    "    <audio controls=\"controls\" src=\"tune_306_A.flac\" type=\"audio/flac\"></audio><br>"
   ]
  }
 ],
 "metadata": {
  "kernelspec": {
   "display_name": "Python 3",
   "language": "python",
   "name": "python3"
  },
  "language_info": {
   "codemirror_mode": {
    "name": "ipython",
    "version": 3
   },
   "file_extension": ".py",
   "mimetype": "text/x-python",
   "name": "python",
   "nbconvert_exporter": "python",
   "pygments_lexer": "ipython3",
   "version": "3.6.8"
  }
 },
 "nbformat": 4,
 "nbformat_minor": 2
}
